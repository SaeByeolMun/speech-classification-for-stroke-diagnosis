{
 "cells": [
  {
   "cell_type": "markdown",
   "id": "a9fd1ed9",
   "metadata": {},
   "source": [
    "# 22 : 378"
   ]
  },
  {
   "cell_type": "code",
   "execution_count": 1,
   "id": "302e5323",
   "metadata": {},
   "outputs": [
    {
     "name": "stdout",
     "output_type": "stream",
     "text": [
      "/home/gil/gcubme_ai3/Workspace/SB_MUN\n",
      "/home/gil/gcubme_ai3/Workspace/SB_MUN/9_NIA_46_dysarthria/1_source_abstract/models\n"
     ]
    }
   ],
   "source": [
    "import os, glob, pickle, time\n",
    "import numpy as np\n",
    "import pandas as pd\n",
    "\n",
    "import tensorflow as tf\n",
    "from tensorflow.keras import layers\n",
    "from tensorflow.keras.layers import *\n",
    "from tensorflow.keras.models import Model\n",
    "from tensorflow.keras.models import load_model\n",
    "from tensorflow.keras.optimizers import Adam, SGD\n",
    "\n",
    "\n",
    "from sklearn.preprocessing import LabelEncoder\n",
    "from sklearn.model_selection import train_test_split\n",
    "from sklearn.metrics import confusion_matrix\n",
    "from sklearn.utils import shuffle\n",
    "\n",
    "import matplotlib.pyplot as plt\n",
    "\n",
    "from tqdm import tqdm_notebook\n",
    "\n",
    "import sys\n",
    "path = os.path.abspath('../../')\n",
    "print(path)\n",
    "sys.path.append(path)\n",
    "from CommonUtil import *\n",
    "\n",
    "path = os.path.abspath('./models')\n",
    "print(path)\n",
    "sys.path.append(path)\n",
    "import ResNet_1DCNN as res1d\n",
    "import SE_ResNeXt_1DCNN as se_resx1d\n",
    "import Inception_ResNet_1DCNN as in_res1d\n",
    "\n",
    "#os.environ['TF_CPP_MIN_LOG_LEVEL'] = '3'\n",
    "os.environ[\"CUDA_VISIBLE_DEVICES\"]='1'\n",
    "# os.environ[\"CUDA_VISIBLE_DEVICES\"]='2'\n",
    "#mirrored_strategy = tf.distribute.MirroredStrategy()"
   ]
  },
  {
   "cell_type": "code",
   "execution_count": 2,
   "id": "d2b5e2c5",
   "metadata": {},
   "outputs": [],
   "source": [
    "import warnings\n",
    "warnings.filterwarnings(\"ignore\", category=DeprecationWarning) "
   ]
  },
  {
   "cell_type": "code",
   "execution_count": 3,
   "id": "470403e4-730b-4e7c-991c-33ef864c36bf",
   "metadata": {},
   "outputs": [
    {
     "name": "stderr",
     "output_type": "stream",
     "text": [
      "2024-01-13 18:20:53.698691: I tensorflow/core/platform/cpu_feature_guard.cc:142] This TensorFlow binary is optimized with oneAPI Deep Neural Network Library (oneDNN) to use the following CPU instructions in performance-critical operations:  SSE4.1 SSE4.2 AVX AVX2 AVX512F FMA\n",
      "To enable them in other operations, rebuild TensorFlow with the appropriate compiler flags.\n",
      "2024-01-13 18:20:54.264922: I tensorflow/core/common_runtime/gpu/gpu_device.cc:1510] Created device /job:localhost/replica:0/task:0/device:GPU:0 with 22325 MB memory:  -> device: 0, name: NVIDIA RTX A5000, pci bus id: 0000:5e:00.0, compute capability: 8.6\n"
     ]
    }
   ],
   "source": [
    "LEARNING_RATE = 1e-4\n",
    "EPOCHS = 200\n",
    "BATCH_SIZE = 8\n",
    "MODEL_NUM = 4\n",
    "LOSS_FUNCTION = tf.keras.losses.MeanAbsoluteError()\n",
    "LOSS_FUNCTION = 'binary_crossentropy'\n",
    "METRICS = tf.keras.metrics.MeanSquaredError()\n",
    "METRICS = ['accuracy']\n",
    "\n",
    "TRAIN_SPLIT = 17"
   ]
  },
  {
   "cell_type": "code",
   "execution_count": 4,
   "id": "9f24c615",
   "metadata": {},
   "outputs": [],
   "source": [
    "length = 64000\n",
    "model_name = 'ResNet'  # Modified DenseNet\n",
    "model_width = 32  # Width of the Initial Layer, subsequent layers start from here\n",
    "num_channel = 1  # Number of Channels in the Model\n",
    "problem_type = 'Binary' # Classification or Regression\n",
    "output_nums = 1  # Number of Class for Classification Problems, always '1' for Regression Problems\n",
    "cardinality = 8\n",
    "reduction_ratio = 4\n",
    "# Build, Compile and Print Summary\n"
   ]
  },
  {
   "cell_type": "code",
   "execution_count": 5,
   "id": "cd8a0148",
   "metadata": {},
   "outputs": [
    {
     "name": "stdout",
     "output_type": "stream",
     "text": [
      "/home/gil/gcubme_ai3/Workspace/SB_MUN/9_NIA_46_dysarthria/1_source_abstract/data/preproc2\n",
      "/home/gil/gcubme_ai3/Workspace/SB_MUN/9_NIA_46_dysarthria/1_source_abstract/result/ResNet/model\n"
     ]
    }
   ],
   "source": [
    "DATA_PATH = os.path.abspath('./data/preproc2')\n",
    "RESULT_DIR = os.path.abspath(f'./result/{model_name}')\n",
    "MODEL_DIR = RESULT_DIR + '/model'\n",
    "\n",
    "best_model_path = MODEL_DIR + '/best_model.h5'\n",
    "model_path = MODEL_DIR + '/model.h5'\n",
    "\n",
    "createFolder(MODEL_DIR)\n",
    "\n",
    "print(DATA_PATH)\n",
    "print(MODEL_DIR)"
   ]
  },
  {
   "cell_type": "code",
   "execution_count": 6,
   "id": "12137115",
   "metadata": {},
   "outputs": [
    {
     "name": "stdout",
     "output_type": "stream",
     "text": [
      "20000\n",
      "2500\n"
     ]
    }
   ],
   "source": [
    "train_X_csv_list = sorted(glob.glob(f'{DATA_PATH}/train/*.csv'))\n",
    "validation_X_csv_list = sorted(glob.glob(f'{DATA_PATH}/validation/*.csv'))\n",
    "\n",
    "print(len(train_X_csv_list))\n",
    "print(len(validation_X_csv_list))"
   ]
  },
  {
   "cell_type": "code",
   "execution_count": 7,
   "id": "1f0c2495",
   "metadata": {},
   "outputs": [],
   "source": [
    "train_X_npy_list = [csv_path.split('.csv')[0] + '_X.npy' for csv_path in train_X_csv_list]\n",
    "train_Y_npy_list = [csv_path.split('.csv')[0] + '_Y.npy' for csv_path in train_X_csv_list]\n",
    "validation_X_npy_list = [csv_path.split('.csv')[0] + '_X.npy' for csv_path in validation_X_csv_list]\n",
    "validation_Y_npy_list = [csv_path.split('.csv')[0] + '_Y.npy' for csv_path in validation_X_csv_list]\n"
   ]
  },
  {
   "cell_type": "code",
   "execution_count": 8,
   "id": "e224bf9b",
   "metadata": {},
   "outputs": [],
   "source": [
    "train_X_npy_list, train_Y_npy_list = shuffle(train_X_npy_list, train_Y_npy_list)\n",
    "validation_X_npy_list, validation_Y_npy_list = shuffle(validation_X_npy_list, validation_Y_npy_list)\n"
   ]
  },
  {
   "cell_type": "code",
   "execution_count": 9,
   "id": "d28be1a9",
   "metadata": {},
   "outputs": [],
   "source": [
    "\n",
    "def npy_load(X_path_list:list, Y_path_list:list):\n",
    "    print(f'Total data len : {len(X_path_list)}')\n",
    "    \n",
    "    X_data = []\n",
    "    Y_data = []\n",
    "    data_paths = []\n",
    "    \n",
    "    for a in tqdm_notebook(range(len(X_path_list))):\n",
    "#     for a in range(5):\n",
    "        X_path = X_path_list[a]\n",
    "        Y_path = Y_path_list[a]\n",
    "    \n",
    "#         print(f'{a}/{len(X_path_list)}\\t==> {X_path}')\n",
    "        \n",
    "        X_npy = np.load(X_path)\n",
    "        Y_npy = np.load(Y_path)\n",
    "    \n",
    "        X_data.extend(X_npy)\n",
    "        Y_data.extend(Y_npy)\n",
    "        data_paths.append(X_path)\n",
    "        \n",
    "    X_data, Y_data = shuffle(X_data, Y_data)\n",
    "    \n",
    "    X_data = np.array(X_data)\n",
    "    Y_data = np.array(Y_data)\n",
    "    X_data = np.expand_dims(X_data, axis=-1)\n",
    "    Y_data = np.expand_dims(Y_data, axis=-1)\n",
    "    print(\"X_data shape: \", X_data.shape, \"\\t Y_data shape: \", Y_data.shape)\n",
    "    \n",
    "    return X_data, Y_data # ,data_paths"
   ]
  },
  {
   "cell_type": "code",
   "execution_count": 10,
   "id": "5f8de78f",
   "metadata": {},
   "outputs": [
    {
     "name": "stdout",
     "output_type": "stream",
     "text": [
      "Total data len : 20000\n"
     ]
    },
    {
     "data": {
      "application/vnd.jupyter.widget-view+json": {
       "model_id": "a71c9c35ae7744ce84a9da84d3aee062",
       "version_major": 2,
       "version_minor": 0
      },
      "text/plain": [
       "  0%|          | 0/20000 [00:00<?, ?it/s]"
      ]
     },
     "metadata": {},
     "output_type": "display_data"
    },
    {
     "name": "stdout",
     "output_type": "stream",
     "text": [
      "X_data shape:  (37407, 64000, 1) \t Y_data shape:  (37407, 1)\n",
      "Total data len : 2500\n"
     ]
    },
    {
     "data": {
      "application/vnd.jupyter.widget-view+json": {
       "model_id": "790f501458364c01a8093650edaff60a",
       "version_major": 2,
       "version_minor": 0
      },
      "text/plain": [
       "  0%|          | 0/2500 [00:00<?, ?it/s]"
      ]
     },
     "metadata": {},
     "output_type": "display_data"
    },
    {
     "name": "stdout",
     "output_type": "stream",
     "text": [
      "X_data shape:  (4801, 64000, 1) \t Y_data shape:  (4801, 1)\n"
     ]
    }
   ],
   "source": [
    "train_X, train_Y = npy_load(train_X_npy_list, train_Y_npy_list)\n",
    "validation_X, validation_Y = npy_load(validation_X_npy_list, validation_Y_npy_list)\n"
   ]
  },
  {
   "cell_type": "code",
   "execution_count": 11,
   "id": "1ff5b207",
   "metadata": {},
   "outputs": [
    {
     "name": "stdout",
     "output_type": "stream",
     "text": [
      "24462\n",
      "12945\n",
      "==================================================\n",
      "2889\n",
      "1912\n",
      "==================================================\n"
     ]
    }
   ],
   "source": [
    "\n",
    "print(list(train_Y).count(0))\n",
    "print(list(train_Y).count(1))\n",
    "print('='*50)\n",
    "print(list(validation_Y).count(0))\n",
    "print(list(validation_Y).count(1))\n",
    "print('='*50)"
   ]
  },
  {
   "cell_type": "markdown",
   "id": "f52e8e22",
   "metadata": {},
   "source": [
    "# Model load"
   ]
  },
  {
   "cell_type": "code",
   "execution_count": 12,
   "id": "4df80b08",
   "metadata": {},
   "outputs": [
    {
     "name": "stdout",
     "output_type": "stream",
     "text": [
      "Model: \"model\"\n",
      "__________________________________________________________________________________________________\n",
      "Layer (type)                    Output Shape         Param #     Connected to                     \n",
      "==================================================================================================\n",
      "input_1 (InputLayer)            [(None, 64000, 1)]   0                                            \n",
      "__________________________________________________________________________________________________\n",
      "conv1d (Conv1D)                 (None, 32000, 32)    256         input_1[0][0]                    \n",
      "__________________________________________________________________________________________________\n",
      "batch_normalization (BatchNorma (None, 32000, 32)    128         conv1d[0][0]                     \n",
      "__________________________________________________________________________________________________\n",
      "activation (Activation)         (None, 32000, 32)    0           batch_normalization[0][0]        \n",
      "__________________________________________________________________________________________________\n",
      "max_pooling1d (MaxPooling1D)    (None, 16000, 32)    0           activation[0][0]                 \n",
      "__________________________________________________________________________________________________\n",
      "conv1d_2 (Conv1D)               (None, 16000, 32)    1056        max_pooling1d[0][0]              \n",
      "__________________________________________________________________________________________________\n",
      "batch_normalization_2 (BatchNor (None, 16000, 32)    128         conv1d_2[0][0]                   \n",
      "__________________________________________________________________________________________________\n",
      "activation_2 (Activation)       (None, 16000, 32)    0           batch_normalization_2[0][0]      \n",
      "__________________________________________________________________________________________________\n",
      "conv1d_3 (Conv1D)               (None, 16000, 32)    3104        activation_2[0][0]               \n",
      "__________________________________________________________________________________________________\n",
      "batch_normalization_3 (BatchNor (None, 16000, 32)    128         conv1d_3[0][0]                   \n",
      "__________________________________________________________________________________________________\n",
      "activation_3 (Activation)       (None, 16000, 32)    0           batch_normalization_3[0][0]      \n",
      "__________________________________________________________________________________________________\n",
      "conv1d_4 (Conv1D)               (None, 16000, 128)   4224        activation_3[0][0]               \n",
      "__________________________________________________________________________________________________\n",
      "conv1d_1 (Conv1D)               (None, 16000, 128)   4224        max_pooling1d[0][0]              \n",
      "__________________________________________________________________________________________________\n",
      "batch_normalization_4 (BatchNor (None, 16000, 128)   512         conv1d_4[0][0]                   \n",
      "__________________________________________________________________________________________________\n",
      "batch_normalization_1 (BatchNor (None, 16000, 128)   512         conv1d_1[0][0]                   \n",
      "__________________________________________________________________________________________________\n",
      "activation_4 (Activation)       (None, 16000, 128)   0           batch_normalization_4[0][0]      \n",
      "__________________________________________________________________________________________________\n",
      "activation_1 (Activation)       (None, 16000, 128)   0           batch_normalization_1[0][0]      \n",
      "__________________________________________________________________________________________________\n",
      "add (Add)                       (None, 16000, 128)   0           activation_4[0][0]               \n",
      "                                                                 activation_1[0][0]               \n",
      "__________________________________________________________________________________________________\n",
      "activation_5 (Activation)       (None, 16000, 128)   0           add[0][0]                        \n",
      "__________________________________________________________________________________________________\n",
      "conv1d_6 (Conv1D)               (None, 16000, 32)    4128        activation_5[0][0]               \n",
      "__________________________________________________________________________________________________\n",
      "batch_normalization_6 (BatchNor (None, 16000, 32)    128         conv1d_6[0][0]                   \n",
      "__________________________________________________________________________________________________\n",
      "activation_7 (Activation)       (None, 16000, 32)    0           batch_normalization_6[0][0]      \n",
      "__________________________________________________________________________________________________\n",
      "conv1d_7 (Conv1D)               (None, 16000, 32)    3104        activation_7[0][0]               \n",
      "__________________________________________________________________________________________________\n",
      "batch_normalization_7 (BatchNor (None, 16000, 32)    128         conv1d_7[0][0]                   \n",
      "__________________________________________________________________________________________________\n",
      "activation_8 (Activation)       (None, 16000, 32)    0           batch_normalization_7[0][0]      \n",
      "__________________________________________________________________________________________________\n",
      "conv1d_8 (Conv1D)               (None, 16000, 128)   4224        activation_8[0][0]               \n",
      "__________________________________________________________________________________________________\n",
      "conv1d_5 (Conv1D)               (None, 16000, 128)   16512       activation_5[0][0]               \n",
      "__________________________________________________________________________________________________\n",
      "batch_normalization_8 (BatchNor (None, 16000, 128)   512         conv1d_8[0][0]                   \n",
      "__________________________________________________________________________________________________\n",
      "batch_normalization_5 (BatchNor (None, 16000, 128)   512         conv1d_5[0][0]                   \n",
      "__________________________________________________________________________________________________\n",
      "activation_9 (Activation)       (None, 16000, 128)   0           batch_normalization_8[0][0]      \n",
      "__________________________________________________________________________________________________\n",
      "activation_6 (Activation)       (None, 16000, 128)   0           batch_normalization_5[0][0]      \n",
      "__________________________________________________________________________________________________\n",
      "add_1 (Add)                     (None, 16000, 128)   0           activation_9[0][0]               \n",
      "                                                                 activation_6[0][0]               \n",
      "__________________________________________________________________________________________________\n",
      "activation_10 (Activation)      (None, 16000, 128)   0           add_1[0][0]                      \n",
      "__________________________________________________________________________________________________\n",
      "conv1d_10 (Conv1D)              (None, 16000, 32)    4128        activation_10[0][0]              \n",
      "__________________________________________________________________________________________________\n",
      "batch_normalization_10 (BatchNo (None, 16000, 32)    128         conv1d_10[0][0]                  \n",
      "__________________________________________________________________________________________________\n",
      "activation_12 (Activation)      (None, 16000, 32)    0           batch_normalization_10[0][0]     \n",
      "__________________________________________________________________________________________________\n",
      "conv1d_11 (Conv1D)              (None, 16000, 32)    3104        activation_12[0][0]              \n",
      "__________________________________________________________________________________________________\n",
      "batch_normalization_11 (BatchNo (None, 16000, 32)    128         conv1d_11[0][0]                  \n",
      "__________________________________________________________________________________________________\n",
      "activation_13 (Activation)      (None, 16000, 32)    0           batch_normalization_11[0][0]     \n",
      "__________________________________________________________________________________________________\n",
      "conv1d_12 (Conv1D)              (None, 16000, 128)   4224        activation_13[0][0]              \n",
      "__________________________________________________________________________________________________\n",
      "conv1d_9 (Conv1D)               (None, 16000, 128)   16512       activation_10[0][0]              \n",
      "__________________________________________________________________________________________________\n",
      "batch_normalization_12 (BatchNo (None, 16000, 128)   512         conv1d_12[0][0]                  \n",
      "__________________________________________________________________________________________________\n",
      "batch_normalization_9 (BatchNor (None, 16000, 128)   512         conv1d_9[0][0]                   \n",
      "__________________________________________________________________________________________________\n",
      "activation_14 (Activation)      (None, 16000, 128)   0           batch_normalization_12[0][0]     \n",
      "__________________________________________________________________________________________________\n",
      "activation_11 (Activation)      (None, 16000, 128)   0           batch_normalization_9[0][0]      \n",
      "__________________________________________________________________________________________________\n",
      "add_2 (Add)                     (None, 16000, 128)   0           activation_14[0][0]              \n",
      "                                                                 activation_11[0][0]              \n",
      "__________________________________________________________________________________________________\n",
      "activation_15 (Activation)      (None, 16000, 128)   0           add_2[0][0]                      \n",
      "__________________________________________________________________________________________________\n",
      "conv1d_13 (Conv1D)              (None, 8000, 64)     24640       activation_15[0][0]              \n",
      "__________________________________________________________________________________________________\n",
      "batch_normalization_13 (BatchNo (None, 8000, 64)     256         conv1d_13[0][0]                  \n",
      "__________________________________________________________________________________________________\n",
      "activation_16 (Activation)      (None, 8000, 64)     0           batch_normalization_13[0][0]     \n",
      "__________________________________________________________________________________________________\n",
      "conv1d_14 (Conv1D)              (None, 8000, 64)     12352       activation_16[0][0]              \n",
      "__________________________________________________________________________________________________\n",
      "batch_normalization_14 (BatchNo (None, 8000, 64)     256         conv1d_14[0][0]                  \n",
      "__________________________________________________________________________________________________\n",
      "activation_17 (Activation)      (None, 8000, 64)     0           batch_normalization_14[0][0]     \n",
      "__________________________________________________________________________________________________\n",
      "conv1d_16 (Conv1D)              (None, 8000, 64)     4160        activation_17[0][0]              \n",
      "__________________________________________________________________________________________________\n",
      "batch_normalization_16 (BatchNo (None, 8000, 64)     256         conv1d_16[0][0]                  \n",
      "__________________________________________________________________________________________________\n",
      "activation_19 (Activation)      (None, 8000, 64)     0           batch_normalization_16[0][0]     \n",
      "__________________________________________________________________________________________________\n",
      "conv1d_17 (Conv1D)              (None, 8000, 64)     12352       activation_19[0][0]              \n",
      "__________________________________________________________________________________________________\n",
      "batch_normalization_17 (BatchNo (None, 8000, 64)     256         conv1d_17[0][0]                  \n",
      "__________________________________________________________________________________________________\n",
      "activation_20 (Activation)      (None, 8000, 64)     0           batch_normalization_17[0][0]     \n",
      "__________________________________________________________________________________________________\n",
      "conv1d_18 (Conv1D)              (None, 8000, 256)    16640       activation_20[0][0]              \n",
      "__________________________________________________________________________________________________\n",
      "conv1d_15 (Conv1D)              (None, 8000, 256)    16640       activation_17[0][0]              \n",
      "__________________________________________________________________________________________________\n",
      "batch_normalization_18 (BatchNo (None, 8000, 256)    1024        conv1d_18[0][0]                  \n",
      "__________________________________________________________________________________________________\n",
      "batch_normalization_15 (BatchNo (None, 8000, 256)    1024        conv1d_15[0][0]                  \n",
      "__________________________________________________________________________________________________\n",
      "activation_21 (Activation)      (None, 8000, 256)    0           batch_normalization_18[0][0]     \n",
      "__________________________________________________________________________________________________\n",
      "activation_18 (Activation)      (None, 8000, 256)    0           batch_normalization_15[0][0]     \n",
      "__________________________________________________________________________________________________\n",
      "add_3 (Add)                     (None, 8000, 256)    0           activation_21[0][0]              \n",
      "                                                                 activation_18[0][0]              \n",
      "__________________________________________________________________________________________________\n",
      "activation_22 (Activation)      (None, 8000, 256)    0           add_3[0][0]                      \n",
      "__________________________________________________________________________________________________\n",
      "conv1d_20 (Conv1D)              (None, 8000, 64)     16448       activation_22[0][0]              \n",
      "__________________________________________________________________________________________________\n",
      "batch_normalization_20 (BatchNo (None, 8000, 64)     256         conv1d_20[0][0]                  \n",
      "__________________________________________________________________________________________________\n",
      "activation_24 (Activation)      (None, 8000, 64)     0           batch_normalization_20[0][0]     \n",
      "__________________________________________________________________________________________________\n",
      "conv1d_21 (Conv1D)              (None, 8000, 64)     12352       activation_24[0][0]              \n",
      "__________________________________________________________________________________________________\n",
      "batch_normalization_21 (BatchNo (None, 8000, 64)     256         conv1d_21[0][0]                  \n",
      "__________________________________________________________________________________________________\n",
      "activation_25 (Activation)      (None, 8000, 64)     0           batch_normalization_21[0][0]     \n",
      "__________________________________________________________________________________________________\n",
      "conv1d_22 (Conv1D)              (None, 8000, 256)    16640       activation_25[0][0]              \n",
      "__________________________________________________________________________________________________\n",
      "conv1d_19 (Conv1D)              (None, 8000, 256)    65792       activation_22[0][0]              \n",
      "__________________________________________________________________________________________________\n",
      "batch_normalization_22 (BatchNo (None, 8000, 256)    1024        conv1d_22[0][0]                  \n",
      "__________________________________________________________________________________________________\n",
      "batch_normalization_19 (BatchNo (None, 8000, 256)    1024        conv1d_19[0][0]                  \n",
      "__________________________________________________________________________________________________\n",
      "activation_26 (Activation)      (None, 8000, 256)    0           batch_normalization_22[0][0]     \n",
      "__________________________________________________________________________________________________\n",
      "activation_23 (Activation)      (None, 8000, 256)    0           batch_normalization_19[0][0]     \n",
      "__________________________________________________________________________________________________\n",
      "add_4 (Add)                     (None, 8000, 256)    0           activation_26[0][0]              \n",
      "                                                                 activation_23[0][0]              \n",
      "__________________________________________________________________________________________________\n",
      "activation_27 (Activation)      (None, 8000, 256)    0           add_4[0][0]                      \n",
      "__________________________________________________________________________________________________\n",
      "conv1d_24 (Conv1D)              (None, 8000, 64)     16448       activation_27[0][0]              \n",
      "__________________________________________________________________________________________________\n",
      "batch_normalization_24 (BatchNo (None, 8000, 64)     256         conv1d_24[0][0]                  \n",
      "__________________________________________________________________________________________________\n",
      "activation_29 (Activation)      (None, 8000, 64)     0           batch_normalization_24[0][0]     \n",
      "__________________________________________________________________________________________________\n",
      "conv1d_25 (Conv1D)              (None, 8000, 64)     12352       activation_29[0][0]              \n",
      "__________________________________________________________________________________________________\n",
      "batch_normalization_25 (BatchNo (None, 8000, 64)     256         conv1d_25[0][0]                  \n",
      "__________________________________________________________________________________________________\n",
      "activation_30 (Activation)      (None, 8000, 64)     0           batch_normalization_25[0][0]     \n",
      "__________________________________________________________________________________________________\n",
      "conv1d_26 (Conv1D)              (None, 8000, 256)    16640       activation_30[0][0]              \n",
      "__________________________________________________________________________________________________\n",
      "conv1d_23 (Conv1D)              (None, 8000, 256)    65792       activation_27[0][0]              \n",
      "__________________________________________________________________________________________________\n",
      "batch_normalization_26 (BatchNo (None, 8000, 256)    1024        conv1d_26[0][0]                  \n",
      "__________________________________________________________________________________________________\n",
      "batch_normalization_23 (BatchNo (None, 8000, 256)    1024        conv1d_23[0][0]                  \n",
      "__________________________________________________________________________________________________\n",
      "activation_31 (Activation)      (None, 8000, 256)    0           batch_normalization_26[0][0]     \n",
      "__________________________________________________________________________________________________\n",
      "activation_28 (Activation)      (None, 8000, 256)    0           batch_normalization_23[0][0]     \n",
      "__________________________________________________________________________________________________\n",
      "add_5 (Add)                     (None, 8000, 256)    0           activation_31[0][0]              \n",
      "                                                                 activation_28[0][0]              \n",
      "__________________________________________________________________________________________________\n",
      "activation_32 (Activation)      (None, 8000, 256)    0           add_5[0][0]                      \n",
      "__________________________________________________________________________________________________\n",
      "conv1d_27 (Conv1D)              (None, 4000, 128)    98432       activation_32[0][0]              \n",
      "__________________________________________________________________________________________________\n",
      "batch_normalization_27 (BatchNo (None, 4000, 128)    512         conv1d_27[0][0]                  \n",
      "__________________________________________________________________________________________________\n",
      "activation_33 (Activation)      (None, 4000, 128)    0           batch_normalization_27[0][0]     \n",
      "__________________________________________________________________________________________________\n",
      "conv1d_28 (Conv1D)              (None, 4000, 128)    49280       activation_33[0][0]              \n",
      "__________________________________________________________________________________________________\n",
      "batch_normalization_28 (BatchNo (None, 4000, 128)    512         conv1d_28[0][0]                  \n",
      "__________________________________________________________________________________________________\n",
      "activation_34 (Activation)      (None, 4000, 128)    0           batch_normalization_28[0][0]     \n",
      "__________________________________________________________________________________________________\n",
      "conv1d_30 (Conv1D)              (None, 4000, 128)    16512       activation_34[0][0]              \n",
      "__________________________________________________________________________________________________\n",
      "batch_normalization_30 (BatchNo (None, 4000, 128)    512         conv1d_30[0][0]                  \n",
      "__________________________________________________________________________________________________\n",
      "activation_36 (Activation)      (None, 4000, 128)    0           batch_normalization_30[0][0]     \n",
      "__________________________________________________________________________________________________\n",
      "conv1d_31 (Conv1D)              (None, 4000, 128)    49280       activation_36[0][0]              \n",
      "__________________________________________________________________________________________________\n",
      "batch_normalization_31 (BatchNo (None, 4000, 128)    512         conv1d_31[0][0]                  \n",
      "__________________________________________________________________________________________________\n",
      "activation_37 (Activation)      (None, 4000, 128)    0           batch_normalization_31[0][0]     \n",
      "__________________________________________________________________________________________________\n",
      "conv1d_32 (Conv1D)              (None, 4000, 512)    66048       activation_37[0][0]              \n",
      "__________________________________________________________________________________________________\n",
      "conv1d_29 (Conv1D)              (None, 4000, 512)    66048       activation_34[0][0]              \n",
      "__________________________________________________________________________________________________\n",
      "batch_normalization_32 (BatchNo (None, 4000, 512)    2048        conv1d_32[0][0]                  \n",
      "__________________________________________________________________________________________________\n",
      "batch_normalization_29 (BatchNo (None, 4000, 512)    2048        conv1d_29[0][0]                  \n",
      "__________________________________________________________________________________________________\n",
      "activation_38 (Activation)      (None, 4000, 512)    0           batch_normalization_32[0][0]     \n",
      "__________________________________________________________________________________________________\n",
      "activation_35 (Activation)      (None, 4000, 512)    0           batch_normalization_29[0][0]     \n",
      "__________________________________________________________________________________________________\n",
      "add_6 (Add)                     (None, 4000, 512)    0           activation_38[0][0]              \n",
      "                                                                 activation_35[0][0]              \n",
      "__________________________________________________________________________________________________\n",
      "activation_39 (Activation)      (None, 4000, 512)    0           add_6[0][0]                      \n",
      "__________________________________________________________________________________________________\n",
      "conv1d_34 (Conv1D)              (None, 4000, 128)    65664       activation_39[0][0]              \n",
      "__________________________________________________________________________________________________\n",
      "batch_normalization_34 (BatchNo (None, 4000, 128)    512         conv1d_34[0][0]                  \n",
      "__________________________________________________________________________________________________\n",
      "activation_41 (Activation)      (None, 4000, 128)    0           batch_normalization_34[0][0]     \n",
      "__________________________________________________________________________________________________\n",
      "conv1d_35 (Conv1D)              (None, 4000, 128)    49280       activation_41[0][0]              \n",
      "__________________________________________________________________________________________________\n",
      "batch_normalization_35 (BatchNo (None, 4000, 128)    512         conv1d_35[0][0]                  \n",
      "__________________________________________________________________________________________________\n",
      "activation_42 (Activation)      (None, 4000, 128)    0           batch_normalization_35[0][0]     \n",
      "__________________________________________________________________________________________________\n",
      "conv1d_36 (Conv1D)              (None, 4000, 512)    66048       activation_42[0][0]              \n",
      "__________________________________________________________________________________________________\n",
      "conv1d_33 (Conv1D)              (None, 4000, 512)    262656      activation_39[0][0]              \n",
      "__________________________________________________________________________________________________\n",
      "batch_normalization_36 (BatchNo (None, 4000, 512)    2048        conv1d_36[0][0]                  \n",
      "__________________________________________________________________________________________________\n",
      "batch_normalization_33 (BatchNo (None, 4000, 512)    2048        conv1d_33[0][0]                  \n",
      "__________________________________________________________________________________________________\n",
      "activation_43 (Activation)      (None, 4000, 512)    0           batch_normalization_36[0][0]     \n",
      "__________________________________________________________________________________________________\n",
      "activation_40 (Activation)      (None, 4000, 512)    0           batch_normalization_33[0][0]     \n",
      "__________________________________________________________________________________________________\n",
      "add_7 (Add)                     (None, 4000, 512)    0           activation_43[0][0]              \n",
      "                                                                 activation_40[0][0]              \n",
      "__________________________________________________________________________________________________\n",
      "activation_44 (Activation)      (None, 4000, 512)    0           add_7[0][0]                      \n",
      "__________________________________________________________________________________________________\n",
      "conv1d_38 (Conv1D)              (None, 4000, 128)    65664       activation_44[0][0]              \n",
      "__________________________________________________________________________________________________\n",
      "batch_normalization_38 (BatchNo (None, 4000, 128)    512         conv1d_38[0][0]                  \n",
      "__________________________________________________________________________________________________\n",
      "activation_46 (Activation)      (None, 4000, 128)    0           batch_normalization_38[0][0]     \n",
      "__________________________________________________________________________________________________\n",
      "conv1d_39 (Conv1D)              (None, 4000, 128)    49280       activation_46[0][0]              \n",
      "__________________________________________________________________________________________________\n",
      "batch_normalization_39 (BatchNo (None, 4000, 128)    512         conv1d_39[0][0]                  \n",
      "__________________________________________________________________________________________________\n",
      "activation_47 (Activation)      (None, 4000, 128)    0           batch_normalization_39[0][0]     \n",
      "__________________________________________________________________________________________________\n",
      "conv1d_40 (Conv1D)              (None, 4000, 512)    66048       activation_47[0][0]              \n",
      "__________________________________________________________________________________________________\n",
      "conv1d_37 (Conv1D)              (None, 4000, 512)    262656      activation_44[0][0]              \n",
      "__________________________________________________________________________________________________\n",
      "batch_normalization_40 (BatchNo (None, 4000, 512)    2048        conv1d_40[0][0]                  \n",
      "__________________________________________________________________________________________________\n",
      "batch_normalization_37 (BatchNo (None, 4000, 512)    2048        conv1d_37[0][0]                  \n",
      "__________________________________________________________________________________________________\n",
      "activation_48 (Activation)      (None, 4000, 512)    0           batch_normalization_40[0][0]     \n",
      "__________________________________________________________________________________________________\n",
      "activation_45 (Activation)      (None, 4000, 512)    0           batch_normalization_37[0][0]     \n",
      "__________________________________________________________________________________________________\n",
      "add_8 (Add)                     (None, 4000, 512)    0           activation_48[0][0]              \n",
      "                                                                 activation_45[0][0]              \n",
      "__________________________________________________________________________________________________\n",
      "activation_49 (Activation)      (None, 4000, 512)    0           add_8[0][0]                      \n",
      "__________________________________________________________________________________________________\n",
      "conv1d_42 (Conv1D)              (None, 4000, 128)    65664       activation_49[0][0]              \n",
      "__________________________________________________________________________________________________\n",
      "batch_normalization_42 (BatchNo (None, 4000, 128)    512         conv1d_42[0][0]                  \n",
      "__________________________________________________________________________________________________\n",
      "activation_51 (Activation)      (None, 4000, 128)    0           batch_normalization_42[0][0]     \n",
      "__________________________________________________________________________________________________\n",
      "conv1d_43 (Conv1D)              (None, 4000, 128)    49280       activation_51[0][0]              \n",
      "__________________________________________________________________________________________________\n",
      "batch_normalization_43 (BatchNo (None, 4000, 128)    512         conv1d_43[0][0]                  \n",
      "__________________________________________________________________________________________________\n",
      "activation_52 (Activation)      (None, 4000, 128)    0           batch_normalization_43[0][0]     \n",
      "__________________________________________________________________________________________________\n",
      "conv1d_44 (Conv1D)              (None, 4000, 512)    66048       activation_52[0][0]              \n",
      "__________________________________________________________________________________________________\n",
      "conv1d_41 (Conv1D)              (None, 4000, 512)    262656      activation_49[0][0]              \n",
      "__________________________________________________________________________________________________\n",
      "batch_normalization_44 (BatchNo (None, 4000, 512)    2048        conv1d_44[0][0]                  \n",
      "__________________________________________________________________________________________________\n",
      "batch_normalization_41 (BatchNo (None, 4000, 512)    2048        conv1d_41[0][0]                  \n",
      "__________________________________________________________________________________________________\n",
      "activation_53 (Activation)      (None, 4000, 512)    0           batch_normalization_44[0][0]     \n",
      "__________________________________________________________________________________________________\n",
      "activation_50 (Activation)      (None, 4000, 512)    0           batch_normalization_41[0][0]     \n",
      "__________________________________________________________________________________________________\n",
      "add_9 (Add)                     (None, 4000, 512)    0           activation_53[0][0]              \n",
      "                                                                 activation_50[0][0]              \n",
      "__________________________________________________________________________________________________\n",
      "activation_54 (Activation)      (None, 4000, 512)    0           add_9[0][0]                      \n",
      "__________________________________________________________________________________________________\n",
      "conv1d_46 (Conv1D)              (None, 4000, 128)    65664       activation_54[0][0]              \n",
      "__________________________________________________________________________________________________\n",
      "batch_normalization_46 (BatchNo (None, 4000, 128)    512         conv1d_46[0][0]                  \n",
      "__________________________________________________________________________________________________\n",
      "activation_56 (Activation)      (None, 4000, 128)    0           batch_normalization_46[0][0]     \n",
      "__________________________________________________________________________________________________\n",
      "conv1d_47 (Conv1D)              (None, 4000, 128)    49280       activation_56[0][0]              \n",
      "__________________________________________________________________________________________________\n",
      "batch_normalization_47 (BatchNo (None, 4000, 128)    512         conv1d_47[0][0]                  \n",
      "__________________________________________________________________________________________________\n",
      "activation_57 (Activation)      (None, 4000, 128)    0           batch_normalization_47[0][0]     \n",
      "__________________________________________________________________________________________________\n",
      "conv1d_48 (Conv1D)              (None, 4000, 512)    66048       activation_57[0][0]              \n",
      "__________________________________________________________________________________________________\n",
      "conv1d_45 (Conv1D)              (None, 4000, 512)    262656      activation_54[0][0]              \n",
      "__________________________________________________________________________________________________\n",
      "batch_normalization_48 (BatchNo (None, 4000, 512)    2048        conv1d_48[0][0]                  \n",
      "__________________________________________________________________________________________________\n",
      "batch_normalization_45 (BatchNo (None, 4000, 512)    2048        conv1d_45[0][0]                  \n",
      "__________________________________________________________________________________________________\n",
      "activation_58 (Activation)      (None, 4000, 512)    0           batch_normalization_48[0][0]     \n",
      "__________________________________________________________________________________________________\n",
      "activation_55 (Activation)      (None, 4000, 512)    0           batch_normalization_45[0][0]     \n",
      "__________________________________________________________________________________________________\n",
      "add_10 (Add)                    (None, 4000, 512)    0           activation_58[0][0]              \n",
      "                                                                 activation_55[0][0]              \n",
      "__________________________________________________________________________________________________\n",
      "activation_59 (Activation)      (None, 4000, 512)    0           add_10[0][0]                     \n",
      "__________________________________________________________________________________________________\n",
      "conv1d_49 (Conv1D)              (None, 2000, 256)    393472      activation_59[0][0]              \n",
      "__________________________________________________________________________________________________\n",
      "batch_normalization_49 (BatchNo (None, 2000, 256)    1024        conv1d_49[0][0]                  \n",
      "__________________________________________________________________________________________________\n",
      "activation_60 (Activation)      (None, 2000, 256)    0           batch_normalization_49[0][0]     \n",
      "__________________________________________________________________________________________________\n",
      "conv1d_50 (Conv1D)              (None, 2000, 256)    196864      activation_60[0][0]              \n",
      "__________________________________________________________________________________________________\n",
      "batch_normalization_50 (BatchNo (None, 2000, 256)    1024        conv1d_50[0][0]                  \n",
      "__________________________________________________________________________________________________\n",
      "activation_61 (Activation)      (None, 2000, 256)    0           batch_normalization_50[0][0]     \n",
      "__________________________________________________________________________________________________\n",
      "conv1d_52 (Conv1D)              (None, 2000, 256)    65792       activation_61[0][0]              \n",
      "__________________________________________________________________________________________________\n",
      "batch_normalization_52 (BatchNo (None, 2000, 256)    1024        conv1d_52[0][0]                  \n",
      "__________________________________________________________________________________________________\n",
      "activation_63 (Activation)      (None, 2000, 256)    0           batch_normalization_52[0][0]     \n",
      "__________________________________________________________________________________________________\n",
      "conv1d_53 (Conv1D)              (None, 2000, 256)    196864      activation_63[0][0]              \n",
      "__________________________________________________________________________________________________\n",
      "batch_normalization_53 (BatchNo (None, 2000, 256)    1024        conv1d_53[0][0]                  \n",
      "__________________________________________________________________________________________________\n",
      "activation_64 (Activation)      (None, 2000, 256)    0           batch_normalization_53[0][0]     \n",
      "__________________________________________________________________________________________________\n",
      "conv1d_54 (Conv1D)              (None, 2000, 1024)   263168      activation_64[0][0]              \n",
      "__________________________________________________________________________________________________\n",
      "conv1d_51 (Conv1D)              (None, 2000, 1024)   263168      activation_61[0][0]              \n",
      "__________________________________________________________________________________________________\n",
      "batch_normalization_54 (BatchNo (None, 2000, 1024)   4096        conv1d_54[0][0]                  \n",
      "__________________________________________________________________________________________________\n",
      "batch_normalization_51 (BatchNo (None, 2000, 1024)   4096        conv1d_51[0][0]                  \n",
      "__________________________________________________________________________________________________\n",
      "activation_65 (Activation)      (None, 2000, 1024)   0           batch_normalization_54[0][0]     \n",
      "__________________________________________________________________________________________________\n",
      "activation_62 (Activation)      (None, 2000, 1024)   0           batch_normalization_51[0][0]     \n",
      "__________________________________________________________________________________________________\n",
      "add_11 (Add)                    (None, 2000, 1024)   0           activation_65[0][0]              \n",
      "                                                                 activation_62[0][0]              \n",
      "__________________________________________________________________________________________________\n",
      "activation_66 (Activation)      (None, 2000, 1024)   0           add_11[0][0]                     \n",
      "__________________________________________________________________________________________________\n",
      "conv1d_56 (Conv1D)              (None, 2000, 256)    262400      activation_66[0][0]              \n",
      "__________________________________________________________________________________________________\n",
      "batch_normalization_56 (BatchNo (None, 2000, 256)    1024        conv1d_56[0][0]                  \n",
      "__________________________________________________________________________________________________\n",
      "activation_68 (Activation)      (None, 2000, 256)    0           batch_normalization_56[0][0]     \n",
      "__________________________________________________________________________________________________\n",
      "conv1d_57 (Conv1D)              (None, 2000, 256)    196864      activation_68[0][0]              \n",
      "__________________________________________________________________________________________________\n",
      "batch_normalization_57 (BatchNo (None, 2000, 256)    1024        conv1d_57[0][0]                  \n",
      "__________________________________________________________________________________________________\n",
      "activation_69 (Activation)      (None, 2000, 256)    0           batch_normalization_57[0][0]     \n",
      "__________________________________________________________________________________________________\n",
      "conv1d_58 (Conv1D)              (None, 2000, 1024)   263168      activation_69[0][0]              \n",
      "__________________________________________________________________________________________________\n",
      "conv1d_55 (Conv1D)              (None, 2000, 1024)   1049600     activation_66[0][0]              \n",
      "__________________________________________________________________________________________________\n",
      "batch_normalization_58 (BatchNo (None, 2000, 1024)   4096        conv1d_58[0][0]                  \n",
      "__________________________________________________________________________________________________\n",
      "batch_normalization_55 (BatchNo (None, 2000, 1024)   4096        conv1d_55[0][0]                  \n",
      "__________________________________________________________________________________________________\n",
      "activation_70 (Activation)      (None, 2000, 1024)   0           batch_normalization_58[0][0]     \n",
      "__________________________________________________________________________________________________\n",
      "activation_67 (Activation)      (None, 2000, 1024)   0           batch_normalization_55[0][0]     \n",
      "__________________________________________________________________________________________________\n",
      "add_12 (Add)                    (None, 2000, 1024)   0           activation_70[0][0]              \n",
      "                                                                 activation_67[0][0]              \n",
      "__________________________________________________________________________________________________\n",
      "activation_71 (Activation)      (None, 2000, 1024)   0           add_12[0][0]                     \n",
      "__________________________________________________________________________________________________\n",
      "global_average_pooling1d (Globa (None, 1024)         0           activation_71[0][0]              \n",
      "__________________________________________________________________________________________________\n",
      "flatten (Flatten)               (None, 1024)         0           global_average_pooling1d[0][0]   \n",
      "__________________________________________________________________________________________________\n",
      "dense_1 (Dense)                 (None, 1)            1025        flatten[0][0]                    \n",
      "==================================================================================================\n",
      "Total params: 5,711,937\n",
      "Trainable params: 5,681,281\n",
      "Non-trainable params: 30,656\n",
      "__________________________________________________________________________________________________\n"
     ]
    }
   ],
   "source": [
    "model = res1d.ResNet(length, num_channel, model_width, problem_type=problem_type, \\\n",
    "               output_nums=output_nums, pooling='avg', dropout_rate=False).ResNet50()\n",
    "model.compile(optimizer=tf.keras.optimizers.Adam(learning_rate=LEARNING_RATE), loss=LOSS_FUNCTION, metrics=METRICS)\n",
    "model.summary()\n"
   ]
  },
  {
   "cell_type": "code",
   "execution_count": 13,
   "id": "e7901c9b",
   "metadata": {},
   "outputs": [],
   "source": [
    "from tensorflow.keras.callbacks import ModelCheckpoint, LearningRateScheduler, History, ReduceLROnPlateau, EarlyStopping\n",
    "\n",
    "checkpointer = ModelCheckpoint(best_model_path, monitor='val_loss', verbose=1, save_best_only=True, save_weights_only=False)\n",
    "reduce_lr = ReduceLROnPlateau(monitor='val_loss', factor=0.1, patience=5, verbose=1, min_delta=1e-8)\n",
    "earlystopper = EarlyStopping(monitor='val_loss', patience=30, verbose=1)\n",
    "callbacks_list = [reduce_lr, checkpointer, earlystopper]"
   ]
  },
  {
   "cell_type": "markdown",
   "id": "f0f6e2c3",
   "metadata": {
    "tags": []
   },
   "source": [
    "# train"
   ]
  },
  {
   "cell_type": "code",
   "execution_count": 14,
   "id": "7aa1a995",
   "metadata": {},
   "outputs": [
    {
     "name": "stdout",
     "output_type": "stream",
     "text": [
      "Start Time : 2024-01-13 18:30:26.548512\n"
     ]
    },
    {
     "name": "stderr",
     "output_type": "stream",
     "text": [
      "2024-01-13 18:30:47.835009: I tensorflow/compiler/mlir/mlir_graph_optimization_pass.cc:185] None of the MLIR Optimization Passes are enabled (registered 2)\n"
     ]
    },
    {
     "name": "stdout",
     "output_type": "stream",
     "text": [
      "Epoch 1/200\n"
     ]
    },
    {
     "name": "stderr",
     "output_type": "stream",
     "text": [
      "2024-01-13 18:30:58.148676: I tensorflow/stream_executor/cuda/cuda_dnn.cc:369] Loaded cuDNN version 8201\n",
      "2024-01-13 18:31:01.379418: I tensorflow/stream_executor/cuda/cuda_blas.cc:1760] TensorFloat-32 will be used for the matrix multiplication. This will only be logged once.\n"
     ]
    },
    {
     "name": "stdout",
     "output_type": "stream",
     "text": [
      "4676/4676 [==============================] - 1425s 301ms/step - loss: 0.1717 - accuracy: 0.9352 - val_loss: 1.7821 - val_accuracy: 0.6326\n",
      "\n",
      "Epoch 00001: val_loss improved from inf to 1.78210, saving model to /home/gil/gcubme_ai3/Workspace/SB_MUN/9_NIA_46_dysarthria/1_source_abstract/result/ResNet/model/best_model.h5\n"
     ]
    },
    {
     "name": "stderr",
     "output_type": "stream",
     "text": [
      "/data01/anaconda3/envs/mab_dental2/lib/python3.7/site-packages/keras/utils/generic_utils.py:497: CustomMaskWarning: Custom mask layers require a config and must override get_config. When loading, the custom mask layer must be passed to the custom_objects argument.\n",
      "  category=CustomMaskWarning)\n"
     ]
    },
    {
     "name": "stdout",
     "output_type": "stream",
     "text": [
      "Epoch 2/200\n",
      "4676/4676 [==============================] - 1396s 299ms/step - loss: 0.1093 - accuracy: 0.9623 - val_loss: 0.9065 - val_accuracy: 0.6399\n",
      "\n",
      "Epoch 00002: val_loss improved from 1.78210 to 0.90646, saving model to /home/gil/gcubme_ai3/Workspace/SB_MUN/9_NIA_46_dysarthria/1_source_abstract/result/ResNet/model/best_model.h5\n",
      "Epoch 3/200\n",
      "4676/4676 [==============================] - 1395s 298ms/step - loss: 0.0931 - accuracy: 0.9680 - val_loss: 7.4898 - val_accuracy: 0.4037\n",
      "\n",
      "Epoch 00003: val_loss did not improve from 0.90646\n",
      "Epoch 4/200\n",
      "4676/4676 [==============================] - 1397s 299ms/step - loss: 0.0838 - accuracy: 0.9709 - val_loss: 1.2897 - val_accuracy: 0.6232\n",
      "\n",
      "Epoch 00004: val_loss did not improve from 0.90646\n",
      "Epoch 5/200\n",
      "4676/4676 [==============================] - 1395s 298ms/step - loss: 0.0795 - accuracy: 0.9732 - val_loss: 1.6808 - val_accuracy: 0.5226\n",
      "\n",
      "Epoch 00005: val_loss did not improve from 0.90646\n",
      "Epoch 6/200\n",
      "4676/4676 [==============================] - 1394s 298ms/step - loss: 0.0731 - accuracy: 0.9750 - val_loss: 11.6217 - val_accuracy: 0.3997\n",
      "\n",
      "Epoch 00006: val_loss did not improve from 0.90646\n",
      "Epoch 7/200\n",
      "4676/4676 [==============================] - 1397s 299ms/step - loss: 0.0739 - accuracy: 0.9748 - val_loss: 0.1527 - val_accuracy: 0.9500\n",
      "\n",
      "Epoch 00007: val_loss improved from 0.90646 to 0.15266, saving model to /home/gil/gcubme_ai3/Workspace/SB_MUN/9_NIA_46_dysarthria/1_source_abstract/result/ResNet/model/best_model.h5\n",
      "Epoch 8/200\n",
      "4676/4676 [==============================] - 1398s 299ms/step - loss: 0.0675 - accuracy: 0.9779 - val_loss: 3.5891 - val_accuracy: 0.4478\n",
      "\n",
      "Epoch 00008: val_loss did not improve from 0.15266\n",
      "Epoch 9/200\n",
      "4676/4676 [==============================] - 1398s 299ms/step - loss: 0.0636 - accuracy: 0.9789 - val_loss: 14.7016 - val_accuracy: 0.4099\n",
      "\n",
      "Epoch 00009: val_loss did not improve from 0.15266\n",
      "Epoch 10/200\n",
      "4676/4676 [==============================] - 1398s 299ms/step - loss: 0.0609 - accuracy: 0.9798 - val_loss: 0.1207 - val_accuracy: 0.9561\n",
      "\n",
      "Epoch 00010: val_loss improved from 0.15266 to 0.12068, saving model to /home/gil/gcubme_ai3/Workspace/SB_MUN/9_NIA_46_dysarthria/1_source_abstract/result/ResNet/model/best_model.h5\n",
      "Epoch 11/200\n",
      "4676/4676 [==============================] - 1397s 299ms/step - loss: 0.0562 - accuracy: 0.9816 - val_loss: 5.7096 - val_accuracy: 0.4676\n",
      "\n",
      "Epoch 00011: val_loss did not improve from 0.12068\n",
      "Epoch 12/200\n",
      "4676/4676 [==============================] - 1394s 298ms/step - loss: 0.0557 - accuracy: 0.9809 - val_loss: 9.5112 - val_accuracy: 0.4414\n",
      "\n",
      "Epoch 00012: val_loss did not improve from 0.12068\n",
      "Epoch 13/200\n",
      "4676/4676 [==============================] - 1396s 298ms/step - loss: 0.0536 - accuracy: 0.9824 - val_loss: 12.5721 - val_accuracy: 0.4114\n",
      "\n",
      "Epoch 00013: val_loss did not improve from 0.12068\n",
      "Epoch 14/200\n",
      "4676/4676 [==============================] - 1396s 299ms/step - loss: 0.0512 - accuracy: 0.9829 - val_loss: 7.1341 - val_accuracy: 0.4147\n",
      "\n",
      "Epoch 00014: val_loss did not improve from 0.12068\n",
      "Epoch 15/200\n",
      "4676/4676 [==============================] - 1397s 299ms/step - loss: 0.0485 - accuracy: 0.9839 - val_loss: 10.4905 - val_accuracy: 0.6709\n",
      "\n",
      "Epoch 00015: ReduceLROnPlateau reducing learning rate to 9.999999747378752e-06.\n",
      "\n",
      "Epoch 00015: val_loss did not improve from 0.12068\n",
      "Epoch 16/200\n",
      "4676/4676 [==============================] - 1396s 299ms/step - loss: 0.0335 - accuracy: 0.9892 - val_loss: 0.1773 - val_accuracy: 0.9473\n",
      "\n",
      "Epoch 00016: val_loss did not improve from 0.12068\n",
      "Epoch 17/200\n",
      "4676/4676 [==============================] - 1396s 299ms/step - loss: 0.0291 - accuracy: 0.9910 - val_loss: 0.1875 - val_accuracy: 0.9446\n",
      "\n",
      "Epoch 00017: val_loss did not improve from 0.12068\n",
      "Epoch 18/200\n",
      "4676/4676 [==============================] - 1396s 299ms/step - loss: 0.0282 - accuracy: 0.9910 - val_loss: 5.5476 - val_accuracy: 0.4753\n",
      "\n",
      "Epoch 00018: val_loss did not improve from 0.12068\n",
      "Epoch 19/200\n",
      "4676/4676 [==============================] - 1396s 299ms/step - loss: 0.0260 - accuracy: 0.9920 - val_loss: 0.1645 - val_accuracy: 0.9502\n",
      "\n",
      "Epoch 00019: val_loss did not improve from 0.12068\n",
      "Epoch 20/200\n",
      "4676/4676 [==============================] - 1395s 298ms/step - loss: 0.0251 - accuracy: 0.9914 - val_loss: 0.2184 - val_accuracy: 0.9446\n",
      "\n",
      "Epoch 00020: ReduceLROnPlateau reducing learning rate to 9.999999747378752e-07.\n",
      "\n",
      "Epoch 00020: val_loss did not improve from 0.12068\n",
      "Epoch 21/200\n",
      "4676/4676 [==============================] - 1397s 299ms/step - loss: 0.0234 - accuracy: 0.9928 - val_loss: 0.2037 - val_accuracy: 0.9446\n",
      "\n",
      "Epoch 00021: val_loss did not improve from 0.12068\n",
      "Epoch 22/200\n",
      "4676/4676 [==============================] - 1397s 299ms/step - loss: 0.0222 - accuracy: 0.9934 - val_loss: 0.2206 - val_accuracy: 0.9415\n",
      "\n",
      "Epoch 00022: val_loss did not improve from 0.12068\n",
      "Epoch 23/200\n",
      "4676/4676 [==============================] - 1396s 299ms/step - loss: 0.0221 - accuracy: 0.9933 - val_loss: 0.2327 - val_accuracy: 0.9381\n",
      "\n",
      "Epoch 00023: val_loss did not improve from 0.12068\n",
      "Epoch 24/200\n",
      "4676/4676 [==============================] - 1396s 298ms/step - loss: 0.0218 - accuracy: 0.9931 - val_loss: 0.2342 - val_accuracy: 0.9388\n",
      "\n",
      "Epoch 00024: val_loss did not improve from 0.12068\n",
      "Epoch 25/200\n",
      "4676/4676 [==============================] - 1397s 299ms/step - loss: 0.0212 - accuracy: 0.9936 - val_loss: 0.2191 - val_accuracy: 0.9421\n",
      "\n",
      "Epoch 00025: ReduceLROnPlateau reducing learning rate to 9.999999974752428e-08.\n",
      "\n",
      "Epoch 00025: val_loss did not improve from 0.12068\n",
      "Epoch 26/200\n",
      "4676/4676 [==============================] - 1397s 299ms/step - loss: 0.0220 - accuracy: 0.9936 - val_loss: 0.2289 - val_accuracy: 0.9413\n",
      "\n",
      "Epoch 00026: val_loss did not improve from 0.12068\n",
      "Epoch 27/200\n",
      "4676/4676 [==============================] - 1397s 299ms/step - loss: 0.0217 - accuracy: 0.9936 - val_loss: 0.2249 - val_accuracy: 0.9406\n",
      "\n",
      "Epoch 00027: val_loss did not improve from 0.12068\n",
      "Epoch 28/200\n",
      "4676/4676 [==============================] - 1397s 299ms/step - loss: 0.0212 - accuracy: 0.9939 - val_loss: 0.2255 - val_accuracy: 0.9398\n",
      "\n",
      "Epoch 00028: val_loss did not improve from 0.12068\n",
      "Epoch 29/200\n",
      "4676/4676 [==============================] - 1396s 299ms/step - loss: 0.0215 - accuracy: 0.9935 - val_loss: 0.2240 - val_accuracy: 0.9411\n",
      "\n",
      "Epoch 00029: val_loss did not improve from 0.12068\n",
      "Epoch 30/200\n",
      "4676/4676 [==============================] - 1397s 299ms/step - loss: 0.0216 - accuracy: 0.9936 - val_loss: 0.2285 - val_accuracy: 0.9413\n",
      "\n",
      "Epoch 00030: ReduceLROnPlateau reducing learning rate to 1.0000000116860975e-08.\n",
      "\n",
      "Epoch 00030: val_loss did not improve from 0.12068\n",
      "Epoch 31/200\n",
      "4676/4676 [==============================] - 1398s 299ms/step - loss: 0.0212 - accuracy: 0.9937 - val_loss: 0.2241 - val_accuracy: 0.9415\n",
      "\n",
      "Epoch 00031: val_loss did not improve from 0.12068\n",
      "Epoch 32/200\n",
      "4676/4676 [==============================] - 1398s 299ms/step - loss: 0.0217 - accuracy: 0.9935 - val_loss: 0.2219 - val_accuracy: 0.9402\n",
      "\n",
      "Epoch 00032: val_loss did not improve from 0.12068\n",
      "Epoch 33/200\n",
      "4676/4676 [==============================] - 1397s 299ms/step - loss: 0.0214 - accuracy: 0.9935 - val_loss: 0.2248 - val_accuracy: 0.9402\n",
      "\n",
      "Epoch 00033: val_loss did not improve from 0.12068\n",
      "Epoch 34/200\n",
      "4676/4676 [==============================] - 1397s 299ms/step - loss: 0.0206 - accuracy: 0.9940 - val_loss: 0.2288 - val_accuracy: 0.9406\n",
      "\n",
      "Epoch 00034: val_loss did not improve from 0.12068\n",
      "Epoch 35/200\n",
      "4676/4676 [==============================] - 1398s 299ms/step - loss: 0.0215 - accuracy: 0.9937 - val_loss: 0.2323 - val_accuracy: 0.9386\n",
      "\n",
      "Epoch 00035: ReduceLROnPlateau reducing learning rate to 9.999999939225292e-10.\n",
      "\n",
      "Epoch 00035: val_loss did not improve from 0.12068\n",
      "Epoch 36/200\n",
      "4676/4676 [==============================] - 1398s 299ms/step - loss: 0.0203 - accuracy: 0.9944 - val_loss: 0.2252 - val_accuracy: 0.9402\n",
      "\n",
      "Epoch 00036: val_loss did not improve from 0.12068\n",
      "Epoch 37/200\n",
      "4676/4676 [==============================] - 1395s 298ms/step - loss: 0.0214 - accuracy: 0.9939 - val_loss: 0.2294 - val_accuracy: 0.9400\n",
      "\n",
      "Epoch 00037: val_loss did not improve from 0.12068\n",
      "Epoch 38/200\n",
      "4676/4676 [==============================] - 1395s 298ms/step - loss: 0.0219 - accuracy: 0.9936 - val_loss: 0.2294 - val_accuracy: 0.9392\n",
      "\n",
      "Epoch 00038: val_loss did not improve from 0.12068\n",
      "Epoch 39/200\n",
      "4676/4676 [==============================] - 1396s 299ms/step - loss: 0.0221 - accuracy: 0.9933 - val_loss: 0.2261 - val_accuracy: 0.9411\n",
      "\n",
      "Epoch 00039: val_loss did not improve from 0.12068\n",
      "Epoch 40/200\n",
      "4676/4676 [==============================] - 1396s 299ms/step - loss: 0.0214 - accuracy: 0.9939 - val_loss: 0.2315 - val_accuracy: 0.9400\n",
      "\n",
      "Epoch 00040: ReduceLROnPlateau reducing learning rate to 9.999999717180686e-11.\n",
      "\n",
      "Epoch 00040: val_loss did not improve from 0.12068\n",
      "Epoch 00040: early stopping\n",
      "End Time : 2024-01-14 10:02:27.893066\n",
      "Running Time : 15:32:01.344554\n",
      "Done training\n"
     ]
    }
   ],
   "source": [
    "from datetime import datetime\n",
    "startTime = datetime.now()\n",
    "\n",
    "print('Start Time : {0}'.format(startTime))\n",
    "###############################################################################################\n",
    "\n",
    "hist = model.fit(train_X, train_Y, \n",
    "                 batch_size=BATCH_SIZE, epochs=EPOCHS, verbose=1, \n",
    "                 validation_data = (validation_X, validation_Y), \n",
    "                 callbacks=callbacks_list)\n",
    "\n",
    "################################################################################################\n",
    "\n",
    "endTime = datetime.now()\n",
    "runTime = endTime - startTime\n",
    "\n",
    "print('End Time : {0}'.format(endTime))\n",
    "print('Running Time : ' + str(runTime))\n",
    "\n",
    "print('Done training')"
   ]
  },
  {
   "cell_type": "code",
   "execution_count": 15,
   "id": "c185b54c-1a38-4b3a-8878-6a8655d1ba88",
   "metadata": {
    "tags": []
   },
   "outputs": [],
   "source": [
    "model.save(model_path)"
   ]
  },
  {
   "cell_type": "code",
   "execution_count": 16,
   "id": "f6d5bae5",
   "metadata": {},
   "outputs": [
    {
     "data": {
      "image/png": "[encoded data removed]",
      "text/plain": [
       "<Figure size 640x480 with 1 Axes>"
      ]
     },
     "metadata": {},
     "output_type": "display_data"
    },
    {
     "data": {
      "image/png": "[encoded data removed]",
      "text/plain": [
       "<Figure size 640x480 with 1 Axes>"
      ]
     },
     "metadata": {},
     "output_type": "display_data"
    }
   ],
   "source": [
    "import matplotlib.pylab as plt\n",
    "plt.plot(hist.history['accuracy'])\n",
    "plt.plot(hist.history['val_accuracy'])\n",
    "# plt.plot(hist.history['val_loss'])\n",
    "# plt.plot(hist.history['loss'])\n",
    "plt.title('Model Accuracy')\n",
    "plt.ylabel('Accuracy')\n",
    "plt.xlabel('Epoch')\n",
    "plt.legend(['Train', 'Validation'], loc='upper right', bbox_to_anchor=(1.3, 1))\n",
    "plt.show()\n",
    "\n",
    "plt.plot(hist.history['loss'])\n",
    "plt.plot(hist.history['val_loss'])\n",
    "# plt.plot(hist.history['val_loss'])\n",
    "# plt.plot(hist.history['loss'])\n",
    "plt.title('Model Loss')\n",
    "plt.ylabel('Accuracy')\n",
    "plt.xlabel('Epoch')\n",
    "plt.legend(['Train', 'Validation'], loc='upper right', bbox_to_anchor=(1.3, 1))\n",
    "plt.show()"
   ]
  },
  {
   "cell_type": "markdown",
   "id": "919e0062",
   "metadata": {},
   "source": [
    "# test"
   ]
  },
  {
   "cell_type": "code",
   "execution_count": 17,
   "id": "b1db02d8",
   "metadata": {},
   "outputs": [
    {
     "name": "stdout",
     "output_type": "stream",
     "text": [
      "2500\n",
      "Total data len : 2500\n"
     ]
    },
    {
     "data": {
      "application/vnd.jupyter.widget-view+json": {
       "model_id": "e7a6126738b64d0195cc4b1fa5ca1a77",
       "version_major": 2,
       "version_minor": 0
      },
      "text/plain": [
       "  0%|          | 0/2500 [00:00<?, ?it/s]"
      ]
     },
     "metadata": {},
     "output_type": "display_data"
    },
    {
     "name": "stdout",
     "output_type": "stream",
     "text": [
      "X_data shape:  (4757, 64000, 1) \t Y_data shape:  (4757, 1)\n"
     ]
    }
   ],
   "source": [
    "test_X_csv_list = sorted(glob.glob(f'{DATA_PATH}/test/*.csv'))\n",
    "print(len(test_X_csv_list))\n",
    "\n",
    "test_X_npy_list = [csv_path.split('.csv')[0] + '_X.npy' for csv_path in test_X_csv_list]\n",
    "test_Y_npy_list = [csv_path.split('.csv')[0] + '_Y.npy' for csv_path in test_X_csv_list]\n",
    "\n",
    "test_X, test_Y = npy_load(test_X_npy_list, test_Y_npy_list)"
   ]
  },
  {
   "cell_type": "code",
   "execution_count": 18,
   "id": "c7373be2",
   "metadata": {},
   "outputs": [],
   "source": [
    "from keras.models import load_model\n",
    "\n",
    "model = load_model(best_model_path)"
   ]
  },
  {
   "cell_type": "code",
   "execution_count": 19,
   "id": "b3962613",
   "metadata": {},
   "outputs": [
    {
     "name": "stdout",
     "output_type": "stream",
     "text": [
      "75/75 [==============================] - 47s 562ms/step\n"
     ]
    }
   ],
   "source": [
    "predicted = model.predict(test_X, batch_size=64, verbose=1)"
   ]
  },
  {
   "cell_type": "code",
   "execution_count": 20,
   "id": "77cb4c8e",
   "metadata": {},
   "outputs": [],
   "source": [
    "predict_Y = predicted > 0.5"
   ]
  },
  {
   "cell_type": "code",
   "execution_count": 21,
   "id": "649edd4d",
   "metadata": {},
   "outputs": [
    {
     "name": "stdout",
     "output_type": "stream",
     "text": [
      "3019\n",
      "1738\n",
      "==================================================\n",
      "3087\n",
      "1670\n"
     ]
    }
   ],
   "source": [
    "print(list(predict_Y).count(0))\n",
    "print(list(predict_Y).count(1))\n",
    "print('='*50)\n",
    "print(list(test_Y).count(0))\n",
    "print(list(test_Y).count(1))\n"
   ]
  },
  {
   "cell_type": "code",
   "execution_count": 22,
   "id": "6865651d",
   "metadata": {},
   "outputs": [
    {
     "name": "stdout",
     "output_type": "stream",
     "text": [
      "[[2905  182]\n",
      " [ 114 1556]]\n",
      "sensitivity : 93.17\n",
      "specificity : 94.1\n",
      "accuracy    : 93.78\n",
      "precision   : 89.53\n",
      "f1          : 91.31\n"
     ]
    }
   ],
   "source": [
    "from sklearn.metrics import confusion_matrix, accuracy_score, precision_score, recall_score, f1_score\n",
    "from imblearn.metrics import sensitivity_score, specificity_score\n",
    "\n",
    "cm = confusion_matrix(test_Y, predict_Y)\n",
    "sensitivity = sensitivity_score(test_Y, predict_Y)\n",
    "specificity = specificity_score(test_Y, predict_Y)\n",
    "accuracy = accuracy_score(test_Y, predict_Y)\n",
    "precision = precision_score(test_Y, predict_Y)\n",
    "f1 = f1_score(test_Y, predict_Y)\n",
    "\n",
    "print(cm)\n",
    "print(f'sensitivity : {round(sensitivity*100, 2)}')\n",
    "print(f'specificity : {round(specificity*100, 2)}')\n",
    "print(f'accuracy    : {round(accuracy*100, 2)}')\n",
    "print(f'precision   : {round(precision*100, 2)}')\n",
    "print(f'f1          : {round(f1*100, 2)}')\n"
   ]
  },
  {
   "cell_type": "code",
   "execution_count": null,
   "id": "2134d4e4",
   "metadata": {},
   "outputs": [],
   "source": [
    "# model = res1d.ResNet(length, num_channel, model_width, problem_type=problem_type, \\\n",
    "#                output_nums=output_nums, pooling='avg', dropout_rate=False).ResNet50()"
   ]
  },
  {
   "cell_type": "code",
   "execution_count": null,
   "id": "0569ded5",
   "metadata": {},
   "outputs": [],
   "source": []
  },
  {
   "cell_type": "code",
   "execution_count": null,
   "id": "978488cb",
   "metadata": {},
   "outputs": [],
   "source": []
  },
  {
   "cell_type": "code",
   "execution_count": null,
   "id": "05e14ba0",
   "metadata": {},
   "outputs": [],
   "source": []
  },
  {
   "cell_type": "code",
   "execution_count": null,
   "id": "1c5897c0",
   "metadata": {},
   "outputs": [],
   "source": []
  }
 ],
 "metadata": {
  "kernelspec": {
   "display_name": "Python 3 (ipykernel)",
   "language": "python",
   "name": "python3"
  },
  "language_info": {
   "codemirror_mode": {
    "name": "ipython",
    "version": 3
   },
   "file_extension": ".py",
   "mimetype": "text/x-python",
   "name": "python",
   "nbconvert_exporter": "python",
   "pygments_lexer": "ipython3",
   "version": "3.10.0"
  }
 },
 "nbformat": 4,
 "nbformat_minor": 5
}
