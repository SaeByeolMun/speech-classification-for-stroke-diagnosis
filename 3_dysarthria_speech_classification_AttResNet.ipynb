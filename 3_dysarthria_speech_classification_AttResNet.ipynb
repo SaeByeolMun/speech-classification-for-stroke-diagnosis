{
 "cells": [
  {
   "cell_type": "markdown",
   "id": "a9fd1ed9",
   "metadata": {},
   "source": [
    "# 22 : 378"
   ]
  },
  {
   "cell_type": "code",
   "execution_count": 1,
   "id": "302e5323",
   "metadata": {},
   "outputs": [
    {
     "name": "stderr",
     "output_type": "stream",
     "text": [
      "2024-07-18 04:13:21.963883: I tensorflow/core/platform/cpu_feature_guard.cc:193] This TensorFlow binary is optimized with oneAPI Deep Neural Network Library (oneDNN) to use the following CPU instructions in performance-critical operations:  AVX2 FMA\n",
      "To enable them in other operations, rebuild TensorFlow with the appropriate compiler flags.\n",
      "2024-07-18 04:13:22.726687: W tensorflow/compiler/xla/stream_executor/platform/default/dso_loader.cc:64] Could not load dynamic library 'libnvinfer.so.7'; dlerror: libnvinfer.so.7: cannot open shared object file: No such file or directory; LD_LIBRARY_PATH: /usr/local/cuda-11.3/lib64:\n",
      "2024-07-18 04:13:22.727194: W tensorflow/compiler/xla/stream_executor/platform/default/dso_loader.cc:64] Could not load dynamic library 'libnvinfer_plugin.so.7'; dlerror: libnvinfer_plugin.so.7: cannot open shared object file: No such file or directory; LD_LIBRARY_PATH: /usr/local/cuda-11.3/lib64:\n",
      "2024-07-18 04:13:22.727202: W tensorflow/compiler/tf2tensorrt/utils/py_utils.cc:38] TF-TRT Warning: Cannot dlopen some TensorRT libraries. If you would like to use Nvidia GPU with TensorRT, please make sure the missing libraries mentioned above are installed properly.\n"
     ]
    },
    {
     "name": "stdout",
     "output_type": "stream",
     "text": [
      "/home/gil/gcubme_ai2/Workspace/SB_MUN\n",
      "/home/gil/gcubme_ai2/Workspace/SB_MUN/9_NIA_46_dysarthria/1_source_abstract/models\n"
     ]
    }
   ],
   "source": [
    "import os, glob, pickle, time\n",
    "import numpy as np\n",
    "import pandas as pd\n",
    "\n",
    "import tensorflow as tf\n",
    "from tensorflow.keras import layers\n",
    "from tensorflow.keras.layers import *\n",
    "from tensorflow.keras.models import Model\n",
    "from tensorflow.keras.models import load_model\n",
    "from tensorflow.keras.optimizers import Adam, SGD\n",
    "\n",
    "\n",
    "from sklearn.preprocessing import LabelEncoder\n",
    "from sklearn.model_selection import train_test_split\n",
    "from sklearn.metrics import confusion_matrix\n",
    "from sklearn.utils import shuffle\n",
    "\n",
    "import matplotlib.pyplot as plt\n",
    "\n",
    "from tqdm import tqdm_notebook\n",
    "\n",
    "import sys\n",
    "path = os.path.abspath('../../')\n",
    "print(path)\n",
    "sys.path.append(path)\n",
    "from CommonUtil import *\n",
    "\n",
    "path = os.path.abspath('./models')\n",
    "print(path)\n",
    "sys.path.append(path)\n",
    "import Attention_ResNet_1DCNN as att_res1d\n",
    "\n",
    "#os.environ['TF_CPP_MIN_LOG_LEVEL'] = '3'\n",
    "os.environ[\"CUDA_VISIBLE_DEVICES\"]='0'\n",
    "# os.environ[\"CUDA_VISIBLE_DEVICES\"]='2'\n",
    "#mirrored_strategy = tf.distribute.MirroredStrategy()"
   ]
  },
  {
   "cell_type": "code",
   "execution_count": 2,
   "id": "d2b5e2c5",
   "metadata": {},
   "outputs": [],
   "source": [
    "import warnings\n",
    "warnings.filterwarnings(\"ignore\", category=DeprecationWarning) "
   ]
  },
  {
   "cell_type": "code",
   "execution_count": 3,
   "id": "b16c301f-3c3a-47a4-a908-620e76d7459b",
   "metadata": {},
   "outputs": [
    {
     "name": "stderr",
     "output_type": "stream",
     "text": [
      "2024-07-18 04:13:24.142381: I tensorflow/core/platform/cpu_feature_guard.cc:193] This TensorFlow binary is optimized with oneAPI Deep Neural Network Library (oneDNN) to use the following CPU instructions in performance-critical operations:  AVX2 FMA\n",
      "To enable them in other operations, rebuild TensorFlow with the appropriate compiler flags.\n",
      "2024-07-18 04:13:24.745664: I tensorflow/core/common_runtime/gpu/gpu_device.cc:1613] Created device /job:localhost/replica:0/task:0/device:GPU:0 with 78906 MB memory:  -> device: 0, name: NVIDIA A100 80GB PCIe, pci bus id: 0000:81:00.0, compute capability: 8.0\n"
     ]
    }
   ],
   "source": [
    "LEARNING_RATE = 1e-4\n",
    "EPOCHS = 200\n",
    "BATCH_SIZE = 2\n",
    "MODEL_NUM = 4\n",
    "LOSS_FUNCTION = tf.keras.losses.MeanAbsoluteError()\n",
    "LOSS_FUNCTION = 'binary_crossentropy'\n",
    "METRICS = tf.keras.metrics.MeanSquaredError()\n",
    "METRICS = ['accuracy']\n",
    "\n",
    "TRAIN_SPLIT = 17"
   ]
  },
  {
   "cell_type": "code",
   "execution_count": 4,
   "id": "edca5d11-cbba-4cf0-8acd-79602953d087",
   "metadata": {},
   "outputs": [],
   "source": [
    "length = 64000\n",
    "model_name = 'AttResNet'  # Modified DenseNet\n",
    "model_width = 32  # Width of the Initial Layer, subsequent layers start from here\n",
    "num_channel = 1  # Number of Channels in the Model\n",
    "problem_type = 'Binary' # Classification or Regression\n",
    "output_nums = 1  # Number of Class for Classification Problems, always '1' for Regression Problems\n",
    "# Build, Compile and Print Summary\n"
   ]
  },
  {
   "cell_type": "code",
   "execution_count": 7,
   "id": "cd8a0148",
   "metadata": {},
   "outputs": [
    {
     "name": "stdout",
     "output_type": "stream",
     "text": [
      "/home/gil/gcubme_ai2/Workspace/SB_MUN/9_NIA_46_dysarthria/1_source_abstract/data/preproc2\n",
      "/home/gil/gcubme_ai2/Workspace/SB_MUN/9_NIA_46_dysarthria/1_source_abstract/result/model\n"
     ]
    }
   ],
   "source": [
    "DATA_PATH = os.path.abspath('./data/preproc2')\n",
    "RESULT_DIR = os.path.abspath(f'./result')\n",
    "MODEL_DIR = RESULT_DIR + '/model'\n",
    "\n",
    "best_model_path = MODEL_DIR + '/best_model.h5'\n",
    "model_path = MODEL_DIR + '/model.h5'\n",
    "\n",
    "createFolder(MODEL_DIR)\n",
    "\n",
    "print(DATA_PATH)\n",
    "print(MODEL_DIR)"
   ]
  },
  {
   "cell_type": "code",
   "execution_count": 10,
   "id": "12137115",
   "metadata": {},
   "outputs": [
    {
     "name": "stdout",
     "output_type": "stream",
     "text": [
      "20000\n",
      "2500\n"
     ]
    }
   ],
   "source": [
    "train_X_csv_list = sorted(glob.glob(f'{DATA_PATH}/train/*.csv'))\n",
    "validation_X_csv_list = sorted(glob.glob(f'{DATA_PATH}/validation/*.csv'))\n",
    "\n",
    "print(len(train_X_csv_list))\n",
    "print(len(validation_X_csv_list))"
   ]
  },
  {
   "cell_type": "code",
   "execution_count": 9,
   "id": "1f0c2495",
   "metadata": {},
   "outputs": [],
   "source": [
    "train_X_npy_list = [csv_path.split('.csv')[0] + '_X.npy' for csv_path in train_X_csv_list]\n",
    "train_Y_npy_list = [csv_path.split('.csv')[0] + '_Y.npy' for csv_path in train_X_csv_list]\n",
    "validation_X_npy_list = [csv_path.split('.csv')[0] + '_X.npy' for csv_path in validation_X_csv_list]\n",
    "validation_Y_npy_list = [csv_path.split('.csv')[0] + '_Y.npy' for csv_path in validation_X_csv_list]\n"
   ]
  },
  {
   "cell_type": "code",
   "execution_count": 11,
   "id": "e224bf9b",
   "metadata": {},
   "outputs": [],
   "source": [
    "train_X_npy_list, train_Y_npy_list = shuffle(train_X_npy_list, train_Y_npy_list)\n",
    "validation_X_npy_list, validation_Y_npy_list = shuffle(validation_X_npy_list, validation_Y_npy_list)\n"
   ]
  },
  {
   "cell_type": "code",
   "execution_count": 12,
   "id": "d28be1a9",
   "metadata": {},
   "outputs": [],
   "source": [
    "\n",
    "def npy_load(X_path_list:list, Y_path_list:list):\n",
    "    print(f'Total data len : {len(X_path_list)}')\n",
    "    \n",
    "    X_data = []\n",
    "    Y_data = []\n",
    "    data_paths = []\n",
    "    \n",
    "    for a in tqdm_notebook(range(len(X_path_list))):\n",
    "#     for a in range(5):\n",
    "        X_path = X_path_list[a]\n",
    "        Y_path = Y_path_list[a]\n",
    "    \n",
    "#         print(f'{a}/{len(X_path_list)}\\t==> {X_path}')\n",
    "        \n",
    "        X_npy = np.load(X_path)\n",
    "        Y_npy = np.load(Y_path)\n",
    "    \n",
    "        X_data.extend(X_npy)\n",
    "        Y_data.extend(Y_npy)\n",
    "        data_paths.append(X_path)\n",
    "        \n",
    "    X_data, Y_data = shuffle(X_data, Y_data)\n",
    "    \n",
    "    X_data = np.array(X_data)\n",
    "    Y_data = np.array(Y_data)\n",
    "    X_data = np.expand_dims(X_data, axis=-1)\n",
    "    Y_data = np.expand_dims(Y_data, axis=-1)\n",
    "    print(\"X_data shape: \", X_data.shape, \"\\t Y_data shape: \", Y_data.shape)\n",
    "    \n",
    "    return X_data, Y_data # ,data_paths"
   ]
  },
  {
   "cell_type": "code",
   "execution_count": 13,
   "id": "5f8de78f",
   "metadata": {},
   "outputs": [
    {
     "name": "stdout",
     "output_type": "stream",
     "text": [
      "Total data len : 20000\n"
     ]
    },
    {
     "data": {
      "application/vnd.jupyter.widget-view+json": {
       "model_id": "bc551ca1938840d0b18754122d95b860",
       "version_major": 2,
       "version_minor": 0
      },
      "text/plain": [
       "  0%|          | 0/20000 [00:00<?, ?it/s]"
      ]
     },
     "metadata": {},
     "output_type": "display_data"
    },
    {
     "name": "stdout",
     "output_type": "stream",
     "text": [
      "X_data shape:  (37407, 64000, 1) \t Y_data shape:  (37407, 1)\n",
      "Total data len : 2500\n"
     ]
    },
    {
     "data": {
      "application/vnd.jupyter.widget-view+json": {
       "model_id": "9fcef2c8fa494848b2c0caf08584cb58",
       "version_major": 2,
       "version_minor": 0
      },
      "text/plain": [
       "  0%|          | 0/2500 [00:00<?, ?it/s]"
      ]
     },
     "metadata": {},
     "output_type": "display_data"
    },
    {
     "name": "stdout",
     "output_type": "stream",
     "text": [
      "X_data shape:  (4801, 64000, 1) \t Y_data shape:  (4801, 1)\n"
     ]
    }
   ],
   "source": [
    "train_X, train_Y = npy_load(train_X_npy_list, train_Y_npy_list)\n",
    "validation_X, validation_Y = npy_load(validation_X_npy_list, validation_Y_npy_list)\n"
   ]
  },
  {
   "cell_type": "code",
   "execution_count": 14,
   "id": "1ff5b207",
   "metadata": {},
   "outputs": [
    {
     "name": "stdout",
     "output_type": "stream",
     "text": [
      "24462\n",
      "12945\n",
      "==================================================\n",
      "2889\n",
      "1912\n",
      "==================================================\n"
     ]
    }
   ],
   "source": [
    "\n",
    "print(list(train_Y).count(0))\n",
    "print(list(train_Y).count(1))\n",
    "print('='*50)\n",
    "print(list(validation_Y).count(0))\n",
    "print(list(validation_Y).count(1))\n",
    "print('='*50)"
   ]
  },
  {
   "cell_type": "code",
   "execution_count": 15,
   "id": "9d1f1a46",
   "metadata": {
    "scrolled": true
   },
   "outputs": [
    {
     "name": "stdout",
     "output_type": "stream",
     "text": [
      "Model: \"model\"\n",
      "__________________________________________________________________________________________________\n",
      " Layer (type)                   Output Shape         Param #     Connected to                     \n",
      "==================================================================================================\n",
      " input_1 (InputLayer)           [(None, 64000, 1)]   0           []                               \n",
      "                                                                                                  \n",
      " conv1d (Conv1D)                (None, 64000, 32)    128         ['input_1[0][0]']                \n",
      "                                                                                                  \n",
      " batch_normalization (BatchNorm  (None, 64000, 32)   128         ['conv1d[0][0]']                 \n",
      " alization)                                                                                       \n",
      "                                                                                                  \n",
      " activation (Activation)        (None, 64000, 32)    0           ['batch_normalization[0][0]']    \n",
      "                                                                                                  \n",
      " conv1d_1 (Conv1D)              (None, 64000, 32)    3104        ['activation[0][0]']             \n",
      "                                                                                                  \n",
      " batch_normalization_1 (BatchNo  (None, 64000, 32)   128         ['conv1d_1[0][0]']               \n",
      " rmalization)                                                                                     \n",
      "                                                                                                  \n",
      " activation_1 (Activation)      (None, 64000, 32)    0           ['batch_normalization_1[0][0]']  \n",
      "                                                                                                  \n",
      " conv1d_2 (Conv1D)              (None, 64000, 32)    3104        ['activation_1[0][0]']           \n",
      "                                                                                                  \n",
      " batch_normalization_2 (BatchNo  (None, 64000, 32)   128         ['conv1d_2[0][0]']               \n",
      " rmalization)                                                                                     \n",
      "                                                                                                  \n",
      " activation_2 (Activation)      (None, 64000, 32)    0           ['batch_normalization_2[0][0]']  \n",
      "                                                                                                  \n",
      " tf.math.add (TFOpLambda)       (None, 64000, 32)    0           ['activation_2[0][0]',           \n",
      "                                                                  'activation[0][0]']             \n",
      "                                                                                                  \n",
      " max_pooling1d (MaxPooling1D)   (None, 32000, 32)    0           ['tf.math.add[0][0]']            \n",
      "                                                                                                  \n",
      " conv1d_3 (Conv1D)              (None, 32000, 64)    6208        ['max_pooling1d[0][0]']          \n",
      "                                                                                                  \n",
      " batch_normalization_3 (BatchNo  (None, 32000, 64)   256         ['conv1d_3[0][0]']               \n",
      " rmalization)                                                                                     \n",
      "                                                                                                  \n",
      " activation_3 (Activation)      (None, 32000, 64)    0           ['batch_normalization_3[0][0]']  \n",
      "                                                                                                  \n",
      " conv1d_4 (Conv1D)              (None, 32000, 64)    12352       ['activation_3[0][0]']           \n",
      "                                                                                                  \n",
      " batch_normalization_4 (BatchNo  (None, 32000, 64)   256         ['conv1d_4[0][0]']               \n",
      " rmalization)                                                                                     \n",
      "                                                                                                  \n",
      " activation_4 (Activation)      (None, 32000, 64)    0           ['batch_normalization_4[0][0]']  \n",
      "                                                                                                  \n",
      " conv1d_5 (Conv1D)              (None, 32000, 64)    12352       ['activation_4[0][0]']           \n",
      "                                                                                                  \n",
      " batch_normalization_5 (BatchNo  (None, 32000, 64)   256         ['conv1d_5[0][0]']               \n",
      " rmalization)                                                                                     \n",
      "                                                                                                  \n",
      " activation_5 (Activation)      (None, 32000, 64)    0           ['batch_normalization_5[0][0]']  \n",
      "                                                                                                  \n",
      " tf.math.add_1 (TFOpLambda)     (None, 32000, 64)    0           ['activation_5[0][0]',           \n",
      "                                                                  'activation_3[0][0]']           \n",
      "                                                                                                  \n",
      " max_pooling1d_1 (MaxPooling1D)  (None, 16000, 64)   0           ['tf.math.add_1[0][0]']          \n",
      "                                                                                                  \n",
      " conv1d_6 (Conv1D)              (None, 16000, 128)   24704       ['max_pooling1d_1[0][0]']        \n",
      "                                                                                                  \n",
      " batch_normalization_6 (BatchNo  (None, 16000, 128)  512         ['conv1d_6[0][0]']               \n",
      " rmalization)                                                                                     \n",
      "                                                                                                  \n",
      " activation_6 (Activation)      (None, 16000, 128)   0           ['batch_normalization_6[0][0]']  \n",
      "                                                                                                  \n",
      " conv1d_7 (Conv1D)              (None, 16000, 128)   49280       ['activation_6[0][0]']           \n",
      "                                                                                                  \n",
      " batch_normalization_7 (BatchNo  (None, 16000, 128)  512         ['conv1d_7[0][0]']               \n",
      " rmalization)                                                                                     \n",
      "                                                                                                  \n",
      " activation_7 (Activation)      (None, 16000, 128)   0           ['batch_normalization_7[0][0]']  \n",
      "                                                                                                  \n",
      " conv1d_8 (Conv1D)              (None, 16000, 128)   49280       ['activation_7[0][0]']           \n",
      "                                                                                                  \n",
      " batch_normalization_8 (BatchNo  (None, 16000, 128)  512         ['conv1d_8[0][0]']               \n",
      " rmalization)                                                                                     \n",
      "                                                                                                  \n",
      " activation_8 (Activation)      (None, 16000, 128)   0           ['batch_normalization_8[0][0]']  \n",
      "                                                                                                  \n",
      " tf.math.add_2 (TFOpLambda)     (None, 16000, 128)   0           ['activation_8[0][0]',           \n",
      "                                                                  'activation_6[0][0]']           \n",
      "                                                                                                  \n",
      " max_pooling1d_2 (MaxPooling1D)  (None, 8000, 128)   0           ['tf.math.add_2[0][0]']          \n",
      "                                                                                                  \n",
      " conv1d_9 (Conv1D)              (None, 8000, 256)    98560       ['max_pooling1d_2[0][0]']        \n",
      "                                                                                                  \n",
      " batch_normalization_9 (BatchNo  (None, 8000, 256)   1024        ['conv1d_9[0][0]']               \n",
      " rmalization)                                                                                     \n",
      "                                                                                                  \n",
      " activation_9 (Activation)      (None, 8000, 256)    0           ['batch_normalization_9[0][0]']  \n",
      "                                                                                                  \n",
      " conv1d_10 (Conv1D)             (None, 8000, 256)    196864      ['activation_9[0][0]']           \n",
      "                                                                                                  \n",
      " batch_normalization_10 (BatchN  (None, 8000, 256)   1024        ['conv1d_10[0][0]']              \n",
      " ormalization)                                                                                    \n",
      "                                                                                                  \n",
      " activation_10 (Activation)     (None, 8000, 256)    0           ['batch_normalization_10[0][0]'] \n",
      "                                                                                                  \n",
      " conv1d_11 (Conv1D)             (None, 8000, 256)    196864      ['activation_10[0][0]']          \n",
      "                                                                                                  \n",
      " batch_normalization_11 (BatchN  (None, 8000, 256)   1024        ['conv1d_11[0][0]']              \n",
      " ormalization)                                                                                    \n",
      "                                                                                                  \n",
      " activation_11 (Activation)     (None, 8000, 256)    0           ['batch_normalization_11[0][0]'] \n",
      "                                                                                                  \n",
      " tf.math.add_3 (TFOpLambda)     (None, 8000, 256)    0           ['activation_11[0][0]',          \n",
      "                                                                  'activation_9[0][0]']           \n",
      "                                                                                                  \n",
      " max_pooling1d_3 (MaxPooling1D)  (None, 4000, 256)   0           ['tf.math.add_3[0][0]']          \n",
      "                                                                                                  \n",
      " conv1d_12 (Conv1D)             (None, 4000, 512)    393728      ['max_pooling1d_3[0][0]']        \n",
      "                                                                                                  \n",
      " batch_normalization_12 (BatchN  (None, 4000, 512)   2048        ['conv1d_12[0][0]']              \n",
      " ormalization)                                                                                    \n",
      "                                                                                                  \n",
      " activation_12 (Activation)     (None, 4000, 512)    0           ['batch_normalization_12[0][0]'] \n",
      "                                                                                                  \n",
      " conv1d_13 (Conv1D)             (None, 4000, 512)    786944      ['activation_12[0][0]']          \n",
      "                                                                                                  \n",
      " batch_normalization_13 (BatchN  (None, 4000, 512)   2048        ['conv1d_13[0][0]']              \n",
      " ormalization)                                                                                    \n",
      "                                                                                                  \n",
      " activation_13 (Activation)     (None, 4000, 512)    0           ['batch_normalization_13[0][0]'] \n",
      "                                                                                                  \n",
      " conv1d_14 (Conv1D)             (None, 4000, 512)    786944      ['activation_13[0][0]']          \n",
      "                                                                                                  \n",
      " batch_normalization_14 (BatchN  (None, 4000, 512)   2048        ['conv1d_14[0][0]']              \n",
      " ormalization)                                                                                    \n",
      "                                                                                                  \n",
      " activation_14 (Activation)     (None, 4000, 512)    0           ['batch_normalization_14[0][0]'] \n",
      "                                                                                                  \n",
      " tf.math.add_4 (TFOpLambda)     (None, 4000, 512)    0           ['activation_14[0][0]',          \n",
      "                                                                  'activation_12[0][0]']          \n",
      "                                                                                                  \n",
      " max_pooling1d_4 (MaxPooling1D)  (None, 2000, 512)   0           ['tf.math.add_4[0][0]']          \n",
      "                                                                                                  \n",
      " conv1d_15 (Conv1D)             (None, 2000, 256)    393472      ['max_pooling1d_4[0][0]']        \n",
      "                                                                                                  \n",
      " batch_normalization_15 (BatchN  (None, 2000, 256)   1024        ['conv1d_15[0][0]']              \n",
      " ormalization)                                                                                    \n",
      "                                                                                                  \n",
      " activation_15 (Activation)     (None, 2000, 256)    0           ['batch_normalization_15[0][0]'] \n",
      "                                                                                                  \n",
      " conv1d_16 (Conv1D)             (None, 2000, 256)    196864      ['activation_15[0][0]']          \n",
      "                                                                                                  \n",
      " batch_normalization_16 (BatchN  (None, 2000, 256)   1024        ['conv1d_16[0][0]']              \n",
      " ormalization)                                                                                    \n",
      "                                                                                                  \n",
      " activation_16 (Activation)     (None, 2000, 256)    0           ['batch_normalization_16[0][0]'] \n",
      "                                                                                                  \n",
      " conv1d_17 (Conv1D)             (None, 2000, 256)    196864      ['activation_16[0][0]']          \n",
      "                                                                                                  \n",
      " batch_normalization_17 (BatchN  (None, 2000, 256)   1024        ['conv1d_17[0][0]']              \n",
      " ormalization)                                                                                    \n",
      "                                                                                                  \n",
      " activation_17 (Activation)     (None, 2000, 256)    0           ['batch_normalization_17[0][0]'] \n",
      "                                                                                                  \n",
      " tf.math.add_5 (TFOpLambda)     (None, 2000, 256)    0           ['activation_17[0][0]',          \n",
      "                                                                  'activation_15[0][0]']          \n",
      "                                                                                                  \n",
      " max_pooling1d_5 (MaxPooling1D)  (None, 1000, 256)   0           ['tf.math.add_5[0][0]']          \n",
      "                                                                                                  \n",
      " conv1d_18 (Conv1D)             (None, 1000, 128)    98432       ['max_pooling1d_5[0][0]']        \n",
      "                                                                                                  \n",
      " tf.compat.v1.transpose (TFOpLa  (None, 128, 1000)   0           ['conv1d_18[0][0]']              \n",
      " mbda)                                                                                            \n",
      "                                                                                                  \n",
      " tf.compat.v1.shape (TFOpLambda  (3,)                0           ['max_pooling1d[0][0]']          \n",
      " )                                                                                                \n",
      "                                                                                                  \n",
      " dense (Dense)                  (None, 128, 1000)    1001000     ['tf.compat.v1.transpose[0][0]'] \n",
      "                                                                                                  \n",
      " tf.__operators__.getitem (Slic  ()                  0           ['tf.compat.v1.shape[0][0]']     \n",
      " ingOpLambda)                                                                                     \n",
      "                                                                                                  \n",
      " dense_1 (Dense)                (None, 128, 1000)    1001000     ['tf.compat.v1.transpose[0][0]'] \n",
      "                                                                                                  \n",
      " tf.reshape (TFOpLambda)        (None, None, 10, 10  0           ['dense[0][0]',                  \n",
      "                                0)                                'tf.__operators__.getitem[0][0]'\n",
      "                                                                 ]                                \n",
      "                                                                                                  \n",
      " tf.reshape_1 (TFOpLambda)      (None, None, 10, 10  0           ['dense_1[0][0]',                \n",
      "                                0)                                'tf.__operators__.getitem[0][0]'\n",
      "                                                                 ]                                \n",
      "                                                                                                  \n",
      " tf.compat.v1.transpose_1 (TFOp  (None, 10, None, 10  0          ['tf.reshape[0][0]']             \n",
      " Lambda)                        0)                                                                \n",
      "                                                                                                  \n",
      " tf.compat.v1.transpose_2 (TFOp  (None, 10, None, 10  0          ['tf.reshape_1[0][0]']           \n",
      " Lambda)                        0)                                                                \n",
      "                                                                                                  \n",
      " tf.linalg.matmul (TFOpLambda)  (None, 10, None, No  0           ['tf.compat.v1.transpose_1[0][0]'\n",
      "                                ne)                              , 'tf.compat.v1.transpose_2[0][0]\n",
      "                                                                 ']                               \n",
      "                                                                                                  \n",
      " dense_2 (Dense)                (None, 128, 1000)    1001000     ['tf.compat.v1.transpose[0][0]'] \n",
      "                                                                                                  \n",
      " tf.math.truediv (TFOpLambda)   (None, 10, None, No  0           ['tf.linalg.matmul[0][0]']       \n",
      "                                ne)                                                               \n",
      "                                                                                                  \n",
      " tf.reshape_2 (TFOpLambda)      (None, None, 10, 10  0           ['dense_2[0][0]',                \n",
      "                                0)                                'tf.__operators__.getitem[0][0]'\n",
      "                                                                 ]                                \n",
      "                                                                                                  \n",
      " softmax (Softmax)              (None, 10, None, No  0           ['tf.math.truediv[0][0]']        \n",
      "                                ne)                                                               \n",
      "                                                                                                  \n",
      " tf.compat.v1.transpose_3 (TFOp  (None, 10, None, 10  0          ['tf.reshape_2[0][0]']           \n",
      " Lambda)                        0)                                                                \n",
      "                                                                                                  \n",
      " tf.linalg.matmul_1 (TFOpLambda  (None, 10, None, 10  0          ['softmax[0][0]',                \n",
      " )                              0)                                'tf.compat.v1.transpose_3[0][0]'\n",
      "                                                                 ]                                \n",
      "                                                                                                  \n",
      " tf.compat.v1.transpose_4 (TFOp  (None, None, 10, 10  0          ['tf.linalg.matmul_1[0][0]']     \n",
      " Lambda)                        0)                                                                \n",
      "                                                                                                  \n",
      " tf.reshape_3 (TFOpLambda)      (None, None, 1000)   0           ['tf.compat.v1.transpose_4[0][0]'\n",
      "                                                                 , 'tf.__operators__.getitem[0][0]\n",
      "                                                                 ']                               \n",
      "                                                                                                  \n",
      " dense_3 (Dense)                (None, None, 1000)   1001000     ['tf.reshape_3[0][0]']           \n",
      "                                                                                                  \n",
      " tf.concat (TFOpLambda)         (None, 128, 2000)    0           ['tf.compat.v1.transpose[0][0]', \n",
      "                                                                  'dense_3[0][0]']                \n",
      "                                                                                                  \n",
      " dense_4 (Dense)                (None, 128, 1000)    2001000     ['tf.concat[0][0]']              \n",
      "                                                                                                  \n",
      " layer_normalization (LayerNorm  (None, 128, 1000)   2000        ['dense_4[0][0]']                \n",
      " alization)                                                                                       \n",
      "                                                                                                  \n",
      " activation_18 (Activation)     (None, 128, 1000)    0           ['layer_normalization[0][0]']    \n",
      "                                                                                                  \n",
      " flatten (Flatten)              (None, 128000)       0           ['activation_18[0][0]']          \n",
      "                                                                                                  \n",
      " dense_5 (Dense)                (None, 200)          25600200    ['flatten[0][0]']                \n",
      "                                                                                                  \n",
      " batch_normalization_18 (BatchN  (None, 200)         800         ['dense_5[0][0]']                \n",
      " ormalization)                                                                                    \n",
      "                                                                                                  \n",
      " dense_6 (Dense)                (None, 20)           4020        ['batch_normalization_18[0][0]'] \n",
      "                                                                                                  \n",
      " dense_7 (Dense)                (None, 1)            21          ['dense_6[0][0]']                \n",
      "                                                                                                  \n",
      "==================================================================================================\n",
      "Total params: 35,133,065\n",
      "Trainable params: 35,125,177\n",
      "Non-trainable params: 7,888\n",
      "__________________________________________________________________________________________________\n"
     ]
    },
    {
     "name": "stdout",
     "output_type": "stream",
     "text": [
      " tf.compat.v1.shape (TFOpLambda  (3,)                0           ['max_pooling1d[0][0]']          \n",
      " )                                                                                                \n",
      "                                                                                                  \n",
      " dense (Dense)                  (None, 128, 1000)    1001000     ['tf.compat.v1.transpose[0][0]'] \n",
      "                                                                                                  \n",
      " tf.__operators__.getitem (Slic  ()                  0           ['tf.compat.v1.shape[0][0]']     \n",
      " ingOpLambda)                                                                                     \n",
      "                                                                                                  \n",
      " dense_1 (Dense)                (None, 128, 1000)    1001000     ['tf.compat.v1.transpose[0][0]'] \n",
      "                                                                                                  \n",
      " tf.reshape (TFOpLambda)        (None, None, 10, 10  0           ['dense[0][0]',                  \n",
      "                                0)                                'tf.__operators__.getitem[0][0]'\n",
      "                                                                 ]                                \n",
      "                                                                                                  \n",
      " tf.reshape_1 (TFOpLambda)      (None, None, 10, 10  0           ['dense_1[0][0]',                \n",
      "                                0)                                'tf.__operators__.getitem[0][0]'\n",
      "                                                                 ]                                \n",
      "                                                                                                  \n",
      " tf.compat.v1.transpose_1 (TFOp  (None, 10, None, 10  0          ['tf.reshape[0][0]']             \n",
      " Lambda)                        0)                                                                \n",
      "                                                                                                  \n",
      " tf.compat.v1.transpose_2 (TFOp  (None, 10, None, 10  0          ['tf.reshape_1[0][0]']           \n",
      " Lambda)                        0)                                                                \n",
      "                                                                                                  \n",
      " tf.linalg.matmul (TFOpLambda)  (None, 10, None, No  0           ['tf.compat.v1.transpose_1[0][0]'\n",
      "                                ne)                              , 'tf.compat.v1.transpose_2[0][0]\n",
      "                                                                 ']                               \n",
      "                                                                                                  \n",
      " dense_2 (Dense)                (None, 128, 1000)    1001000     ['tf.compat.v1.transpose[0][0]'] \n",
      "                                                                                                  \n",
      " tf.math.truediv (TFOpLambda)   (None, 10, None, No  0           ['tf.linalg.matmul[0][0]']       \n",
      "                                ne)                                                               \n",
      "                                                                                                  \n",
      " tf.reshape_2 (TFOpLambda)      (None, None, 10, 10  0           ['dense_2[0][0]',                \n",
      "                                0)                                'tf.__operators__.getitem[0][0]'\n",
      "                                                                 ]                                \n",
      "                                                                                                  \n",
      " softmax (Softmax)              (None, 10, None, No  0           ['tf.math.truediv[0][0]']        \n",
      "                                ne)                                                               \n",
      "                                                                                                  \n",
      " tf.compat.v1.transpose_3 (TFOp  (None, 10, None, 10  0          ['tf.reshape_2[0][0]']           \n",
      " Lambda)                        0)                                                                \n",
      "                                                                                                  \n",
      " tf.linalg.matmul_1 (TFOpLambda  (None, 10, None, 10  0          ['softmax[0][0]',                \n",
      " )                              0)                                'tf.compat.v1.transpose_3[0][0]'\n",
      "                                                                 ]                                \n",
      "                                                                                                  \n",
      " tf.compat.v1.transpose_4 (TFOp  (None, None, 10, 10  0          ['tf.linalg.matmul_1[0][0]']     \n",
      " Lambda)                        0)                                                                \n",
      "                                                                                                  \n",
      " tf.reshape_3 (TFOpLambda)      (None, None, 1000)   0           ['tf.compat.v1.transpose_4[0][0]'\n",
      "                                                                 , 'tf.__operators__.getitem[0][0]\n",
      "                                                                 ']                               \n",
      "                                                                                                  \n",
      " dense_3 (Dense)                (None, None, 1000)   1001000     ['tf.reshape_3[0][0]']           \n",
      "                                                                                                  \n",
      " tf.concat (TFOpLambda)         (None, 128, 2000)    0           ['tf.compat.v1.transpose[0][0]', \n",
      "                                                                  'dense_3[0][0]']                \n",
      "                                                                                                  \n",
      " dense_4 (Dense)                (None, 128, 1000)    2001000     ['tf.concat[0][0]']              \n",
      "                                                                                                  \n",
      " layer_normalization (LayerNorm  (None, 128, 1000)   2000        ['dense_4[0][0]']                \n",
      " alization)                                                                                       \n",
      "                                                                                                  \n",
      " activation_18 (Activation)     (None, 128, 1000)    0           ['layer_normalization[0][0]']    \n",
      "                                                                                                  \n",
      " flatten (Flatten)              (None, 128000)       0           ['activation_18[0][0]']          \n",
      "                                                                                                  \n",
      " dense_5 (Dense)                (None, 200)          25600200    ['flatten[0][0]']                \n",
      "                                                                                                  \n",
      " batch_normalization_18 (BatchN  (None, 200)         800         ['dense_5[0][0]']                \n",
      " ormalization)                                                                                    \n",
      "                                                                                                  \n",
      " dense_6 (Dense)                (None, 20)           4020        ['batch_normalization_18[0][0]'] \n",
      "                                                                                                  \n",
      " dense_7 (Dense)                (None, 1)            21          ['dense_6[0][0]']                \n",
      "                                                                                                  \n",
      "==================================================================================================\n",
      "Total params: 35,133,065\n",
      "Trainable params: 35,125,177\n",
      "Non-trainable params: 7,888\n",
      "__________________________________________________________________________________________________\n"
     ]
    }
   ],
   "source": [
    "model = att_res1d.AttResNet(length, num_channel, model_width, BATCH_SIZE, \n",
    "                      problem_type=problem_type, output_nums=output_nums).AttResNet()\n",
    "model.compile(optimizer=Adam(LEARNING_RATE), loss=LOSS_FUNCTION, metrics=METRICS)\n",
    "model.summary()"
   ]
  },
  {
   "cell_type": "code",
   "execution_count": 17,
   "id": "e7901c9b",
   "metadata": {},
   "outputs": [],
   "source": [
    "from tensorflow.keras.callbacks import ModelCheckpoint, LearningRateScheduler, History, ReduceLROnPlateau, EarlyStopping\n",
    "\n",
    "checkpointer = ModelCheckpoint(best_model_path, monitor='val_loss', verbose=1, save_best_only=True, save_weights_only=False)\n",
    "reduce_lr = ReduceLROnPlateau(monitor='val_loss', factor=0.1, patience=5, verbose=1, min_delta=1e-8)\n",
    "earlystopper = EarlyStopping(monitor='val_loss', patience=30, verbose=1)\n",
    "callbacks_list = [reduce_lr, checkpointer, earlystopper]"
   ]
  },
  {
   "cell_type": "markdown",
   "id": "f0f6e2c3",
   "metadata": {
    "tags": []
   },
   "source": [
    "# train"
   ]
  },
  {
   "cell_type": "code",
   "execution_count": 18,
   "id": "7aa1a995",
   "metadata": {},
   "outputs": [
    {
     "name": "stdout",
     "output_type": "stream",
     "text": [
      "Start Time : 2024-01-10 14:43:25.830545\n",
      "Epoch 1/200\n"
     ]
    },
    {
     "name": "stderr",
     "output_type": "stream",
     "text": [
      "2024-01-10 14:43:39.783477: I tensorflow/stream_executor/cuda/cuda_dnn.cc:384] Loaded cuDNN version 8401\n",
      "2024-01-10 14:43:43.483659: I tensorflow/stream_executor/cuda/cuda_blas.cc:1614] TensorFloat-32 will be used for the matrix multiplication. This will only be logged once.\n"
     ]
    },
    {
     "name": "stdout",
     "output_type": "stream",
     "text": [
      "1169/1169 [==============================] - ETA: 0s - loss: 0.1467 - accuracy: 0.9451\n",
      "Epoch 1: val_loss improved from inf to 2.50938, saving model to /home/gil/gcubme_ai3/Workspace/SB_MUN/9_NIA_46_dysarthria/1_source_abstract/result/model/best_model.h5\n",
      "1169/1169 [==============================] - 624s 522ms/step - loss: 0.1467 - accuracy: 0.9451 - val_loss: 2.5094 - val_accuracy: 0.4076 - lr: 1.0000e-04\n",
      "Epoch 2/200\n",
      "1169/1169 [==============================] - ETA: 0s - loss: 0.0868 - accuracy: 0.9696\n",
      "Epoch 2: val_loss improved from 2.50938 to 1.65532, saving model to /home/gil/gcubme_ai3/Workspace/SB_MUN/9_NIA_46_dysarthria/1_source_abstract/result/model/best_model.h5\n",
      "1169/1169 [==============================] - 603s 516ms/step - loss: 0.0868 - accuracy: 0.9696 - val_loss: 1.6553 - val_accuracy: 0.4012 - lr: 1.0000e-04\n",
      "Epoch 3/200\n",
      "1169/1169 [==============================] - ETA: 0s - loss: 0.0608 - accuracy: 0.9788\n",
      "Epoch 3: val_loss improved from 1.65532 to 0.82521, saving model to /home/gil/gcubme_ai3/Workspace/SB_MUN/9_NIA_46_dysarthria/1_source_abstract/result/model/best_model.h5\n",
      "1169/1169 [==============================] - 603s 516ms/step - loss: 0.0608 - accuracy: 0.9788 - val_loss: 0.8252 - val_accuracy: 0.5484 - lr: 1.0000e-04\n",
      "Epoch 4/200\n",
      "1169/1169 [==============================] - ETA: 0s - loss: 0.0464 - accuracy: 0.9835\n",
      "Epoch 4: val_loss did not improve from 0.82521\n",
      "1169/1169 [==============================] - 596s 510ms/step - loss: 0.0464 - accuracy: 0.9835 - val_loss: 1.5456 - val_accuracy: 0.4382 - lr: 1.0000e-04\n",
      "Epoch 5/200\n",
      "1169/1169 [==============================] - ETA: 0s - loss: 0.0313 - accuracy: 0.9893\n",
      "Epoch 5: val_loss improved from 0.82521 to 0.74648, saving model to /home/gil/gcubme_ai3/Workspace/SB_MUN/9_NIA_46_dysarthria/1_source_abstract/result/model/best_model.h5\n",
      "1169/1169 [==============================] - 601s 514ms/step - loss: 0.0313 - accuracy: 0.9893 - val_loss: 0.7465 - val_accuracy: 0.5305 - lr: 1.0000e-04\n",
      "Epoch 6/200\n",
      "1169/1169 [==============================] - ETA: 0s - loss: 0.0256 - accuracy: 0.9912\n",
      "Epoch 6: val_loss did not improve from 0.74648\n",
      "1169/1169 [==============================] - 596s 510ms/step - loss: 0.0256 - accuracy: 0.9912 - val_loss: 0.9909 - val_accuracy: 0.5241 - lr: 1.0000e-04\n",
      "Epoch 7/200\n",
      "1169/1169 [==============================] - ETA: 0s - loss: 0.0204 - accuracy: 0.9932\n",
      "Epoch 7: val_loss did not improve from 0.74648\n",
      "1169/1169 [==============================] - 595s 509ms/step - loss: 0.0204 - accuracy: 0.9932 - val_loss: 1.0986 - val_accuracy: 0.6167 - lr: 1.0000e-04\n",
      "Epoch 8/200\n",
      "1169/1169 [==============================] - ETA: 0s - loss: 0.0164 - accuracy: 0.9947\n",
      "Epoch 8: val_loss improved from 0.74648 to 0.33619, saving model to /home/gil/gcubme_ai3/Workspace/SB_MUN/9_NIA_46_dysarthria/1_source_abstract/result/model/best_model.h5\n",
      "1169/1169 [==============================] - 601s 514ms/step - loss: 0.0164 - accuracy: 0.9947 - val_loss: 0.3362 - val_accuracy: 0.8838 - lr: 1.0000e-04\n",
      "Epoch 9/200\n",
      "1169/1169 [==============================] - ETA: 0s - loss: 0.0130 - accuracy: 0.9957\n",
      "Epoch 9: val_loss did not improve from 0.33619\n",
      "1169/1169 [==============================] - 596s 510ms/step - loss: 0.0130 - accuracy: 0.9957 - val_loss: 2.2906 - val_accuracy: 0.4612 - lr: 1.0000e-04\n",
      "Epoch 10/200\n",
      "1169/1169 [==============================] - ETA: 0s - loss: 0.0149 - accuracy: 0.9949\n",
      "Epoch 10: val_loss did not improve from 0.33619\n",
      "1169/1169 [==============================] - 597s 511ms/step - loss: 0.0149 - accuracy: 0.9949 - val_loss: 0.6719 - val_accuracy: 0.6213 - lr: 1.0000e-04\n",
      "Epoch 11/200\n",
      "1169/1169 [==============================] - ETA: 0s - loss: 0.0103 - accuracy: 0.9968\n",
      "Epoch 11: val_loss did not improve from 0.33619\n",
      "1169/1169 [==============================] - 596s 510ms/step - loss: 0.0103 - accuracy: 0.9968 - val_loss: 2.1601 - val_accuracy: 0.4537 - lr: 1.0000e-04\n",
      "Epoch 12/200\n",
      "1169/1169 [==============================] - ETA: 0s - loss: 0.0125 - accuracy: 0.9957\n",
      "Epoch 12: val_loss did not improve from 0.33619\n",
      "1169/1169 [==============================] - 594s 508ms/step - loss: 0.0125 - accuracy: 0.9957 - val_loss: 3.2590 - val_accuracy: 0.4047 - lr: 1.0000e-04\n",
      "Epoch 13/200\n",
      "1169/1169 [==============================] - ETA: 0s - loss: 0.0099 - accuracy: 0.9971\n",
      "Epoch 13: ReduceLROnPlateau reducing learning rate to 9.999999747378752e-06.\n",
      "\n",
      "Epoch 13: val_loss did not improve from 0.33619\n",
      "1169/1169 [==============================] - 592s 507ms/step - loss: 0.0099 - accuracy: 0.9971 - val_loss: 1.0405 - val_accuracy: 0.5211 - lr: 1.0000e-04\n",
      "Epoch 14/200\n",
      "1169/1169 [==============================] - ETA: 0s - loss: 0.0047 - accuracy: 0.9990\n",
      "Epoch 14: val_loss did not improve from 0.33619\n",
      "1169/1169 [==============================] - 592s 506ms/step - loss: 0.0047 - accuracy: 0.9990 - val_loss: 0.9418 - val_accuracy: 0.6278 - lr: 1.0000e-05\n",
      "Epoch 15/200\n",
      "1169/1169 [==============================] - ETA: 0s - loss: 0.0027 - accuracy: 0.9996\n",
      "Epoch 15: val_loss improved from 0.33619 to 0.15685, saving model to /home/gil/gcubme_ai3/Workspace/SB_MUN/9_NIA_46_dysarthria/1_source_abstract/result/model/best_model.h5\n",
      "1169/1169 [==============================] - 598s 512ms/step - loss: 0.0027 - accuracy: 0.9996 - val_loss: 0.1569 - val_accuracy: 0.9496 - lr: 1.0000e-05\n",
      "Epoch 16/200\n",
      "1169/1169 [==============================] - ETA: 0s - loss: 0.0021 - accuracy: 0.9997\n",
      "Epoch 16: val_loss did not improve from 0.15685\n",
      "1169/1169 [==============================] - 593s 507ms/step - loss: 0.0021 - accuracy: 0.9997 - val_loss: 1.1429 - val_accuracy: 0.5874 - lr: 1.0000e-05\n",
      "Epoch 17/200\n",
      "1169/1169 [==============================] - ETA: 0s - loss: 0.0021 - accuracy: 0.9997\n",
      "Epoch 17: val_loss improved from 0.15685 to 0.13011, saving model to /home/gil/gcubme_ai3/Workspace/SB_MUN/9_NIA_46_dysarthria/1_source_abstract/result/model/best_model.h5\n",
      "1169/1169 [==============================] - 598s 512ms/step - loss: 0.0021 - accuracy: 0.9997 - val_loss: 0.1301 - val_accuracy: 0.9658 - lr: 1.0000e-05\n",
      "Epoch 18/200\n",
      "1169/1169 [==============================] - ETA: 0s - loss: 0.0019 - accuracy: 0.9997\n",
      "Epoch 18: val_loss did not improve from 0.13011\n",
      "1169/1169 [==============================] - 592s 507ms/step - loss: 0.0019 - accuracy: 0.9997 - val_loss: 2.8895 - val_accuracy: 0.4395 - lr: 1.0000e-05\n",
      "Epoch 19/200\n",
      "1169/1169 [==============================] - ETA: 0s - loss: 0.0018 - accuracy: 0.9997\n",
      "Epoch 19: val_loss did not improve from 0.13011\n",
      "1169/1169 [==============================] - 592s 506ms/step - loss: 0.0018 - accuracy: 0.9997 - val_loss: 0.1354 - val_accuracy: 0.9671 - lr: 1.0000e-05\n",
      "Epoch 20/200\n",
      "1169/1169 [==============================] - ETA: 0s - loss: 0.0018 - accuracy: 0.9997\n",
      "Epoch 20: val_loss did not improve from 0.13011\n",
      "1169/1169 [==============================] - 591s 506ms/step - loss: 0.0018 - accuracy: 0.9997 - val_loss: 0.1633 - val_accuracy: 0.9633 - lr: 1.0000e-05\n",
      "Epoch 21/200\n",
      "1169/1169 [==============================] - ETA: 0s - loss: 0.0018 - accuracy: 0.9997\n",
      "Epoch 21: val_loss did not improve from 0.13011\n",
      "1169/1169 [==============================] - 592s 506ms/step - loss: 0.0018 - accuracy: 0.9997 - val_loss: 0.1493 - val_accuracy: 0.9692 - lr: 1.0000e-05\n",
      "Epoch 22/200\n",
      "1169/1169 [==============================] - ETA: 0s - loss: 0.0016 - accuracy: 0.9997\n",
      "Epoch 22: ReduceLROnPlateau reducing learning rate to 9.999999747378752e-07.\n",
      "\n",
      "Epoch 22: val_loss did not improve from 0.13011\n",
      "1169/1169 [==============================] - 592s 507ms/step - loss: 0.0016 - accuracy: 0.9997 - val_loss: 0.1461 - val_accuracy: 0.9675 - lr: 1.0000e-05\n",
      "Epoch 23/200\n",
      "1169/1169 [==============================] - ETA: 0s - loss: 0.0015 - accuracy: 0.9997\n",
      "Epoch 23: val_loss did not improve from 0.13011\n",
      "1169/1169 [==============================] - 592s 507ms/step - loss: 0.0015 - accuracy: 0.9997 - val_loss: 0.1444 - val_accuracy: 0.9679 - lr: 1.0000e-06\n",
      "Epoch 24/200\n",
      "1169/1169 [==============================] - ETA: 0s - loss: 0.0014 - accuracy: 0.9997\n",
      "Epoch 24: val_loss did not improve from 0.13011\n",
      "1169/1169 [==============================] - 592s 506ms/step - loss: 0.0014 - accuracy: 0.9997 - val_loss: 0.1470 - val_accuracy: 0.9675 - lr: 1.0000e-06\n"
     ]
    },
    {
     "name": "stdout",
     "output_type": "stream",
     "text": [
      "Epoch 25/200\n",
      "1169/1169 [==============================] - ETA: 0s - loss: 0.0014 - accuracy: 0.9997\n",
      "Epoch 25: val_loss did not improve from 0.13011\n",
      "1169/1169 [==============================] - 593s 507ms/step - loss: 0.0014 - accuracy: 0.9997 - val_loss: 0.1593 - val_accuracy: 0.9638 - lr: 1.0000e-06\n",
      "Epoch 26/200\n",
      "1169/1169 [==============================] - ETA: 0s - loss: 0.0014 - accuracy: 0.9997\n",
      "Epoch 26: val_loss did not improve from 0.13011\n",
      "1169/1169 [==============================] - 592s 507ms/step - loss: 0.0014 - accuracy: 0.9997 - val_loss: 0.1474 - val_accuracy: 0.9677 - lr: 1.0000e-06\n",
      "Epoch 27/200\n",
      "1169/1169 [==============================] - ETA: 0s - loss: 0.0015 - accuracy: 0.9997\n",
      "Epoch 27: ReduceLROnPlateau reducing learning rate to 9.999999974752428e-08.\n",
      "\n",
      "Epoch 27: val_loss did not improve from 0.13011\n",
      "1169/1169 [==============================] - 592s 506ms/step - loss: 0.0015 - accuracy: 0.9997 - val_loss: 0.1488 - val_accuracy: 0.9696 - lr: 1.0000e-06\n",
      "Epoch 28/200\n",
      "1169/1169 [==============================] - ETA: 0s - loss: 0.0014 - accuracy: 0.9997\n",
      "Epoch 28: val_loss did not improve from 0.13011\n",
      "1169/1169 [==============================] - 592s 506ms/step - loss: 0.0014 - accuracy: 0.9997 - val_loss: 0.1486 - val_accuracy: 0.9698 - lr: 1.0000e-07\n",
      "Epoch 29/200\n",
      "1169/1169 [==============================] - ETA: 0s - loss: 0.0014 - accuracy: 0.9997\n",
      "Epoch 29: val_loss did not improve from 0.13011\n",
      "1169/1169 [==============================] - 592s 506ms/step - loss: 0.0014 - accuracy: 0.9997 - val_loss: 0.1486 - val_accuracy: 0.9700 - lr: 1.0000e-07\n",
      "Epoch 30/200\n",
      "1169/1169 [==============================] - ETA: 0s - loss: 0.0015 - accuracy: 0.9997\n",
      "Epoch 30: val_loss did not improve from 0.13011\n",
      "1169/1169 [==============================] - 592s 506ms/step - loss: 0.0015 - accuracy: 0.9997 - val_loss: 0.1478 - val_accuracy: 0.9698 - lr: 1.0000e-07\n",
      "Epoch 31/200\n",
      "1169/1169 [==============================] - ETA: 0s - loss: 0.0015 - accuracy: 0.9997\n",
      "Epoch 31: val_loss did not improve from 0.13011\n",
      "1169/1169 [==============================] - 591s 506ms/step - loss: 0.0015 - accuracy: 0.9997 - val_loss: 0.1545 - val_accuracy: 0.9694 - lr: 1.0000e-07\n",
      "Epoch 32/200\n",
      "1169/1169 [==============================] - ETA: 0s - loss: 0.0016 - accuracy: 0.9997\n",
      "Epoch 32: ReduceLROnPlateau reducing learning rate to 1.0000000116860975e-08.\n",
      "\n",
      "Epoch 32: val_loss did not improve from 0.13011\n",
      "1169/1169 [==============================] - 592s 506ms/step - loss: 0.0016 - accuracy: 0.9997 - val_loss: 0.1467 - val_accuracy: 0.9696 - lr: 1.0000e-07\n",
      "Epoch 33/200\n",
      "1169/1169 [==============================] - ETA: 0s - loss: 0.0014 - accuracy: 0.9997\n",
      "Epoch 33: val_loss did not improve from 0.13011\n",
      "1169/1169 [==============================] - 593s 507ms/step - loss: 0.0014 - accuracy: 0.9997 - val_loss: 0.1457 - val_accuracy: 0.9696 - lr: 1.0000e-08\n",
      "Epoch 34/200\n",
      "1169/1169 [==============================] - ETA: 0s - loss: 0.0014 - accuracy: 0.9997\n",
      "Epoch 34: val_loss did not improve from 0.13011\n",
      "1169/1169 [==============================] - 594s 508ms/step - loss: 0.0014 - accuracy: 0.9997 - val_loss: 0.1477 - val_accuracy: 0.9698 - lr: 1.0000e-08\n",
      "Epoch 35/200\n",
      "1169/1169 [==============================] - ETA: 0s - loss: 0.0014 - accuracy: 0.9997\n",
      "Epoch 35: val_loss did not improve from 0.13011\n",
      "1169/1169 [==============================] - 593s 508ms/step - loss: 0.0014 - accuracy: 0.9997 - val_loss: 0.1471 - val_accuracy: 0.9704 - lr: 1.0000e-08\n",
      "Epoch 36/200\n",
      "1169/1169 [==============================] - ETA: 0s - loss: 0.0014 - accuracy: 0.9997\n",
      "Epoch 36: val_loss did not improve from 0.13011\n",
      "1169/1169 [==============================] - 594s 508ms/step - loss: 0.0014 - accuracy: 0.9997 - val_loss: 0.1486 - val_accuracy: 0.9700 - lr: 1.0000e-08\n",
      "Epoch 37/200\n",
      "1169/1169 [==============================] - ETA: 0s - loss: 0.0014 - accuracy: 0.9997\n",
      "Epoch 37: ReduceLROnPlateau reducing learning rate to 9.999999939225292e-10.\n",
      "\n",
      "Epoch 37: val_loss did not improve from 0.13011\n",
      "1169/1169 [==============================] - 593s 507ms/step - loss: 0.0014 - accuracy: 0.9997 - val_loss: 0.1464 - val_accuracy: 0.9700 - lr: 1.0000e-08\n",
      "Epoch 38/200\n",
      "1169/1169 [==============================] - ETA: 0s - loss: 0.0015 - accuracy: 0.9997\n",
      "Epoch 38: val_loss did not improve from 0.13011\n",
      "1169/1169 [==============================] - 594s 508ms/step - loss: 0.0015 - accuracy: 0.9997 - val_loss: 0.1463 - val_accuracy: 0.9696 - lr: 1.0000e-09\n",
      "Epoch 39/200\n",
      "1169/1169 [==============================] - ETA: 0s - loss: 0.0014 - accuracy: 0.9997\n",
      "Epoch 39: val_loss did not improve from 0.13011\n",
      "1169/1169 [==============================] - 594s 508ms/step - loss: 0.0014 - accuracy: 0.9997 - val_loss: 0.1483 - val_accuracy: 0.9696 - lr: 1.0000e-09\n",
      "Epoch 40/200\n",
      "1169/1169 [==============================] - ETA: 0s - loss: 0.0014 - accuracy: 0.9997\n",
      "Epoch 40: val_loss did not improve from 0.13011\n",
      "1169/1169 [==============================] - 594s 508ms/step - loss: 0.0014 - accuracy: 0.9997 - val_loss: 0.1476 - val_accuracy: 0.9696 - lr: 1.0000e-09\n",
      "Epoch 41/200\n",
      "1169/1169 [==============================] - ETA: 0s - loss: 0.0014 - accuracy: 0.9997\n",
      "Epoch 41: val_loss did not improve from 0.13011\n",
      "1169/1169 [==============================] - 592s 506ms/step - loss: 0.0014 - accuracy: 0.9997 - val_loss: 0.1479 - val_accuracy: 0.9694 - lr: 1.0000e-09\n",
      "Epoch 42/200\n",
      "1169/1169 [==============================] - ETA: 0s - loss: 0.0014 - accuracy: 0.9997\n",
      "Epoch 42: ReduceLROnPlateau reducing learning rate to 9.999999717180686e-11.\n",
      "\n",
      "Epoch 42: val_loss did not improve from 0.13011\n",
      "1169/1169 [==============================] - 592s 507ms/step - loss: 0.0014 - accuracy: 0.9997 - val_loss: 0.1465 - val_accuracy: 0.9696 - lr: 1.0000e-09\n",
      "Epoch 43/200\n",
      "1169/1169 [==============================] - ETA: 0s - loss: 0.0014 - accuracy: 0.9997\n",
      "Epoch 43: val_loss did not improve from 0.13011\n",
      "1169/1169 [==============================] - 592s 507ms/step - loss: 0.0014 - accuracy: 0.9997 - val_loss: 0.1465 - val_accuracy: 0.9694 - lr: 1.0000e-10\n",
      "Epoch 44/200\n",
      "1169/1169 [==============================] - ETA: 0s - loss: 0.0014 - accuracy: 0.9997\n",
      "Epoch 44: val_loss did not improve from 0.13011\n",
      "1169/1169 [==============================] - 592s 507ms/step - loss: 0.0014 - accuracy: 0.9997 - val_loss: 0.1458 - val_accuracy: 0.9698 - lr: 1.0000e-10\n",
      "Epoch 45/200\n",
      "1169/1169 [==============================] - ETA: 0s - loss: 0.0014 - accuracy: 0.9997\n",
      "Epoch 45: val_loss did not improve from 0.13011\n",
      "1169/1169 [==============================] - 592s 506ms/step - loss: 0.0014 - accuracy: 0.9997 - val_loss: 0.1474 - val_accuracy: 0.9696 - lr: 1.0000e-10\n",
      "Epoch 46/200\n",
      "1169/1169 [==============================] - ETA: 0s - loss: 0.0015 - accuracy: 0.9997\n",
      "Epoch 46: val_loss did not improve from 0.13011\n",
      "1169/1169 [==============================] - 592s 506ms/step - loss: 0.0015 - accuracy: 0.9997 - val_loss: 0.1465 - val_accuracy: 0.9694 - lr: 1.0000e-10\n",
      "Epoch 47/200\n",
      "1169/1169 [==============================] - ETA: 0s - loss: 0.0014 - accuracy: 0.9997\n",
      "Epoch 47: ReduceLROnPlateau reducing learning rate to 9.99999943962493e-12.\n",
      "\n",
      "Epoch 47: val_loss did not improve from 0.13011\n",
      "1169/1169 [==============================] - 592s 506ms/step - loss: 0.0014 - accuracy: 0.9997 - val_loss: 0.1496 - val_accuracy: 0.9698 - lr: 1.0000e-10\n",
      "Epoch 47: early stopping\n",
      "End Time : 2024-01-10 22:29:22.951647\n",
      "Running Time : 7:45:57.121102\n",
      "Done training\n"
     ]
    }
   ],
   "source": [
    "from datetime import datetime\n",
    "startTime = datetime.now()\n",
    "\n",
    "print('Start Time : {0}'.format(startTime))\n",
    "###############################################################################################\n",
    "\n",
    "hist = model.fit(train_X, train_Y, \n",
    "                 batch_size=BATCH_SIZE, epochs=EPOCHS, verbose=1, \n",
    "                 validation_data = (validation_X, validation_Y), \n",
    "                 callbacks=callbacks_list)\n",
    "\n",
    "################################################################################################\n",
    "\n",
    "endTime = datetime.now()\n",
    "runTime = endTime - startTime\n",
    "\n",
    "print('End Time : {0}'.format(endTime))\n",
    "print('Running Time : ' + str(runTime))\n",
    "\n",
    "print('Done training')"
   ]
  },
  {
   "cell_type": "code",
   "execution_count": 19,
   "id": "c185b54c-1a38-4b3a-8878-6a8655d1ba88",
   "metadata": {
    "tags": []
   },
   "outputs": [],
   "source": [
    "model.save(model_path)"
   ]
  },
  {
   "cell_type": "code",
   "execution_count": 20,
   "id": "f6d5bae5",
   "metadata": {},
   "outputs": [
    {
     "data": {
      "image/png": "[encoded data removed]",
      "text/plain": [
       "<Figure size 640x480 with 1 Axes>"
      ]
     },
     "metadata": {},
     "output_type": "display_data"
    },
    {
     "data": {
      "image/png": "[encoded data removed]",
      "text/plain": [
       "<Figure size 640x480 with 1 Axes>"
      ]
     },
     "metadata": {},
     "output_type": "display_data"
    }
   ],
   "source": [
    "import matplotlib.pylab as plt\n",
    "plt.plot(hist.history['accuracy'])\n",
    "plt.plot(hist.history['val_accuracy'])\n",
    "# plt.plot(hist.history['val_loss'])\n",
    "# plt.plot(hist.history['loss'])\n",
    "plt.title('Model Accuracy')\n",
    "plt.ylabel('Accuracy')\n",
    "plt.xlabel('Epoch')\n",
    "plt.legend(['Train', 'Validation'], loc='upper right', bbox_to_anchor=(1.3, 1))\n",
    "plt.show()\n",
    "\n",
    "plt.plot(hist.history['loss'])\n",
    "plt.plot(hist.history['val_loss'])\n",
    "# plt.plot(hist.history['val_loss'])\n",
    "# plt.plot(hist.history['loss'])\n",
    "plt.title('Model Loss')\n",
    "plt.ylabel('Accuracy')\n",
    "plt.xlabel('Epoch')\n",
    "plt.legend(['Train', 'Validation'], loc='upper right', bbox_to_anchor=(1.3, 1))\n",
    "plt.show()"
   ]
  },
  {
   "cell_type": "markdown",
   "id": "919e0062",
   "metadata": {},
   "source": [
    "# test"
   ]
  },
  {
   "cell_type": "code",
   "execution_count": 21,
   "id": "b1db02d8",
   "metadata": {},
   "outputs": [
    {
     "name": "stdout",
     "output_type": "stream",
     "text": [
      "2500\n",
      "Total data len : 2500\n"
     ]
    },
    {
     "data": {
      "application/vnd.jupyter.widget-view+json": {
       "model_id": "6ee20884705042a6ae7bc0417099591d",
       "version_major": 2,
       "version_minor": 0
      },
      "text/plain": [
       "  0%|          | 0/2500 [00:00<?, ?it/s]"
      ]
     },
     "metadata": {},
     "output_type": "display_data"
    },
    {
     "name": "stdout",
     "output_type": "stream",
     "text": [
      "X_data shape:  (4757, 64000, 1) \t Y_data shape:  (4757, 1)\n"
     ]
    }
   ],
   "source": [
    "test_X_csv_list = sorted(glob.glob(f'{DATA_PATH}/test/*.csv'))\n",
    "print(len(test_X_csv_list))\n",
    "\n",
    "test_X_npy_list = [csv_path.split('.csv')[0] + '_X.npy' for csv_path in test_X_csv_list]\n",
    "test_Y_npy_list = [csv_path.split('.csv')[0] + '_Y.npy' for csv_path in test_X_csv_list]\n",
    "\n",
    "test_X, test_Y = npy_load(test_X_npy_list, test_Y_npy_list)"
   ]
  },
  {
   "cell_type": "code",
   "execution_count": 22,
   "id": "c7373be2",
   "metadata": {},
   "outputs": [],
   "source": [
    "from keras.models import load_model\n",
    "\n",
    "model = load_model(best_model_path)"
   ]
  },
  {
   "cell_type": "code",
   "execution_count": 23,
   "id": "b3962613",
   "metadata": {},
   "outputs": [
    {
     "name": "stdout",
     "output_type": "stream",
     "text": [
      "75/75 [==============================] - 23s 245ms/step\n"
     ]
    }
   ],
   "source": [
    "predicted = model.predict(test_X, batch_size=64, verbose=1)"
   ]
  },
  {
   "cell_type": "code",
   "execution_count": 24,
   "id": "77cb4c8e",
   "metadata": {},
   "outputs": [],
   "source": [
    "predict_Y = predicted > 0.5"
   ]
  },
  {
   "cell_type": "code",
   "execution_count": 25,
   "id": "649edd4d",
   "metadata": {},
   "outputs": [
    {
     "name": "stdout",
     "output_type": "stream",
     "text": [
      "2997\n",
      "1760\n",
      "==================================================\n",
      "3087\n",
      "1670\n"
     ]
    }
   ],
   "source": [
    "print(list(predict_Y).count(0))\n",
    "print(list(predict_Y).count(1))\n",
    "print('='*50)\n",
    "print(list(test_Y).count(0))\n",
    "print(list(test_Y).count(1))\n"
   ]
  },
  {
   "cell_type": "code",
   "execution_count": 28,
   "id": "6865651d",
   "metadata": {},
   "outputs": [
    {
     "name": "stdout",
     "output_type": "stream",
     "text": [
      "[[2938  149]\n",
      " [  59 1611]]\n",
      "sensitivity : 96.47\n",
      "specificity : 95.17\n",
      "accuracy    : 95.63\n",
      "precision   : 91.53\n",
      "f1          : 93.94\n"
     ]
    }
   ],
   "source": [
    "from sklearn.metrics import confusion_matrix, accuracy_score, precision_score, recall_score, f1_score\n",
    "from imblearn.metrics import sensitivity_score, specificity_score\n",
    "\n",
    "cm = confusion_matrix(test_Y, predict_Y)\n",
    "sensitivity = sensitivity_score(test_Y, predict_Y)\n",
    "specificity = specificity_score(test_Y, predict_Y)\n",
    "accuracy = accuracy_score(test_Y, predict_Y)\n",
    "precision = precision_score(test_Y, predict_Y)\n",
    "f1 = f1_score(test_Y, predict_Y)\n",
    "\n",
    "print(cm)\n",
    "print(f'sensitivity : {round(sensitivity*100, 2)}')\n",
    "print(f'specificity : {round(specificity*100, 2)}')\n",
    "print(f'accuracy    : {round(accuracy*100, 2)}')\n",
    "print(f'precision   : {round(precision*100, 2)}')\n",
    "print(f'f1          : {round(f1*100, 2)}')\n"
   ]
  },
  {
   "cell_type": "code",
   "execution_count": null,
   "id": "2134d4e4",
   "metadata": {},
   "outputs": [],
   "source": [
    "# Attention resnet"
   ]
  },
  {
   "cell_type": "code",
   "execution_count": null,
   "id": "0569ded5",
   "metadata": {},
   "outputs": [],
   "source": []
  },
  {
   "cell_type": "code",
   "execution_count": null,
   "id": "978488cb",
   "metadata": {},
   "outputs": [],
   "source": []
  },
  {
   "cell_type": "code",
   "execution_count": null,
   "id": "05e14ba0",
   "metadata": {},
   "outputs": [],
   "source": []
  },
  {
   "cell_type": "code",
   "execution_count": null,
   "id": "1c5897c0",
   "metadata": {},
   "outputs": [],
   "source": []
  }
 ],
 "metadata": {
  "kernelspec": {
   "display_name": "Python 3 (ipykernel)",
   "language": "python",
   "name": "python3"
  },
  "language_info": {
   "codemirror_mode": {
    "name": "ipython",
    "version": 3
   },
   "file_extension": ".py",
   "mimetype": "text/x-python",
   "name": "python",
   "nbconvert_exporter": "python",
   "pygments_lexer": "ipython3",
   "version": "3.10.0"
  }
 },
 "nbformat": 4,
 "nbformat_minor": 5
}
