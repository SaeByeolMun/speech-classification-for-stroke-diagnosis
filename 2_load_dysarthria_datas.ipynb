{
 "cells": [
  {
   "cell_type": "code",
   "execution_count": 1,
   "id": "30bebd61",
   "metadata": {},
   "outputs": [],
   "source": [
    "#!pip install tqdm"
   ]
  },
  {
   "cell_type": "markdown",
   "id": "bcba8b72",
   "metadata": {},
   "source": [
    "# 장애음성 중에서 뇌졸증(구음장애) classification\n",
    "#### CI : 뇌졸중 O       (뇌경색, 뇌출혈)\n",
    "#### HI : 뇌졸중 X       (루게릭, 청각장애)\n"
   ]
  },
  {
   "cell_type": "code",
   "execution_count": 2,
   "id": "fd10d97c",
   "metadata": {},
   "outputs": [
    {
     "name": "stdout",
     "output_type": "stream",
     "text": [
      "/home/gil/gcubme_ai3/Workspace/SB_MUN\n"
     ]
    }
   ],
   "source": [
    "import enum\n",
    "import glob, librosa, random\n",
    "import numpy as np\n",
    "import pandas as pd\n",
    "from typing import Union\n",
    "import json\n",
    "import os\n",
    "\n",
    "from tqdm import tqdm, tqdm_notebook\n",
    "\n",
    "import sys\n",
    "path = os.path.abspath('../../')\n",
    "print(path)\n",
    "sys.path.append(path)\n",
    "# sys.path.append('./utils')\n",
    "from CommonUtil import *"
   ]
  },
  {
   "cell_type": "code",
   "execution_count": 3,
   "id": "dfc9b358",
   "metadata": {},
   "outputs": [
    {
     "name": "stdout",
     "output_type": "stream",
     "text": [
      "/home/gil/gcubme_ai3/Workspace/SB_MUN/9_NIA_46_dysarthria/1_source_abstract/data/origin2\n",
      "/home/gil/gcubme_ai3/Workspace/SB_MUN/9_NIA_46_dysarthria/1_source_abstract/data/preproc2\n"
     ]
    }
   ],
   "source": [
    "# BASE_PATH = \"C:\\kwoncy\\\\nlp\\dysarthria2\\data\\**\"\n",
    "BASE_PATH = os.path.abspath('./data/origin2')\n",
    "SAVE_PATH = os.path.abspath('./data/preproc2')\n",
    "\n",
    "SAMPLE_RATE = 16000\n",
    "WINDOW_SIZE = 64000\n",
    "length = 5000\n",
    "\n",
    "save_train =os.path.join(SAVE_PATH, 'train') \n",
    "save_validation = os.path.join(SAVE_PATH, 'validation')\n",
    "save_test = os.path.join(SAVE_PATH, 'test')\n",
    "\n",
    "os.makedirs(save_train, exist_ok=True)\n",
    "os.makedirs(save_validation, exist_ok=True)\n",
    "os.makedirs(save_test, exist_ok=True)\n",
    "\n",
    "print(BASE_PATH)\n",
    "print(SAVE_PATH)"
   ]
  },
  {
   "cell_type": "code",
   "execution_count": 4,
   "id": "87edd0f3",
   "metadata": {},
   "outputs": [
    {
     "name": "stdout",
     "output_type": "stream",
     "text": [
      "25000\n"
     ]
    }
   ],
   "source": [
    "total_dir = f'{BASE_PATH}/*/*/*_SCO_*.wav'\n",
    "total_list = sorted(glob.glob(total_dir))\n",
    "print(len(total_list))\n"
   ]
  },
  {
   "cell_type": "code",
   "execution_count": 5,
   "id": "9f650897",
   "metadata": {},
   "outputs": [
    {
     "name": "stdout",
     "output_type": "stream",
     "text": [
      "20000\n",
      "2500\n",
      "2500\n"
     ]
    }
   ],
   "source": [
    "trai_dir = f'{BASE_PATH}/train/*/*_SCO_*.wav'\n",
    "vali_dir = f'{BASE_PATH}/validation/*/*_SCO_*.wav'\n",
    "test_dir = f'{BASE_PATH}/test/*/*_SCO_*.wav'\n",
    "\n",
    "\n",
    "trai_list = sorted(glob.glob(trai_dir))\n",
    "vali_list = sorted(glob.glob(vali_dir))\n",
    "test_list = sorted(glob.glob(test_dir))\n",
    "\n",
    "print(len(trai_list))\n",
    "print(len(vali_list))\n",
    "print(len(test_list))\n"
   ]
  },
  {
   "cell_type": "code",
   "execution_count": 6,
   "id": "cab4fc75",
   "metadata": {},
   "outputs": [],
   "source": [
    "def normalization(list):\n",
    "    list = np.array(list)\n",
    "    #df = pd.DataFrame(list)\n",
    "    \n",
    "    max_list = 1\n",
    "    min_list = -1\n",
    "    \n",
    "    list = list + abs(min_list)\n",
    "    \n",
    "    max_list = 2\n",
    "    min_list = 0\n",
    "    \n",
    "    list_norm = (list - min_list) / (max_list - min_list)\n",
    "    \n",
    "    return list_norm"
   ]
  },
  {
   "cell_type": "code",
   "execution_count": 7,
   "id": "28bafcb7",
   "metadata": {},
   "outputs": [],
   "source": [
    "class Patient:\n",
    "    def __init__(self, wav_files, save_path:'str') -> None:\n",
    "        self.save_path = save_path\n",
    "        self.wav_files:'list[str]' = wav_files\n",
    "        self.wav_files_length = len(self.wav_files)\n",
    "#         print(\"self.wav_files's length: \", len(self.wav_files))\n",
    "        \n",
    "        self.original_wavs = None\n",
    "        self.temp_wavs = None\n",
    "        self.y_data_list = None\n",
    "        # self.load_wavs()\n",
    "    \n",
    "    def load_wav(self, wav_file:str) -> np.ndarray:\n",
    "        arr, sr =  librosa.load(wav_file, sr = SAMPLE_RATE)\n",
    "        return arr\n",
    "    \n",
    "    def load_json(self, wav_path:str):\n",
    "        dir = os.path.dirname(wav_path)\n",
    "        filename = os.path.basename(wav_path).split('.wav')[0]\n",
    "       \n",
    "        json_path = f'{dir}/{filename}.json'\n",
    "       \n",
    "        with open(json_path, 'r') as json_file:\n",
    "            json_data = json.load(json_file)\n",
    "           # print(json_data['speaker']['classification'])\n",
    "        \n",
    "        classification = json_data['speaker']['classification']    \n",
    "        if classification == 'CI' or classification =='IH':\n",
    "            y = 1.0\n",
    "        else:\n",
    "            y = 0.0\n",
    "        return y\n",
    "    \n",
    "    def load_json_info(self, wav_path:str):\n",
    "        dir = os.path.dirname(wav_path)\n",
    "        filename = os.path.basename(wav_path).split('.wav')[0]\n",
    "       \n",
    "        json_path = f'{dir}/{filename}.json'\n",
    "       \n",
    "        with open(json_path, 'r') as json_file:\n",
    "            json_data = json.load(json_file)\n",
    "           # print(json_data['speaker']['classification'])\n",
    "        return json_data\n",
    "    \n",
    "    def load_wavs(self, wav_files:'list[str]'=None, n:int=None) -> 'Patient':\n",
    "        ## load wav files. if input is None, then loads self.wav_files which is indicate the files made at the time this class being instance.\n",
    "        ## this function will set self.loaded_wavs using input list of wav_files\n",
    "        if wav_files == None:\n",
    "            wav_files = self.wav_files\n",
    "            \n",
    "        length_wav_files = len(wav_files)\n",
    "        self.original_wavs = []\n",
    "        self.y_data_list = []\n",
    "        \n",
    "        for a in (range(len(wav_files))):\n",
    "            wav_path = wav_files[a]\n",
    "            wav_file = self.load_wav(wav_path)\n",
    "            classification = self.load_json(wav_path)\n",
    "            self.original_wavs.append(wav_file)\n",
    "            self.y_data_list.append(classification)\n",
    "#         print(f'successful --> {len(self.original_wavs)}, {len(self.y_data_list)}')\n",
    "        \n",
    "        return self\n",
    "    \n",
    "#============================================================================================================ \n",
    "    def padded_wav(self, audio, classification):\n",
    "        if len(audio) <= WINDOW_SIZE:\n",
    "            data_count = 1\n",
    "            X = np.zeros((data_count, WINDOW_SIZE, ), dtype=np.float32)\n",
    "            X[0, :len(audio)] = audio[:]\n",
    "        elif len(audio) > WINDOW_SIZE:\n",
    "            data_count = int(len(audio) // WINDOW_SIZE + 1)\n",
    "            X = np.zeros((data_count, WINDOW_SIZE, ), dtype=np.float32)\n",
    "            data_len = int(len(audio) / data_count)\n",
    "            for a in range(data_count):\n",
    "                X[a,:data_len] = audio[a*data_len:(a+1)*data_len]\n",
    "        \n",
    "        if classification == 0.0:\n",
    "            Y = np.zeros((data_count, ))\n",
    "        elif classification == 1.0:\n",
    "            Y = np.ones((data_count, ))\n",
    "        \n",
    "        return X, Y, data_count\n",
    "    \n",
    "    \n",
    "    def save_nparray(self, nparray:np.ndarray=None, save_name:str='') -> 'Patient':\n",
    "        data_x = []\n",
    "        data_y = []\n",
    "        \n",
    "        data_count_list = []\n",
    "        for a in (range(len(self.original_wavs))):\n",
    "            audio = self.original_wavs[a]\n",
    "            classification = self.y_data_list[a]\n",
    "            X, Y, data_count = self.padded_wav(audio, classification)\n",
    "            data_x.extend(X)\n",
    "            data_y.extend(Y)\n",
    "            data_count_list.append(data_count)\n",
    "            \n",
    "        save_path_X = f\"{self.save_path}/{save_name}_X.npy\"\n",
    "        save_path_Y = f\"{self.save_path}/{save_name}_Y.npy\"\n",
    "        save_path_CSV = f\"{self.save_path}/{save_name}.csv\"\n",
    "        \n",
    "        data_x = normalization(data_x)\n",
    "        data_y = np.array(data_y)\n",
    "#         print(data_x.shape)\n",
    "#         print(data_y.shape)\n",
    "        \n",
    "        \n",
    "        np.save(save_path_X, data_x)\n",
    "        np.save(save_path_Y, data_y)\n",
    "        \n",
    "#         print(f'successful --> {data_x.shape}, {data_y.shape}')\n",
    "        \n",
    "        df = pd.DataFrame({\"wav_files\": self.wav_files, \"y_data\": self.y_data_list, \"data_count\":data_count_list})\n",
    "        df.to_csv(save_path_CSV, index=None, encoding=\"utf-8-sig\")\n",
    "        return self\n"
   ]
  },
  {
   "cell_type": "markdown",
   "id": "4f95ce24",
   "metadata": {},
   "source": [
    "# 3. 일괄 데이터셋 생성하기"
   ]
  },
  {
   "cell_type": "code",
   "execution_count": 8,
   "id": "098a41aa",
   "metadata": {},
   "outputs": [],
   "source": [
    "def save_preproc(save_dir, data_list):\n",
    "    \n",
    "    for a in tqdm_notebook(range(len(data_list))):\n",
    "\n",
    "        wav_files = [data_list[a]]\n",
    "        save_name = os.path.basename(wav_files[0]).split('.wav')[0]\n",
    "    \n",
    "        data_path = f'{save_dir}/{save_name}'\n",
    "            \n",
    "        patient = Patient(wav_files, save_dir).load_wavs()\n",
    "        patient.save_nparray(save_name=save_name)"
   ]
  },
  {
   "cell_type": "code",
   "execution_count": 9,
   "id": "a1aa2363",
   "metadata": {},
   "outputs": [
    {
     "name": "stderr",
     "output_type": "stream",
     "text": [
      "/tmp/ipykernel_2266319/1643951359.py:3: TqdmDeprecationWarning: This function will be removed in tqdm==5.0.0\n",
      "Please use `tqdm.notebook.tqdm` instead of `tqdm.tqdm_notebook`\n",
      "  for a in tqdm_notebook(range(len(data_list))):\n"
     ]
    },
    {
     "data": {
      "application/vnd.jupyter.widget-view+json": {
       "model_id": "1ee0216df2d744579f212b6128261a13",
       "version_major": 2,
       "version_minor": 0
      },
      "text/plain": [
       "  0%|          | 0/20000 [00:00<?, ?it/s]"
      ]
     },
     "metadata": {},
     "output_type": "display_data"
    },
    {
     "name": "stderr",
     "output_type": "stream",
     "text": [
      "/tmp/ipykernel_2266319/1643951359.py:3: TqdmDeprecationWarning: This function will be removed in tqdm==5.0.0\n",
      "Please use `tqdm.notebook.tqdm` instead of `tqdm.tqdm_notebook`\n",
      "  for a in tqdm_notebook(range(len(data_list))):\n"
     ]
    },
    {
     "data": {
      "application/vnd.jupyter.widget-view+json": {
       "model_id": "d4cea0e744e24b278798fe6a5b0cbee4",
       "version_major": 2,
       "version_minor": 0
      },
      "text/plain": [
       "  0%|          | 0/2500 [00:00<?, ?it/s]"
      ]
     },
     "metadata": {},
     "output_type": "display_data"
    },
    {
     "data": {
      "application/vnd.jupyter.widget-view+json": {
       "model_id": "bcd11fcb12144d529139ff5c1d3a6974",
       "version_major": 2,
       "version_minor": 0
      },
      "text/plain": [
       "  0%|          | 0/2500 [00:00<?, ?it/s]"
      ]
     },
     "metadata": {},
     "output_type": "display_data"
    }
   ],
   "source": [
    "save_preproc(save_train, trai_list)\n",
    "save_preproc(save_validation, vali_list)\n",
    "save_preproc(save_test, test_list)\n"
   ]
  },
  {
   "cell_type": "code",
   "execution_count": null,
   "id": "f081fc5e",
   "metadata": {},
   "outputs": [],
   "source": []
  },
  {
   "cell_type": "markdown",
   "id": "65c6788c",
   "metadata": {},
   "source": [
    "# data info"
   ]
  },
  {
   "cell_type": "code",
   "execution_count": 10,
   "id": "8dd86549",
   "metadata": {},
   "outputs": [
    {
     "name": "stdout",
     "output_type": "stream",
     "text": [
      "25000 /home/gil/gcubme_ai3/Workspace/SB_MUN/9_NIA_46_dysarthria/1_source_abstract/data/origin2/test/HC0008/HC0008_SCO_A_1_029.wav\n"
     ]
    }
   ],
   "source": [
    "print(len(total_list), total_list[0])"
   ]
  },
  {
   "cell_type": "code",
   "execution_count": 11,
   "id": "c4d415df",
   "metadata": {},
   "outputs": [
    {
     "name": "stdout",
     "output_type": "stream",
     "text": [
      "1000 HC0001\n"
     ]
    }
   ],
   "source": [
    "patient_list = [os.path.basename(path).split('_')[0] for path in total_list]\n",
    "patient_list = np.unique(patient_list)\n",
    "print(len(patient_list), patient_list[0])\n"
   ]
  },
  {
   "cell_type": "code",
   "execution_count": 12,
   "id": "8c14460d",
   "metadata": {},
   "outputs": [
    {
     "name": "stderr",
     "output_type": "stream",
     "text": [
      "/tmp/ipykernel_2266319/598834013.py:3: TqdmDeprecationWarning: This function will be removed in tqdm==5.0.0\n",
      "Please use `tqdm.notebook.tqdm` instead of `tqdm.tqdm_notebook`\n",
      "  for i  in tqdm_notebook(range(len(total_list))):\n"
     ]
    },
    {
     "data": {
      "application/vnd.jupyter.widget-view+json": {
       "model_id": "23f6ddf806874854b036caf5bd145186",
       "version_major": 2,
       "version_minor": 0
      },
      "text/plain": [
       "  0%|          | 0/25000 [00:00<?, ?it/s]"
      ]
     },
     "metadata": {},
     "output_type": "display_data"
    },
    {
     "name": "stdout",
     "output_type": "stream",
     "text": [
      "1000 /home/gil/gcubme_ai3/Workspace/SB_MUN/9_NIA_46_dysarthria/1_source_abstract/data/origin2/test/HC0008/HC0008_SCO_A_1_029.wav\n"
     ]
    }
   ],
   "source": [
    "patient_total_list = []\n",
    "ckeck_list = []\n",
    "for i  in tqdm_notebook(range(len(total_list))):\n",
    "    wav_path = total_list[i]\n",
    "    patient_id = os.path.basename(wav_path).split('_')[0]\n",
    "    \n",
    "    if not patient_id in ckeck_list:\n",
    "        patient_total_list.append(wav_path)\n",
    "        ckeck_list.append(patient_id)\n",
    "print(len(patient_total_list), patient_total_list[0])\n"
   ]
  },
  {
   "cell_type": "code",
   "execution_count": 13,
   "id": "b0248876",
   "metadata": {},
   "outputs": [],
   "source": [
    "def save_preproc(save_dir, data_list):\n",
    "    \n",
    "    json_list = []\n",
    "    for a in tqdm_notebook(range(len(data_list))):\n",
    "        wav_path = data_list[a]\n",
    "        wav_files = [wav_path]\n",
    "        save_name = os.path.basename(wav_files[0]).split('.wav')[0]\n",
    "    \n",
    "        data_path = f'{save_dir}/{save_name}'\n",
    "            \n",
    "        patient_json = Patient(wav_files, save_dir).load_json_info(wav_path)\n",
    "        json_list.append(patient_json)\n",
    "    print(f'total_json : {len(json_list)}')\n",
    "    return json_list"
   ]
  },
  {
   "cell_type": "code",
   "execution_count": 14,
   "id": "b6dcaf0b",
   "metadata": {
    "scrolled": true
   },
   "outputs": [
    {
     "name": "stderr",
     "output_type": "stream",
     "text": [
      "/tmp/ipykernel_2266319/2795054402.py:4: TqdmDeprecationWarning: This function will be removed in tqdm==5.0.0\n",
      "Please use `tqdm.notebook.tqdm` instead of `tqdm.tqdm_notebook`\n",
      "  for a in tqdm_notebook(range(len(data_list))):\n"
     ]
    },
    {
     "data": {
      "application/vnd.jupyter.widget-view+json": {
       "model_id": "144edf19ad1c4ba7b340506dcbefe64f",
       "version_major": 2,
       "version_minor": 0
      },
      "text/plain": [
       "  0%|          | 0/1000 [00:00<?, ?it/s]"
      ]
     },
     "metadata": {},
     "output_type": "display_data"
    },
    {
     "name": "stdout",
     "output_type": "stream",
     "text": [
      "total_json : 1000\n"
     ]
    },
    {
     "data": {
      "application/vnd.jupyter.widget-view+json": {
       "model_id": "8d0207019a504d69a6ded7a9a88cdbad",
       "version_major": 2,
       "version_minor": 0
      },
      "text/plain": [
       "  0%|          | 0/25000 [00:00<?, ?it/s]"
      ]
     },
     "metadata": {},
     "output_type": "display_data"
    },
    {
     "name": "stdout",
     "output_type": "stream",
     "text": [
      "total_json : 25000\n"
     ]
    }
   ],
   "source": [
    "patient_total_json_list = save_preproc('./test', patient_total_list)\n",
    "total_json_list = save_preproc('./test', total_list)\n"
   ]
  },
  {
   "cell_type": "code",
   "execution_count": 15,
   "id": "696012f3",
   "metadata": {},
   "outputs": [],
   "source": [
    "def return_data_info(json_list):\n",
    "    category_list = []\n",
    "    gender_list = []\n",
    "    age_list = []\n",
    "    education_list = []\n",
    "    hospital_list = []\n",
    "    classification_list = []\n",
    "    intelligibility_list = []\n",
    "    degree_list = []\n",
    "    diagnostics_list = []\n",
    "    education_list = []\n",
    "    recordingTime_list = []\n",
    "    for i  in tqdm_notebook(range(len(json_list))):\n",
    "        category = json_list[i]['dataset']['category']\n",
    "        gender = json_list[i]['speaker']['gender']\n",
    "        age = json_list[i]['speaker']['age']\n",
    "        education = json_list[i]['speaker']['education']\n",
    "        hospital = json_list[i]['speaker']['hospital']\n",
    "        classification = json_list[i]['speaker']['classification']\n",
    "        intelligibility = json_list[i]['speaker']['intelligibility']\n",
    "        degree = json_list[i]['speaker']['degree']\n",
    "        diagnostics = json_list[i]['speaker']['diagnostics']\n",
    "        recordingTime = json_list[i]['dataset']['recordingTime']\n",
    "        \n",
    "        category_list.append(category)\n",
    "        gender_list.append(gender)\n",
    "        age_list.append(age)\n",
    "        education_list.append(education)\n",
    "        hospital_list.append(hospital)\n",
    "        classification_list.append(classification)\n",
    "        intelligibility_list.append(intelligibility)\n",
    "        degree_list.append(degree)\n",
    "        diagnostics_list.append(diagnostics)\n",
    "        recordingTime_list.append(recordingTime)\n",
    "    data_info = {\n",
    "        'category_list':category_list,\n",
    "        'gender_list':gender_list,\n",
    "        'age_list':age_list,\n",
    "        'education_list':education_list,\n",
    "        'hospital_list':hospital_list,\n",
    "        'classification_list':classification_list,\n",
    "        'intelligibility_list':intelligibility_list,\n",
    "        'degree_list':degree_list,\n",
    "        'diagnostics_list':diagnostics_list,\n",
    "        'education_list':education_list,\n",
    "        'recordingTime_list':recordingTime_list\n",
    "    }\n",
    "    return data_info"
   ]
  },
  {
   "cell_type": "code",
   "execution_count": 16,
   "id": "cceb11f7",
   "metadata": {},
   "outputs": [
    {
     "name": "stderr",
     "output_type": "stream",
     "text": [
      "/tmp/ipykernel_2266319/2773790810.py:13: TqdmDeprecationWarning: This function will be removed in tqdm==5.0.0\n",
      "Please use `tqdm.notebook.tqdm` instead of `tqdm.tqdm_notebook`\n",
      "  for i  in tqdm_notebook(range(len(json_list))):\n"
     ]
    },
    {
     "data": {
      "application/vnd.jupyter.widget-view+json": {
       "model_id": "b892ffee9a04442195f7c99b27e4f159",
       "version_major": 2,
       "version_minor": 0
      },
      "text/plain": [
       "  0%|          | 0/1000 [00:00<?, ?it/s]"
      ]
     },
     "metadata": {},
     "output_type": "display_data"
    },
    {
     "data": {
      "application/vnd.jupyter.widget-view+json": {
       "model_id": "def32878d1ec441f82eb59efda3c1430",
       "version_major": 2,
       "version_minor": 0
      },
      "text/plain": [
       "  0%|          | 0/25000 [00:00<?, ?it/s]"
      ]
     },
     "metadata": {},
     "output_type": "display_data"
    }
   ],
   "source": [
    "patient_data_info = return_data_info(patient_total_json_list)\n",
    "data_info = return_data_info(total_json_list)\n"
   ]
  },
  {
   "cell_type": "code",
   "execution_count": 17,
   "id": "fbb64f6e",
   "metadata": {},
   "outputs": [],
   "source": [
    "def check_data(info_list, key):\n",
    "    data_list = info_list[key]\n",
    "    data_index = np.unique(data_list)\n",
    "    data_cnt = []\n",
    "    for idx in data_index:\n",
    "        data_cnt.append(data_list.count(idx))\n",
    "    total_cnt = np.sum(data_cnt)\n",
    "\n",
    "    print(total_cnt, data_index)\n",
    "    for i, idx in enumerate(data_index):\n",
    "        print(f'{idx}\\t: {data_cnt[i]} ({data_cnt[i]/total_cnt*100:.2f}%)')\n",
    "        "
   ]
  },
  {
   "cell_type": "markdown",
   "id": "ff5ffc25",
   "metadata": {},
   "source": [
    "# category_list"
   ]
  },
  {
   "cell_type": "code",
   "execution_count": 18,
   "id": "8ec45841",
   "metadata": {},
   "outputs": [
    {
     "name": "stdout",
     "output_type": "stream",
     "text": [
      "25000 ['A' 'B' 'C' 'D' 'E' 'F' 'G' 'H' 'I' 'J' 'K' 'L' 'M']\n",
      "A\t: 2841 (11.36%)\n",
      "B\t: 2490 (9.96%)\n",
      "C\t: 2097 (8.39%)\n",
      "D\t: 2371 (9.48%)\n",
      "E\t: 1865 (7.46%)\n",
      "F\t: 1528 (6.11%)\n",
      "G\t: 762 (3.05%)\n",
      "H\t: 2260 (9.04%)\n",
      "I\t: 776 (3.10%)\n",
      "J\t: 2147 (8.59%)\n",
      "K\t: 2110 (8.44%)\n",
      "L\t: 1849 (7.40%)\n",
      "M\t: 1904 (7.62%)\n"
     ]
    }
   ],
   "source": [
    "check_data(data_info, 'category_list')"
   ]
  },
  {
   "cell_type": "markdown",
   "id": "61526e4f",
   "metadata": {},
   "source": [
    "# Gender"
   ]
  },
  {
   "cell_type": "code",
   "execution_count": 19,
   "id": "0cd6afce",
   "metadata": {},
   "outputs": [
    {
     "name": "stdout",
     "output_type": "stream",
     "text": [
      "1000 ['F' 'M']\n",
      "F\t: 523 (52.30%)\n",
      "M\t: 477 (47.70%)\n"
     ]
    }
   ],
   "source": [
    "check_data(patient_data_info, 'gender_list')"
   ]
  },
  {
   "cell_type": "markdown",
   "id": "02066441",
   "metadata": {},
   "source": [
    "# Age"
   ]
  },
  {
   "cell_type": "code",
   "execution_count": 20,
   "id": "f371f81f",
   "metadata": {},
   "outputs": [
    {
     "name": "stdout",
     "output_type": "stream",
     "text": [
      "1000 ['10~20대' '30~40대' '50~60대' '70대 이상']\n",
      "10~20대\t: 325 (32.50%)\n",
      "30~40대\t: 300 (30.00%)\n",
      "50~60대\t: 236 (23.60%)\n",
      "70대 이상\t: 139 (13.90%)\n"
     ]
    }
   ],
   "source": [
    "check_data(patient_data_info, 'age_list')"
   ]
  },
  {
   "cell_type": "markdown",
   "id": "dbb2652c",
   "metadata": {},
   "source": [
    "# education_list"
   ]
  },
  {
   "cell_type": "code",
   "execution_count": 117,
   "id": "d0216192",
   "metadata": {},
   "outputs": [
    {
     "name": "stdout",
     "output_type": "stream",
     "text": [
      "1000 ['E1' 'E2' 'E3' 'E4' 'E5' 'E6']\n",
      "E1\t: 99 (9.90%)\n",
      "E2\t: 82 (8.20%)\n",
      "E3\t: 348 (34.80%)\n",
      "E4\t: 424 (42.40%)\n",
      "E5\t: 43 (4.30%)\n",
      "E6\t: 4 (0.40%)\n"
     ]
    }
   ],
   "source": [
    "check_data(patient_data_info, 'education_list')"
   ]
  },
  {
   "cell_type": "markdown",
   "id": "4c2a09cb",
   "metadata": {},
   "source": [
    "# hospital_list"
   ]
  },
  {
   "cell_type": "code",
   "execution_count": 142,
   "id": "a2104982",
   "metadata": {},
   "outputs": [
    {
     "name": "stdout",
     "output_type": "stream",
     "text": [
      "25000 ['HC' 'HH' 'HK' 'HL' 'HM' 'HS']\n",
      "HC\t: 3025 (12.10%)\n",
      "HH\t: 1150 (4.60%)\n",
      "HK\t: 475 (1.90%)\n",
      "HL\t: 15875 (63.50%)\n",
      "HM\t: 450 (1.80%)\n",
      "HS\t: 4025 (16.10%)\n"
     ]
    }
   ],
   "source": [
    "check_data(data_info, 'hospital_list')"
   ]
  },
  {
   "cell_type": "markdown",
   "id": "b45dbc94",
   "metadata": {},
   "source": [
    "# classification_list"
   ]
  },
  {
   "cell_type": "code",
   "execution_count": 114,
   "id": "a3309ac8",
   "metadata": {},
   "outputs": [
    {
     "name": "stdout",
     "output_type": "stream",
     "text": [
      "25000 ['ALS' 'CI' 'HI' 'IH']\n",
      "ALS\t: 25 (0.10%)\n",
      "CI\t: 9025 (36.10%)\n",
      "HI\t: 15875 (63.50%)\n",
      "IH\t: 75 (0.30%)\n"
     ]
    }
   ],
   "source": [
    "check_data(data_info, 'classification_list')"
   ]
  },
  {
   "cell_type": "markdown",
   "id": "045e99ce",
   "metadata": {},
   "source": [
    "# intelligibility_list"
   ]
  },
  {
   "cell_type": "code",
   "execution_count": 113,
   "id": "28f8d09f",
   "metadata": {},
   "outputs": [
    {
     "name": "stdout",
     "output_type": "stream",
     "text": [
      "25000 ['SIR1' 'SIR2' 'SIR3' 'SIR4' 'SIR5']\n",
      "SIR1\t: 1475 (5.90%)\n",
      "SIR2\t: 1960 (7.84%)\n",
      "SIR3\t: 3745 (14.98%)\n",
      "SIR4\t: 8290 (33.16%)\n",
      "SIR5\t: 9530 (38.12%)\n"
     ]
    }
   ],
   "source": [
    "check_data(data_info, 'intelligibility_list')"
   ]
  },
  {
   "cell_type": "markdown",
   "id": "260d19a7",
   "metadata": {},
   "source": [
    "# degree_list"
   ]
  },
  {
   "cell_type": "code",
   "execution_count": 120,
   "id": "06bcea09",
   "metadata": {},
   "outputs": [
    {
     "name": "stdout",
     "output_type": "stream",
     "text": [
      "25000 ['MILD' 'MODERATE' 'MODERATELY' 'PROFOUND' 'SEVERE']\n",
      "MILD\t: 7874 (31.50%)\n",
      "MODERATE\t: 2613 (10.45%)\n",
      "MODERATELY\t: 1525 (6.10%)\n",
      "PROFOUND\t: 8775 (35.10%)\n",
      "SEVERE\t: 4213 (16.85%)\n"
     ]
    }
   ],
   "source": [
    "check_data(data_info, 'degree_list')"
   ]
  },
  {
   "cell_type": "markdown",
   "id": "e3af834f",
   "metadata": {},
   "source": [
    "# diagnostics_list"
   ]
  },
  {
   "cell_type": "code",
   "execution_count": 132,
   "id": "1b5335b4",
   "metadata": {},
   "outputs": [
    {
     "name": "stdout",
     "output_type": "stream",
     "text": [
      "19891220\n",
      "20221224\n"
     ]
    }
   ],
   "source": [
    "diagnostics_list = patient_data_info['diagnostics_list']\n",
    "diagnostics_list = [int(date) for date in diagnostics_list if date != None]\n",
    "print(np.min(diagnostics_list))\n",
    "print(np.max(diagnostics_list))\n",
    "# print(sorted(diagnostics_list))\n"
   ]
  },
  {
   "cell_type": "markdown",
   "id": "5d5432a6",
   "metadata": {},
   "source": [
    "# recordingTime_list"
   ]
  },
  {
   "cell_type": "code",
   "execution_count": 143,
   "id": "5ad30d4f",
   "metadata": {},
   "outputs": [
    {
     "name": "stdout",
     "output_type": "stream",
     "text": [
      "1.12\n",
      "18.43\n",
      "5.24\n",
      "2.17\n"
     ]
    }
   ],
   "source": [
    "recordingTime_list = patient_data_info['recordingTime_list']\n",
    "print(round(np.min(recordingTime_list),2))\n",
    "print(round(np.max(recordingTime_list),2))\n",
    "# print(sorted(diagnostics_list))\n",
    "print(round(np.mean(recordingTime_list),2))\n",
    "print(round(np.std(recordingTime_list),2))\n"
   ]
  },
  {
   "cell_type": "code",
   "execution_count": null,
   "id": "c837d11f",
   "metadata": {},
   "outputs": [],
   "source": []
  },
  {
   "cell_type": "code",
   "execution_count": null,
   "id": "46e8f161",
   "metadata": {},
   "outputs": [],
   "source": []
  },
  {
   "cell_type": "code",
   "execution_count": null,
   "id": "0398ad59",
   "metadata": {},
   "outputs": [],
   "source": []
  },
  {
   "cell_type": "code",
   "execution_count": 84,
   "id": "ef38f100",
   "metadata": {},
   "outputs": [
    {
     "data": {
      "text/plain": [
       "dict_keys(['gender_list', 'age_list', 'education_list', 'hospital_list', 'classification_list', 'intelligibility_list', 'degree_list', 'diagnostics_list', 'recordingTime_list'])"
      ]
     },
     "execution_count": 84,
     "metadata": {},
     "output_type": "execute_result"
    }
   ],
   "source": [
    "data_info.keys()"
   ]
  },
  {
   "cell_type": "code",
   "execution_count": 27,
   "id": "4018e58d",
   "metadata": {},
   "outputs": [
    {
     "data": {
      "text/plain": [
       "{'dataset': {'filename': 'HC0008_SCO_A_1_029',\n",
       "  'speakerID': 'HC0008',\n",
       "  'sentenceType': 'SCO',\n",
       "  'category': 'A',\n",
       "  'numberOfRecordings': '1',\n",
       "  'sentenceID': '029',\n",
       "  'recordingSystem': 'CON',\n",
       "  'recordingQuality': '16000Hz',\n",
       "  'recordingDate': '20220901',\n",
       "  'recordingTime': 6.202,\n",
       "  'recordingDevice': 'SM'},\n",
       " 'speaker': {'gender': 'M',\n",
       "  'age': '50~60대',\n",
       "  'education': 'E3',\n",
       "  'hospital': 'HC',\n",
       "  'classification': 'CI',\n",
       "  'intelligibility': 'SIR5',\n",
       "  'degree': 'MILD',\n",
       "  'diagnostics': '20220901',\n",
       "  'device': None,\n",
       "  'deviceUsedAge': None,\n",
       "  'comunicationTool': None,\n",
       "  'rehabilitation': None,\n",
       "  'hearingLoss': None},\n",
       " 'annotations': {'script': '코클리어 엔 세븐 블루투스 연결 방법 알려 줘.',\n",
       "  'form': '코클리어 엔 (쎄븐)/(세븐) 블루투스 연결 방법 알려 줘.',\n",
       "  'pronunciationForm': '코클리어 엔 쎄븐 블루투스 연결 방법 알려 줘.',\n",
       "  'spellingForm': '코클리어 엔 세븐 블루투스 연결 방법 알려 줘.',\n",
       "  'start': 0.0,\n",
       "  'end': 6.202}}"
      ]
     },
     "execution_count": 27,
     "metadata": {},
     "output_type": "execute_result"
    }
   ],
   "source": [
    "total_json_list[0]"
   ]
  }
 ],
 "metadata": {
  "kernelspec": {
   "display_name": "Python 3 (ipykernel)",
   "language": "python",
   "name": "python3"
  },
  "language_info": {
   "codemirror_mode": {
    "name": "ipython",
    "version": 3
   },
   "file_extension": ".py",
   "mimetype": "text/x-python",
   "name": "python",
   "nbconvert_exporter": "python",
   "pygments_lexer": "ipython3",
   "version": "3.7.0"
  },
  "vscode": {
   "interpreter": {
    "hash": "4645718d8d6ebdf5e3b33075b5882a83c0f46fd0d977128e214395d6b960dc3e"
   }
  }
 },
 "nbformat": 4,
 "nbformat_minor": 5
}
