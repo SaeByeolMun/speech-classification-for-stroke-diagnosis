{
 "cells": [
  {
   "cell_type": "code",
   "execution_count": 1,
   "id": "de9174ed",
   "metadata": {},
   "outputs": [],
   "source": [
    "import librosa\n",
    "import numpy as np\n",
    "import os\n",
    "import glob\n",
    "from tqdm import tqdm_notebook\n",
    "import sklearn\n",
    "import pandas as pd\n",
    "import json # import json module\n",
    "import librosa, soundfile\n",
    "\n",
    "from PIL import Image  # Python Image Library 이미지 라이브러리\n",
    "import matplotlib.pyplot as plt  # 이미지 보는 라이브러리\n",
    "\n",
    "import sys\n",
    "sys.path.append('../../')\n",
    "from CommonUtil import *"
   ]
  },
  {
   "cell_type": "code",
   "execution_count": 7,
   "id": "f3298f5b",
   "metadata": {},
   "outputs": [
    {
     "name": "stdout",
     "output_type": "stream",
     "text": [
      "True\n"
     ]
    }
   ],
   "source": [
    "data_dir = '/home/gil/gcubme_99/1. 연구 프로젝트/1. 인공지능/2022_NIA 46번 의료음성데이터/1. 데이터/구음장애'\n",
    "print(os.path.isdir(data_dir))\n"
   ]
  },
  {
   "cell_type": "code",
   "execution_count": 83,
   "id": "4a320a47",
   "metadata": {},
   "outputs": [
    {
     "name": "stdout",
     "output_type": "stream",
     "text": [
      "['/home/gil/gcubme_99/1. 연구 프로젝트/1. 인공지능/2022_NIA 46번 의료음성데이터/1. 데이터/구음장애/원천데이터/원천데이터', '/home/gil/gcubme_99/1. 연구 프로젝트/1. 인공지능/2022_NIA 46번 의료음성데이터/1. 데이터/구음장애/원천데이터/sorizava']\n",
      "['/home/gil/gcubme_99/1. 연구 프로젝트/1. 인공지능/2022_NIA 46번 의료음성데이터/1. 데이터/구음장애/라벨링데이터', '/home/gil/gcubme_99/1. 연구 프로젝트/1. 인공지능/2022_NIA 46번 의료음성데이터/1. 데이터/구음장애/원천데이터/sorizava']\n",
      "./data/origin2\n"
     ]
    }
   ],
   "source": [
    "CODE_SPLIT = 38\n",
    "TOTAL_SPLIT = 40\n",
    "\n",
    "WAVE_DIR = [f'{data_dir}/원천데이터/원천데이터'\\\n",
    "            , f'{data_dir}/원천데이터/sorizava']\n",
    "\n",
    "JSON_DIR = [f'{data_dir}/라벨링데이터'\\\n",
    "            , f'{data_dir}/원천데이터/sorizava']\n",
    "\n",
    "SAVE_DIR = './data/origin2'\n",
    "\n",
    "SAMPLE_RATE = 16000\n",
    "\n",
    "wave_dir = WAVE_DIR\n",
    "json_dir = JSON_DIR\n",
    "save_dir = SAVE_DIR\n",
    "\n",
    "os.makedirs(save_dir, exist_ok=True)\n",
    "\n",
    "print(wave_dir)\n",
    "print(json_dir)\n",
    "print(save_dir)\n"
   ]
  },
  {
   "cell_type": "markdown",
   "id": "614cc69e",
   "metadata": {},
   "source": [
    "# 웨이브 리스트 가져오기"
   ]
  },
  {
   "cell_type": "code",
   "execution_count": 13,
   "id": "0a015a7a",
   "metadata": {},
   "outputs": [
    {
     "name": "stdout",
     "output_type": "stream",
     "text": [
      "2663420\n"
     ]
    }
   ],
   "source": [
    "wave_path_dir = []\n",
    "for DIR in WAVE_DIR:\n",
    "    wavs = sorted(glob.glob(f'{DIR}/**/*_SCO_*.wav', recursive=True))\n",
    "    wave_path_dir.extend(wavs)\n",
    "print(len(wave_path_dir))"
   ]
  },
  {
   "cell_type": "code",
   "execution_count": 14,
   "id": "bef3d918",
   "metadata": {},
   "outputs": [
    {
     "name": "stdout",
     "output_type": "stream",
     "text": [
      "2663421\n"
     ]
    }
   ],
   "source": [
    "json_path_dir = []\n",
    "for DIR in JSON_DIR:\n",
    "    jsons = sorted(glob.glob(f'{DIR}/**/*_SCO_*.json', recursive=True))\n",
    "    json_path_dir.extend(jsons)\n",
    "print(len(json_path_dir))"
   ]
  },
  {
   "cell_type": "code",
   "execution_count": 44,
   "id": "6716a334",
   "metadata": {
    "scrolled": false
   },
   "outputs": [],
   "source": [
    "wave_list = wave_path_dir\n",
    "json_list = json_path_dir"
   ]
  },
  {
   "cell_type": "code",
   "execution_count": 45,
   "id": "80468d3f",
   "metadata": {
    "scrolled": true
   },
   "outputs": [],
   "source": [
    "# wav_list = sorted(glob.glob(f'{data_dir}/**/*_SCO_*.wav', recursive=True))\n",
    "# print(len(wav_list))"
   ]
  },
  {
   "cell_type": "code",
   "execution_count": 46,
   "id": "7d859023",
   "metadata": {},
   "outputs": [],
   "source": [
    "# json_list = sorted(glob.glob(f'{json_dir}/**/*_SCO_*.json', recursive=True))\n",
    "# print(len(json_list))"
   ]
  },
  {
   "cell_type": "markdown",
   "id": "a0ebfb9c",
   "metadata": {},
   "source": [
    "# 환자 아이디 추출"
   ]
  },
  {
   "cell_type": "code",
   "execution_count": 47,
   "id": "c20a3e3c",
   "metadata": {
    "scrolled": true
   },
   "outputs": [
    {
     "name": "stderr",
     "output_type": "stream",
     "text": [
      "/tmp/ipykernel_3422563/3795215625.py:2: TqdmDeprecationWarning: This function will be removed in tqdm==5.0.0\n",
      "Please use `tqdm.notebook.tqdm` instead of `tqdm.tqdm_notebook`\n",
      "  for a in tqdm_notebook(range(len(wave_list))):\n"
     ]
    },
    {
     "data": {
      "application/vnd.jupyter.widget-view+json": {
       "model_id": "c2249b4066194eaea08bd9cb7ca5fd8e",
       "version_major": 2,
       "version_minor": 0
      },
      "text/plain": [
       "  0%|          | 0/2663420 [00:00<?, ?it/s]"
      ]
     },
     "metadata": {},
     "output_type": "display_data"
    },
    {
     "name": "stdout",
     "output_type": "stream",
     "text": [
      "1002\n"
     ]
    }
   ],
   "source": [
    "patient_list = []\n",
    "for a in tqdm_notebook(range(len(wave_list))):\n",
    "    wave_path = wave_list[a]\n",
    "    patient_id = wave_path.split('/')[-1].split('_')[0]\n",
    "    \n",
    "    if patient_id in patient_list:\n",
    "        continue\n",
    "    else:\n",
    "        patient_list.append(patient_id)\n",
    "print(len(patient_list))"
   ]
  },
  {
   "cell_type": "code",
   "execution_count": 49,
   "id": "3a9071c9",
   "metadata": {
    "scrolled": false
   },
   "outputs": [
    {
     "name": "stderr",
     "output_type": "stream",
     "text": [
      "/tmp/ipykernel_3422563/562176992.py:7: TqdmDeprecationWarning: This function will be removed in tqdm==5.0.0\n",
      "Please use `tqdm.notebook.tqdm` instead of `tqdm.tqdm_notebook`\n",
      "  for a in tqdm_notebook(range(len(wave_list))):\n"
     ]
    },
    {
     "data": {
      "application/vnd.jupyter.widget-view+json": {
       "model_id": "90a6d1f97f30424a8c9825f043eece94",
       "version_major": 2,
       "version_minor": 0
      },
      "text/plain": [
       "  0%|          | 0/2663420 [00:00<?, ?it/s]"
      ]
     },
     "metadata": {},
     "output_type": "display_data"
    }
   ],
   "source": [
    "patient_wave_list = []\n",
    "patient_wave_cnt = []\n",
    "for b in range(len(patient_list)):\n",
    "    patient_wave_list.append([])\n",
    "    patient_wave_cnt.append(0)\n",
    "\n",
    "for a in tqdm_notebook(range(len(wave_list))):\n",
    "    wave_path = wave_list[a]\n",
    "    patient_id = wave_path.split('/')[-1].split('_')[0]\n",
    "    \n",
    "    for b in range(len(patient_list)):\n",
    "        if patient_id == patient_list[b]:\n",
    "            patient_wave_list[b].append(wave_path)\n",
    "            patient_wave_cnt[b] += 1\n",
    "            break\n",
    "            "
   ]
  },
  {
   "cell_type": "code",
   "execution_count": 52,
   "id": "fa2dc17e",
   "metadata": {},
   "outputs": [
    {
     "name": "stdout",
     "output_type": "stream",
     "text": [
      "/home/gil/gcubme_99/1. 연구 프로젝트/1. 인공지능/2022_NIA 46번 의료음성데이터/1. 데이터/구음장애/원천데이터/원천데이터/1006_wav/1006_wav/01.뇌경색/SCO/01.IoT/HM0006_SCO_A_1_002.wav\n"
     ]
    }
   ],
   "source": [
    "#0번째 환자의 1번째 데이터 path\n",
    "print(patient_wave_list[0][1])"
   ]
  },
  {
   "cell_type": "code",
   "execution_count": 50,
   "id": "ebd8d935",
   "metadata": {
    "scrolled": true
   },
   "outputs": [
    {
     "name": "stdout",
     "output_type": "stream",
     "text": [
      "1002 5 6016\n",
      "[5, 5, 25, 47, 50, 59, 59, 59, 59, 59, 66, 69, 69, 69, 73, 74, 75, 75, 75, 75, 75, 75, 75, 75, 116, 118, 132, 135, 143, 143, 144, 144, 144, 144, 152, 177, 184, 197, 202, 203, 203, 203, 203, 203, 216, 219, 225, 236, 253, 276, 276, 277, 277, 277, 277, 315, 323, 323, 336, 354, 383, 408, 408, 433, 438, 456, 460, 476, 477, 526, 561, 567, 568, 568, 611, 621, 634, 634, 672, 675, 680, 692, 693, 693, 693, 693, 693, 699, 702, 709, 720, 722, 731, 741, 744, 745, 749, 750, 750, 751, 751, 751, 751, 751, 751, 752, 752, 752, 752, 752, 752, 752, 752, 752, 752, 752, 752, 752, 752, 752, 752, 752, 752, 752, 752, 752, 752, 752, 752, 752, 752, 752, 752, 752, 752, 752, 870, 886, 920, 950, 1027, 1036, 1059, 1134, 1159, 1191, 1225, 1234, 1249, 1254, 1310, 1328, 1479, 1498, 1502, 1503, 1503, 1503, 1503, 1503, 1503, 1504, 1504, 1504, 1504, 1504, 1504, 1504, 1504, 1504, 1504, 1505, 1533, 1545, 1558, 1562, 1579, 1582, 1584, 1604, 1619, 1635, 1669, 1722, 1757, 1858, 1868, 1909, 1981, 2061, 2077, 2200, 2225, 2231, 2244, 2248, 2254, 2254, 2256, 2256, 2256, 2256, 2256, 2256, 2256, 2285, 2313, 2322, 2420, 2455, 2582, 2606, 2615, 2620, 2624, 2633, 2660, 2662, 2669, 2726, 2731, 2747, 2758, 2821, 2827, 2831, 2831, 2831, 2831, 2841, 2864, 2889, 2890, 2892, 2904, 2909, 2917, 2921, 2924, 2926, 2927, 2931, 2933, 2933, 2933, 2935, 2935, 2940, 2944, 2946, 2947, 2947, 2947, 2947, 2948, 2948, 2948, 2949, 2954, 2956, 2958, 2961, 2964, 2972, 2973, 2975, 2977, 2977, 2979, 2980, 2981, 2981, 2982, 2983, 2984, 2984, 2989, 2989, 2990, 2991, 2991, 2991, 2992, 2993, 2993, 2993, 2993, 2993, 2994, 2994, 2994, 2994, 2995, 2995, 2995, 2995, 2996, 2996, 2997, 2997, 2997, 2997, 2998, 2998, 2998, 2998, 2998, 2998, 2998, 2998, 2999, 2999, 2999, 2999, 2999, 3000, 3000, 3000, 3000, 3000, 3000, 3000, 3000, 3000, 3000, 3001, 3001, 3001, 3001, 3001, 3001, 3001, 3001, 3001, 3001, 3001, 3001, 3001, 3002, 3002, 3002, 3002, 3002, 3002, 3002, 3002, 3002, 3002, 3002, 3002, 3002, 3002, 3002, 3002, 3003, 3003, 3003, 3003, 3003, 3003, 3003, 3003, 3003, 3003, 3003, 3003, 3003, 3003, 3003, 3003, 3003, 3003, 3003, 3003, 3003, 3003, 3004, 3004, 3004, 3004, 3004, 3004, 3004, 3004, 3004, 3004, 3004, 3004, 3004, 3004, 3004, 3004, 3004, 3004, 3004, 3004, 3004, 3004, 3004, 3004, 3004, 3004, 3004, 3004, 3004, 3004, 3004, 3004, 3004, 3004, 3004, 3004, 3004, 3004, 3004, 3004, 3004, 3004, 3004, 3004, 3004, 3005, 3005, 3005, 3005, 3005, 3005, 3005, 3005, 3005, 3005, 3005, 3005, 3005, 3005, 3005, 3005, 3005, 3005, 3005, 3005, 3005, 3005, 3005, 3005, 3005, 3005, 3005, 3005, 3005, 3005, 3005, 3005, 3005, 3005, 3005, 3005, 3005, 3005, 3005, 3005, 3005, 3005, 3005, 3005, 3005, 3005, 3005, 3005, 3005, 3005, 3005, 3005, 3005, 3005, 3005, 3005, 3005, 3005, 3006, 3006, 3006, 3006, 3006, 3006, 3006, 3006, 3006, 3006, 3006, 3006, 3006, 3006, 3006, 3006, 3006, 3006, 3006, 3006, 3006, 3006, 3006, 3006, 3006, 3006, 3006, 3006, 3006, 3006, 3006, 3006, 3006, 3006, 3006, 3006, 3006, 3006, 3006, 3006, 3006, 3006, 3006, 3006, 3006, 3006, 3006, 3006, 3006, 3006, 3006, 3006, 3006, 3006, 3006, 3006, 3006, 3006, 3006, 3006, 3006, 3006, 3006, 3006, 3006, 3006, 3006, 3006, 3006, 3006, 3006, 3006, 3006, 3006, 3006, 3006, 3006, 3006, 3006, 3006, 3006, 3006, 3006, 3006, 3006, 3006, 3006, 3007, 3007, 3007, 3007, 3007, 3007, 3007, 3007, 3007, 3007, 3007, 3007, 3007, 3007, 3007, 3007, 3007, 3007, 3007, 3007, 3007, 3007, 3007, 3007, 3007, 3007, 3007, 3007, 3007, 3007, 3007, 3007, 3007, 3007, 3007, 3007, 3007, 3007, 3007, 3007, 3007, 3007, 3007, 3007, 3007, 3007, 3007, 3007, 3007, 3007, 3007, 3007, 3007, 3007, 3007, 3007, 3007, 3007, 3007, 3007, 3007, 3007, 3007, 3007, 3007, 3007, 3007, 3007, 3007, 3007, 3007, 3007, 3007, 3007, 3007, 3007, 3007, 3007, 3007, 3007, 3007, 3007, 3007, 3007, 3007, 3007, 3007, 3007, 3007, 3007, 3007, 3007, 3007, 3007, 3007, 3007, 3007, 3007, 3007, 3007, 3007, 3007, 3007, 3007, 3007, 3007, 3007, 3007, 3007, 3007, 3007, 3007, 3007, 3007, 3007, 3007, 3007, 3007, 3007, 3007, 3007, 3007, 3007, 3007, 3007, 3007, 3007, 3007, 3007, 3007, 3007, 3007, 3007, 3007, 3007, 3007, 3007, 3007, 3007, 3007, 3007, 3007, 3007, 3007, 3007, 3007, 3007, 3007, 3007, 3007, 3007, 3007, 3007, 3008, 3008, 3008, 3008, 3008, 3008, 3008, 3008, 3008, 3008, 3008, 3008, 3008, 3008, 3008, 3008, 3008, 3008, 3008, 3008, 3008, 3008, 3008, 3008, 3008, 3008, 3008, 3008, 3008, 3008, 3008, 3008, 3008, 3008, 3008, 3008, 3008, 3008, 3008, 3008, 3008, 3008, 3008, 3008, 3008, 3008, 3008, 3008, 3008, 3008, 3008, 3008, 3008, 3008, 3008, 3008, 3008, 3008, 3008, 3008, 3008, 3008, 3008, 3008, 3008, 3008, 3008, 3008, 3008, 3008, 3008, 3008, 3008, 3008, 3008, 3008, 3008, 3008, 3008, 3008, 3008, 3008, 3008, 3008, 3008, 3008, 3008, 3008, 3008, 3008, 3008, 3008, 3008, 3008, 3008, 3008, 3008, 3008, 3008, 3008, 3008, 3008, 3008, 3008, 3008, 3008, 3008, 3008, 3008, 3008, 3008, 3008, 3008, 3008, 3008, 3008, 3008, 3008, 3008, 3008, 3008, 3008, 3008, 3008, 3008, 3008, 3008, 3008, 3008, 3008, 3008, 3008, 3008, 3008, 3008, 3008, 3008, 3008, 3008, 3008, 3008, 3008, 3008, 3008, 3008, 3008, 3008, 3008, 3008, 3008, 3008, 3008, 3008, 3008, 3008, 3008, 3008, 3008, 3008, 3008, 3008, 3008, 3008, 3008, 3008, 3008, 3008, 3008, 3008, 3008, 3008, 3008, 3008, 3008, 3008, 3008, 3008, 3008, 3008, 3008, 3008, 3008, 3008, 3008, 3008, 3008, 3008, 3008, 3008, 3008, 3008, 3008, 3008, 3008, 3008, 3008, 3008, 3008, 3008, 3008, 3008, 3008, 3008, 3008, 3008, 3008, 3008, 3008, 3008, 3008, 3008, 3008, 3008, 3008, 3008, 3008, 3008, 3008, 3008, 3008, 3008, 3008, 3008, 3008, 3008, 3008, 3008, 3008, 3008, 3008, 3008, 3008, 3008, 3008, 3008, 3008, 3008, 3008, 3031, 3372, 3411, 3686, 3757, 3758, 3759, 3760, 4327, 4510, 5136, 5150, 5208, 5264, 5344, 5502, 5504, 5533, 5733, 5817, 5839, 5976, 5983, 5984, 5984, 5996, 6004, 6004, 6008, 6010, 6010, 6011, 6015, 6016, 6016, 6016, 6016, 6016, 6016, 6016, 6016, 6016, 6016, 6016, 6016]\n"
     ]
    }
   ],
   "source": [
    "print(len(patient_wave_cnt), np.min(patient_wave_cnt), np.max(patient_wave_cnt))\n",
    "print(sorted(patient_wave_cnt))"
   ]
  },
  {
   "cell_type": "code",
   "execution_count": 61,
   "id": "03b19383",
   "metadata": {},
   "outputs": [
    {
     "name": "stderr",
     "output_type": "stream",
     "text": [
      "/tmp/ipykernel_3422563/3197375507.py:4: TqdmDeprecationWarning: This function will be removed in tqdm==5.0.0\n",
      "Please use `tqdm.notebook.tqdm` instead of `tqdm.tqdm_notebook`\n",
      "  for a in tqdm_notebook(range(len(patient_wave_list))):\n"
     ]
    },
    {
     "data": {
      "application/vnd.jupyter.widget-view+json": {
       "model_id": "fcfdc41276174408a58ea4da2ce205e4",
       "version_major": 2,
       "version_minor": 0
      },
      "text/plain": [
       "  0%|          | 0/1002 [00:00<?, ?it/s]"
      ]
     },
     "metadata": {},
     "output_type": "display_data"
    }
   ],
   "source": [
    "data_cnt = 25\n",
    "patient_wave_list_s =[]\n",
    "\n",
    "for a in tqdm_notebook(range(len(patient_wave_list))):\n",
    "    w_list = patient_wave_list[a]\n",
    "    if len(w_list) < data_cnt:\n",
    "        continue\n",
    "    w_list = shuffle(w_list)\n",
    "    patient_wave_list_s.append(w_list[:data_cnt])\n",
    "            "
   ]
  },
  {
   "cell_type": "code",
   "execution_count": 62,
   "id": "be17aede",
   "metadata": {},
   "outputs": [
    {
     "name": "stdout",
     "output_type": "stream",
     "text": [
      "1000\n",
      "25000\n"
     ]
    }
   ],
   "source": [
    "print(len(patient_wave_list_s))\n",
    "print(len(patient_wave_list_s)*data_cnt)\n"
   ]
  },
  {
   "cell_type": "markdown",
   "id": "bbc694cc",
   "metadata": {},
   "source": [
    "# 데이터 나누기"
   ]
  },
  {
   "cell_type": "code",
   "execution_count": 84,
   "id": "4a147312",
   "metadata": {},
   "outputs": [],
   "source": [
    "def split_data(X_data_y, train_rate:float=0.8, val_rate:float=0.9):\n",
    "    X_data_y = np.array(X_data_y)\n",
    "    print(X_data_y.shape)\n",
    "    X_data_y = shuffle(X_data_y)\n",
    "    \n",
    "    \n",
    "    h = X_data_y.shape[0]\n",
    "    train_num = int(h * train_rate)\n",
    "    val_num = int(h * val_rate)\n",
    "\n",
    "    train_num = round(train_num,0)\n",
    "    val_num = round(val_num,0)\n",
    "    \n",
    "    train = X_data_y[:train_num]\n",
    "    val = X_data_y[train_num:val_num]\n",
    "    test = X_data_y[val_num:]\n",
    "    \n",
    "    return train, val, test"
   ]
  },
  {
   "cell_type": "code",
   "execution_count": 85,
   "id": "ca3f44f7",
   "metadata": {},
   "outputs": [
    {
     "name": "stdout",
     "output_type": "stream",
     "text": [
      "(1000, 25)\n",
      "800\n",
      "100\n",
      "100\n"
     ]
    }
   ],
   "source": [
    "train_wave_list, val_wave_list, test_wave_list = split_data(patient_wave_list_s)\n",
    "print(len(train_wave_list))\n",
    "print(len(val_wave_list))\n",
    "print(len(test_wave_list))\n"
   ]
  },
  {
   "cell_type": "code",
   "execution_count": 86,
   "id": "32195522",
   "metadata": {},
   "outputs": [
    {
     "name": "stdout",
     "output_type": "stream",
     "text": [
      "20000 2500 2500 \t 25000\n"
     ]
    }
   ],
   "source": [
    "def return_total_list(data_list):\n",
    "    total_list = []\n",
    "    for a in range(len(data_list)):\n",
    "        data = data_list[a]\n",
    "        total_list.extend(data)\n",
    "    return total_list\n",
    "\n",
    "train_list = return_total_list(train_wave_list)\n",
    "val_list = return_total_list(val_wave_list)\n",
    "test_list = return_total_list(test_wave_list)\n",
    "    \n",
    "print(len(train_list), len(val_list), len(test_list), '\\t', len(train_list)+len(val_list)+len(test_list))"
   ]
  },
  {
   "cell_type": "code",
   "execution_count": 87,
   "id": "4ba5458d",
   "metadata": {},
   "outputs": [
    {
     "name": "stdout",
     "output_type": "stream",
     "text": [
      "/home/gil/gcubme_99/1. 연구 프로젝트/1. 인공지능/2022_NIA 46번 의료음성데이터/1. 데이터/구음장애/원천데이터/원천데이터/1216_HC_1_wav/01.뇌경색/SCO/05.교통정보/HC0048_SCO_E_1_047.wav\n",
      "HC0048_SCO_E_1_047.wav\n",
      "HC0048_SCO_E_1_047\n",
      "/home/gil/gcubme_99/1. 연구 프로젝트/1. 인공지능/2022_NIA 46번 의료음성데이터/1. 데이터/구음장애/원천데이터/원천데이터/1216_HC_1_wav/01.뇌경색/SCO/05.교통정보\n"
     ]
    }
   ],
   "source": [
    "print(train_list[0])\n",
    "print(os.path.basename(train_list[0]))\n",
    "print(os.path.basename(train_list[0]).split('.wav')[0])\n",
    "print(os.path.dirname(train_list[0]))\n"
   ]
  },
  {
   "cell_type": "code",
   "execution_count": 88,
   "id": "cfbc23ac",
   "metadata": {
    "scrolled": true
   },
   "outputs": [
    {
     "name": "stdout",
     "output_type": "stream",
     "text": [
      "38\n",
      "40\n",
      "20000\n"
     ]
    },
    {
     "name": "stderr",
     "output_type": "stream",
     "text": [
      "/tmp/ipykernel_3422563/3264086470.py:22: TqdmDeprecationWarning: This function will be removed in tqdm==5.0.0\n",
      "Please use `tqdm.notebook.tqdm` instead of `tqdm.tqdm_notebook`\n",
      "  for a in tqdm_notebook(range(len(file_list))):\n"
     ]
    },
    {
     "data": {
      "application/vnd.jupyter.widget-view+json": {
       "model_id": "e8f8210db54d4146aa0a9731f95e22f4",
       "version_major": 2,
       "version_minor": 0
      },
      "text/plain": [
       "  0%|          | 0/20000 [00:00<?, ?it/s]"
      ]
     },
     "metadata": {},
     "output_type": "display_data"
    },
    {
     "name": "stdout",
     "output_type": "stream",
     "text": [
      "2500\n"
     ]
    },
    {
     "data": {
      "application/vnd.jupyter.widget-view+json": {
       "model_id": "3f47efb36b6e40b79e4fb88a943c331a",
       "version_major": 2,
       "version_minor": 0
      },
      "text/plain": [
       "  0%|          | 0/2500 [00:00<?, ?it/s]"
      ]
     },
     "metadata": {},
     "output_type": "display_data"
    },
    {
     "name": "stdout",
     "output_type": "stream",
     "text": [
      "2500\n"
     ]
    },
    {
     "data": {
      "application/vnd.jupyter.widget-view+json": {
       "model_id": "66e363c222494d06804db6e44b750909",
       "version_major": 2,
       "version_minor": 0
      },
      "text/plain": [
       "  0%|          | 0/2500 [00:00<?, ?it/s]"
      ]
     },
     "metadata": {},
     "output_type": "display_data"
    }
   ],
   "source": [
    "# with statement\n",
    "\n",
    "print(CODE_SPLIT)\n",
    "print(TOTAL_SPLIT)\n",
    "\n",
    "#for a in range(len(file_list)):\n",
    "for b in range(3):\n",
    "    if b == 0:\n",
    "        file_list = train_list\n",
    "        tvt = 'train'\n",
    "    elif b == 1:\n",
    "        file_list = val_list\n",
    "        tvt = 'validation'\n",
    "    elif b == 2:\n",
    "        file_list = test_list\n",
    "        tvt = 'test'\n",
    "        \n",
    "    save_file_dir = f'{save_dir}/{tvt}'\n",
    "    \n",
    "    print(len(file_list))\n",
    "    \n",
    "    for a in tqdm_notebook(range(len(file_list))):\n",
    "        wav_path = file_list[a]\n",
    "        filename = os.path.basename(wav_path).split('.wav')[0]\n",
    "        patient_id = wav_path.split('/')[-1].split('_')[0]\n",
    "        \n",
    "        json_save = f'{save_file_dir}/{patient_id}/{filename}.json'\n",
    "        wav_save = f'{save_file_dir}/{patient_id}/{filename}.wav'\n",
    "        \n",
    "        os.makedirs(os.path.dirname(wav_save), exist_ok=True)\n",
    "        os.makedirs(os.path.dirname(json_save), exist_ok=True)\n",
    "        \n",
    "        if os.path.isfile(json_save) and os.path.isfile(wav_save):\n",
    "            continue\n",
    "        \n",
    "        json_path = [s for s in json_list if filename in s][0] \n",
    "        \n",
    "        with open(json_path, 'r') as json_file:\n",
    "            json_data = json.load(json_file)\n",
    "        with open(json_save,'w') as f:\n",
    "            json.dump(json_data, f, indent=\"\\t\", ensure_ascii=False)\n",
    "        \n",
    "        audio, sr = librosa.load(wav_path, sr=SAMPLE_RATE)\n",
    "        soundfile.write(wav_save, audio, sr, format='WAV')\n",
    "        "
   ]
  },
  {
   "cell_type": "code",
   "execution_count": null,
   "id": "05f57b34",
   "metadata": {},
   "outputs": [],
   "source": []
  },
  {
   "cell_type": "code",
   "execution_count": null,
   "id": "89c2f98d",
   "metadata": {},
   "outputs": [],
   "source": []
  },
  {
   "cell_type": "code",
   "execution_count": null,
   "id": "7895165c",
   "metadata": {},
   "outputs": [],
   "source": []
  },
  {
   "cell_type": "code",
   "execution_count": null,
   "id": "9eeec116",
   "metadata": {},
   "outputs": [],
   "source": []
  },
  {
   "cell_type": "code",
   "execution_count": null,
   "id": "999230e9",
   "metadata": {},
   "outputs": [],
   "source": []
  },
  {
   "cell_type": "code",
   "execution_count": null,
   "id": "d76d640c",
   "metadata": {},
   "outputs": [],
   "source": []
  }
 ],
 "metadata": {
  "kernelspec": {
   "display_name": "Python 3 (ipykernel)",
   "language": "python",
   "name": "python3"
  },
  "language_info": {
   "codemirror_mode": {
    "name": "ipython",
    "version": 3
   },
   "file_extension": ".py",
   "mimetype": "text/x-python",
   "name": "python",
   "nbconvert_exporter": "python",
   "pygments_lexer": "ipython3",
   "version": "3.7.16"
  },
  "vscode": {
   "interpreter": {
    "hash": "4645718d8d6ebdf5e3b33075b5882a83c0f46fd0d977128e214395d6b960dc3e"
   }
  }
 },
 "nbformat": 4,
 "nbformat_minor": 5
}
